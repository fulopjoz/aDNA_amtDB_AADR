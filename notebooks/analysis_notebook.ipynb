{
 "cells": [
  {
   "cell_type": "markdown",
   "metadata": {},
   "source": []
  },
  {
   "cell_type": "code",
   "execution_count": 1,
   "metadata": {},
   "outputs": [],
   "source": [
    "# set dir to /home/dodo/projects/aDNA_Comparative_Analysis\n",
    "import os\n",
    "import pandas as pd\n",
    "os.chdir('../../aDNA_Comparative_Analysis')\n",
    "import re"
   ]
  },
  {
   "cell_type": "code",
   "execution_count": 2,
   "metadata": {},
   "outputs": [],
   "source": [
    "from src.data_loading import load_data, load_mt_dataset\n",
    "from src.data_processing import DataProcessor\n",
    "from src.parsing import match_reich_metadata"
   ]
  },
  {
   "cell_type": "code",
   "execution_count": 3,
   "metadata": {},
   "outputs": [],
   "source": [
    "# metadata_file -> AmtDB csv metadata file\n",
    "# fasta_amtdb -> AmtDB fasta file\n",
    "# anno_file -> Reich annotation file = metadata file\n",
    "# fasta_reich -> Reich fasta file\n",
    "\n",
    "metadata_file = 'data/amtDB/amtdb_metadata.csv'\n",
    "fasta_amtdb = 'data/amtDB/amtdb_1621-samples_7f_a0pkh.fasta'\n",
    "anno_file = 'data/mitogenomes_reich/v54.1.p1_1240K_public/v54.1.p1_1240K_public.anno'\n",
    "fasta_reich = 'data/mitogenomes_reich/mtdna_reich.fasta'\n"
   ]
  },
  {
   "cell_type": "code",
   "execution_count": 4,
   "metadata": {},
   "outputs": [
    {
     "name": "stdout",
     "output_type": "stream",
     "text": [
      "Loading AmtDB metadata from 'data/amtDB/amtdb_metadata.csv' and sequence IDs from 'data/amtDB/amtdb_1621-samples_7f_a0pkh.fasta'...\n",
      "Loaded AmtDB metadata with 2541 records and 1621 sequences.\n",
      "\n",
      "Loading 'Reich mt dataset' from 'data/mitogenomes_reich/mtdna_reich.fasta' and metadata from 'data/mitogenomes_reich/v54.1.p1_1240K_public/v54.1.p1_1240K_public.anno'...\n",
      "Loaded 'Reich mt dataset' with 4122 sequences and metadata with 16388 records.\n",
      "\n"
     ]
    }
   ],
   "source": [
    "meta_amtDB, ids_seq_fasta = load_data(metadata_file, fasta_amtdb)\n",
    "ids_mt_dataset, meta_mt_dataset = load_mt_dataset(fasta_reich, anno_file)\n"
   ]
  },
  {
   "cell_type": "code",
   "execution_count": 5,
   "metadata": {},
   "outputs": [
    {
     "name": "stdout",
     "output_type": "stream",
     "text": [
      "Found 920 missing sequences.\n",
      "\n"
     ]
    }
   ],
   "source": [
    "# Process AmtDB data to find missing sequences\n",
    "processor_amtDB = DataProcessor(meta_amtDB, fasta_amtdb)\n",
    "missing_ids_amtDB = processor_amtDB.find_missing_sequences()\n"
   ]
  },
  {
   "cell_type": "code",
   "execution_count": 6,
   "metadata": {},
   "outputs": [
    {
     "data": {
      "text/plain": [
       "529"
      ]
     },
     "execution_count": 6,
     "metadata": {},
     "output_type": "execute_result"
    }
   ],
   "source": [
    "# intersection of missing sequences in AmtDB and Master ID from meta_mt_dataset\n",
    "missing_ids_amtDB_reich = list(set(missing_ids_amtDB) & set(meta_mt_dataset['Master ID']) )\n",
    "len(missing_ids_amtDB_reich)\n"
   ]
  },
  {
   "cell_type": "code",
   "execution_count": 7,
   "metadata": {},
   "outputs": [
    {
     "name": "stdout",
     "output_type": "stream",
     "text": [
      "Extracting sequences matching the specified IDs from 'data/mitogenomes_reich/mtdna_reich.fasta'...\n",
      "Saved 404 sequences to 'output/missing_sequences_AmtDB.fasta'.\n",
      "\n"
     ]
    }
   ],
   "source": [
    "\n",
    "\n",
    "# Extract missing sequences from the Reich dataset (fasta_reich) and save them\n",
    "output_fasta = \"output/missing_sequences_AmtDB.fasta\"\n",
    "processor_amtDB.extract_and_save_sequences(fasta_reich, missing_ids_amtDB, output_fasta)"
   ]
  },
  {
   "cell_type": "code",
   "execution_count": 8,
   "metadata": {},
   "outputs": [
    {
     "name": "stdout",
     "output_type": "stream",
     "text": [
      "\n",
      "Haplogrep 3 3.2.1\n",
      "(c) 2022-2023 Sebastian Schönherr, Hansi Weissensteiner, Lukas Forer\n",
      "[M::bwa_idx_load_from_disk] read 0 ALT contigs\n",
      "Written haplogroups to file output/analysis_result.hsd\n"
     ]
    }
   ],
   "source": [
    "!haplogrep3 classify --tree phylotree-rcrs@17.0 --in output/missing_sequences_AmtDB.fasta --out output/analysis_result.hsd --extend-report\n"
   ]
  },
  {
   "cell_type": "code",
   "execution_count": 9,
   "metadata": {},
   "outputs": [
    {
     "data": {
      "text/html": [
       "<div>\n",
       "<style scoped>\n",
       "    .dataframe tbody tr th:only-of-type {\n",
       "        vertical-align: middle;\n",
       "    }\n",
       "\n",
       "    .dataframe tbody tr th {\n",
       "        vertical-align: top;\n",
       "    }\n",
       "\n",
       "    .dataframe thead th {\n",
       "        text-align: right;\n",
       "    }\n",
       "</style>\n",
       "<table border=\"1\" class=\"dataframe\">\n",
       "  <thead>\n",
       "    <tr style=\"text-align: right;\">\n",
       "      <th></th>\n",
       "      <th>SampleID</th>\n",
       "      <th>Haplogroup</th>\n",
       "      <th>Rank</th>\n",
       "      <th>Quality</th>\n",
       "      <th>Range</th>\n",
       "      <th>Not_Found_Polys</th>\n",
       "      <th>Found_Polys</th>\n",
       "      <th>Remaining_Polys</th>\n",
       "      <th>AAC_In_Remainings</th>\n",
       "      <th>Input_Sample</th>\n",
       "    </tr>\n",
       "  </thead>\n",
       "  <tbody>\n",
       "    <tr>\n",
       "      <th>0</th>\n",
       "      <td>I0070</td>\n",
       "      <td>H13a1a</td>\n",
       "      <td>1</td>\n",
       "      <td>0.9691</td>\n",
       "      <td>1-16569</td>\n",
       "      <td>NaN</td>\n",
       "      <td>263G 750G 1438G 2259T 4745G 4769G 8860G 13680T...</td>\n",
       "      <td>310C (localPrivateMutation) 3107T (globalPriva...</td>\n",
       "      <td>NaN</td>\n",
       "      <td>263G 310C 750G 1438G 2259T 3107T 4745G 4769G 8...</td>\n",
       "    </tr>\n",
       "    <tr>\n",
       "      <th>1</th>\n",
       "      <td>I0071</td>\n",
       "      <td>U5a1</td>\n",
       "      <td>1</td>\n",
       "      <td>0.9644</td>\n",
       "      <td>1-16569</td>\n",
       "      <td>NaN</td>\n",
       "      <td>73G 263G 750G 1438G 2706G 3197C 4769G 7028T 88...</td>\n",
       "      <td>310C (localPrivateMutation) 3107T (globalPriva...</td>\n",
       "      <td>8705C [M60T| Codon 2 | ATP6 ]</td>\n",
       "      <td>73G 263G 310C 750G 1438G 2706G 3107T 3197C 476...</td>\n",
       "    </tr>\n",
       "  </tbody>\n",
       "</table>\n",
       "</div>"
      ],
      "text/plain": [
       "  SampleID Haplogroup  Rank  Quality    Range Not_Found_Polys  \\\n",
       "0    I0070     H13a1a     1   0.9691  1-16569             NaN   \n",
       "1    I0071       U5a1     1   0.9644  1-16569             NaN   \n",
       "\n",
       "                                         Found_Polys  \\\n",
       "0  263G 750G 1438G 2259T 4745G 4769G 8860G 13680T...   \n",
       "1  73G 263G 750G 1438G 2706G 3197C 4769G 7028T 88...   \n",
       "\n",
       "                                     Remaining_Polys  \\\n",
       "0  310C (localPrivateMutation) 3107T (globalPriva...   \n",
       "1  310C (localPrivateMutation) 3107T (globalPriva...   \n",
       "\n",
       "               AAC_In_Remainings  \\\n",
       "0                            NaN   \n",
       "1  8705C [M60T| Codon 2 | ATP6 ]   \n",
       "\n",
       "                                        Input_Sample  \n",
       "0  263G 310C 750G 1438G 2259T 3107T 4745G 4769G 8...  \n",
       "1  73G 263G 310C 750G 1438G 2706G 3107T 3197C 476...  "
      ]
     },
     "execution_count": 9,
     "metadata": {},
     "output_type": "execute_result"
    }
   ],
   "source": [
    "# load analysis_result.hsd\n",
    "analysis_result = pd.read_csv('output/analysis_result.hsd', sep='\\t')\n",
    "analysis_result.head(2)\n"
   ]
  },
  {
   "cell_type": "code",
   "execution_count": 10,
   "metadata": {},
   "outputs": [
    {
     "data": {
      "text/plain": [
       "Index(['SampleID', 'Haplogroup', 'Rank', 'Quality', 'Range', 'Not_Found_Polys',\n",
       "       'Found_Polys', 'Remaining_Polys', 'AAC_In_Remainings', 'Input_Sample'],\n",
       "      dtype='object')"
      ]
     },
     "execution_count": 10,
     "metadata": {},
     "output_type": "execute_result"
    }
   ],
   "source": [
    "# columns\n",
    "analysis_result.columns\n"
   ]
  },
  {
   "cell_type": "code",
   "execution_count": 11,
   "metadata": {},
   "outputs": [],
   "source": [
    "\n",
    "# Rename 'SampleID' column to 'ID'\n",
    "analysis_result.rename(columns={'SampleID': 'ID'}, inplace=True)\n"
   ]
  },
  {
   "cell_type": "code",
   "execution_count": 12,
   "metadata": {},
   "outputs": [],
   "source": [
    "# Use 'Found_Polys' as the 'Polymorphisms' column directly\n",
    "# Assuming 'Found_Polys' accurately represents the polymorphisms we want to include\n",
    "# If a combination of columns is needed, you may need to concatenate them appropriately here\n",
    "analysis_result['Polymorphisms'] = analysis_result['Found_Polys']"
   ]
  },
  {
   "cell_type": "code",
   "execution_count": 13,
   "metadata": {},
   "outputs": [
    {
     "name": "stdout",
     "output_type": "stream",
     "text": [
      "\n",
      "###########################################################################\n",
      "# MitoPathoPy - Tool for annotating pathological mutations in human mtDNA #\n",
      "###########################################################################\n",
      "Author: Edvard Ehler, PhD (edvard.ehler@img.cas.cz)\n",
      "Year: 2020\n",
      "Source: https://github.com/EdaEhler/MitoPathoPy\n",
      "\n",
      "This tool will search for the (potential) pathological mutations in you mtDNA samples. To get the right input format, please, use the Haplogrep 2 (https://haplogrep.i-med.ac.at/app/index.html) tool to turn your sequences (fastas) into HSD format file. Haplogrep can be also downloaded and run localy (https://github.com/seppinho/haplogrep-cmd). Pathological mtDNA mutations are taken from data published at https://www.mitomap.org/MITOMAP.\n",
      "\n",
      "We invite you to check our ancient mtDNA database at: https://amtdb.org/\n",
      "\n",
      "If you use this tool in you research, please, consider citing our article:\n",
      "Ehler E, Novotný J, Juras A, Chyleński M, Moravčík O, Pačes J. AmtDB: a database of ancient human mitochondrial genomes. Nucleic acids research. 2019 Jan 8;47(D1):D29-32.\n",
      "\n",
      "###########################################################################\n",
      "    \n"
     ]
    }
   ],
   "source": [
    "!python3 mitopatho/mitopatho.py -i output/processed_haplogroups.hsd -o output/mitopatho_output.txt\n"
   ]
  },
  {
   "cell_type": "code",
   "execution_count": 14,
   "metadata": {},
   "outputs": [],
   "source": [
    "# load mitopatho_output.txt\n",
    "mitopatho_output = pd.read_csv('output/mitopatho_output.txt', sep='\\t')\n"
   ]
  },
  {
   "cell_type": "code",
   "execution_count": 15,
   "metadata": {},
   "outputs": [
    {
     "data": {
      "text/plain": [
       "'11467G,Altered brain pH / sCJD patients,Reported;12308G,CPEO / Stroke / CM / Breast & Renal & Prostate Cancer Risk / Altered brain pH /sCJD,Reported;12372A,Altered brain pH / sCJD patients,Reported;16192T,Melanoma patients,Reported;16270T,Melanoma patients,Reported'"
      ]
     },
     "execution_count": 15,
     "metadata": {},
     "output_type": "execute_result"
    }
   ],
   "source": [
    "# pprint first two rows of the DataFrame but full data \n",
    "id_1 = mitopatho_output[mitopatho_output['ID'] == 'I0071']\n",
    "# print second column of the first row\n",
    "id_1.iloc[0, 1]"
   ]
  },
  {
   "cell_type": "code",
   "execution_count": 16,
   "metadata": {},
   "outputs": [
    {
     "name": "stdout",
     "output_type": "stream",
     "text": [
      "Found 920 missing sequences.\n",
      "\n",
      "Loading 'Reich mt dataset' from 'data/mitogenomes_reich/mtdna_reich.fasta' and metadata from 'data/mitogenomes_reich/v54.1.p1_1240K_public/v54.1.p1_1240K_public.anno'...\n",
      "Loaded 'Reich mt dataset' with 4122 sequences and metadata with 16388 records.\n",
      "\n"
     ]
    }
   ],
   "source": [
    "missing_ids_amtDB = processor_amtDB.find_missing_sequences()\n",
    "ids_mt_dataset, meta_mt_dataset = load_mt_dataset(fasta_reich, anno_file)\n"
   ]
  },
  {
   "cell_type": "code",
   "execution_count": 17,
   "metadata": {},
   "outputs": [
    {
     "data": {
      "text/plain": [
       "529"
      ]
     },
     "execution_count": 17,
     "metadata": {},
     "output_type": "execute_result"
    }
   ],
   "source": [
    "# how many missing_ids_amtDB in the reich dataset\n",
    "missing_ids_amtDB_in_reich = [id for id in missing_ids_amtDB if id in meta_mt_dataset['Master ID'].values]\n",
    "len(missing_ids_amtDB_in_reich)\n"
   ]
  },
  {
   "cell_type": "code",
   "execution_count": 18,
   "metadata": {},
   "outputs": [
    {
     "name": "stdout",
     "output_type": "stream",
     "text": [
      "Reading Reich metadata...\n",
      "Reich metadata has 16388 rows.\n",
      "MitoPatho data has 1709 rows.\n",
      "Processed 561 out of 920 missing IDs.\n",
      "Total matched rows: 561\n"
     ]
    }
   ],
   "source": [
    "# Example of how to call the function with paths to your CSV files\n",
    "reich_meta_file_path = 'data/mitogenomes_reich/v54.1.p1_1240K_public/v54.1.p1_1240K_public.anno'\n",
    "mitopatho_csv_path = 'output/AmtDB MitoPathoTool.csv'\n",
    "missing_ids = missing_ids_amtDB\n",
    "\n",
    "# Now, match metadata with the updated function that includes MitoPatho data\n",
    "matched_metadata_df = match_reich_metadata(reich_meta_file_path, missing_ids, mitopatho_csv_path)\n",
    "print(f\"Total matched rows: {len(matched_metadata_df)}\")\n"
   ]
  },
  {
   "cell_type": "code",
   "execution_count": 19,
   "metadata": {},
   "outputs": [],
   "source": [
    "#  save the matched metadata to a file\n",
    "matched_metadata_df.to_csv('output/matched_metadata.csv', index=False)"
   ]
  }
 ],
 "metadata": {
  "kernelspec": {
   "display_name": "aDNA_env",
   "language": "python",
   "name": "python3"
  },
  "language_info": {
   "codemirror_mode": {
    "name": "ipython",
    "version": 3
   },
   "file_extension": ".py",
   "mimetype": "text/x-python",
   "name": "python",
   "nbconvert_exporter": "python",
   "pygments_lexer": "ipython3",
   "version": "3.12.2"
  }
 },
 "nbformat": 4,
 "nbformat_minor": 2
}
