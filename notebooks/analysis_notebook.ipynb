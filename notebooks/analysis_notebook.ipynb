{
 "cells": [
  {
   "cell_type": "markdown",
   "metadata": {},
   "source": []
  },
  {
   "cell_type": "code",
   "execution_count": 1,
   "metadata": {},
   "outputs": [],
   "source": [
    "# set dir to /home/dodo/projects/aDNA_Comparative_Analysis\n",
    "import os\n",
    "import pandas as pd\n",
    "os.chdir('/home/dodo/projects/aDNA_Comparative_Analysis')"
   ]
  },
  {
   "cell_type": "code",
   "execution_count": 2,
   "metadata": {},
   "outputs": [],
   "source": [
    "from src.data_loading import load_data, load_mt_dataset\n",
    "from src.data_processing import DataProcessor, MetadataMatcher"
   ]
  },
  {
   "cell_type": "code",
   "execution_count": 3,
   "metadata": {},
   "outputs": [],
   "source": [
    "# metadata_file -> AmtDB csv metadata file\n",
    "# fasta_amtdb -> AmtDB fasta file\n",
    "# anno_file -> Reich annotation file = metadata file\n",
    "# fasta_reich -> Reich fasta file\n",
    "\n",
    "metadata_file = 'data/amtDB/amtdb_metadata.csv'\n",
    "fasta_amtdb = 'data/amtDB/amtdb_1621-samples_7f_a0pkh.fasta'\n",
    "anno_file = 'data/mitogenomes_reich/v54.1.p1_1240K_public/v54.1.p1_1240K_public.anno'\n",
    "fasta_reich = 'data/mitogenomes_reich/mtdna_reich.fasta'\n"
   ]
  },
  {
   "cell_type": "code",
   "execution_count": 4,
   "metadata": {},
   "outputs": [
    {
     "name": "stdout",
     "output_type": "stream",
     "text": [
      "Loading AmtDB metadata from 'data/amtDB/amtdb_metadata.csv' and sequence IDs from 'data/amtDB/amtdb_1621-samples_7f_a0pkh.fasta'...\n",
      "Loaded AmtDB metadata with 2541 records and 1621 sequences.\n",
      "\n",
      "Loading 'Reich mt dataset' from 'data/mitogenomes_reich/mtdna_reich.fasta' and metadata from 'data/mitogenomes_reich/v54.1.p1_1240K_public/v54.1.p1_1240K_public.anno'...\n",
      "Loaded 'Reich mt dataset' with 4122 sequences and metadata with 16388 records.\n",
      "\n"
     ]
    }
   ],
   "source": [
    "meta_amtDB, ids_seq_fasta = load_data(metadata_file, fasta_amtdb)\n",
    "ids_mt_dataset, meta_mt_dataset = load_mt_dataset(fasta_reich, anno_file)\n"
   ]
  },
  {
   "cell_type": "code",
   "execution_count": 5,
   "metadata": {},
   "outputs": [
    {
     "data": {
      "text/html": [
       "<div>\n",
       "<style scoped>\n",
       "    .dataframe tbody tr th:only-of-type {\n",
       "        vertical-align: middle;\n",
       "    }\n",
       "\n",
       "    .dataframe tbody tr th {\n",
       "        vertical-align: top;\n",
       "    }\n",
       "\n",
       "    .dataframe thead th {\n",
       "        text-align: right;\n",
       "    }\n",
       "</style>\n",
       "<table border=\"1\" class=\"dataframe\">\n",
       "  <thead>\n",
       "    <tr style=\"text-align: right;\">\n",
       "      <th></th>\n",
       "      <th>identifier</th>\n",
       "      <th>alternative_identifiers</th>\n",
       "      <th>country</th>\n",
       "      <th>continent</th>\n",
       "      <th>region</th>\n",
       "      <th>culture</th>\n",
       "      <th>epoch</th>\n",
       "      <th>group</th>\n",
       "      <th>comment</th>\n",
       "      <th>latitude</th>\n",
       "      <th>...</th>\n",
       "      <th>ychr_snps</th>\n",
       "      <th>avg_coverage</th>\n",
       "      <th>sequence_source</th>\n",
       "      <th>mitopatho_alleles</th>\n",
       "      <th>mitopatho_positions</th>\n",
       "      <th>mitopatho_locus</th>\n",
       "      <th>mitopatho_diseases</th>\n",
       "      <th>mitopatho_statuses</th>\n",
       "      <th>mitopatho_homoplasms</th>\n",
       "      <th>mitopatho_heteroplasms</th>\n",
       "    </tr>\n",
       "  </thead>\n",
       "  <tbody>\n",
       "    <tr>\n",
       "      <th>0</th>\n",
       "      <td>RISE509</td>\n",
       "      <td>1622</td>\n",
       "      <td>Russia</td>\n",
       "      <td>Asia</td>\n",
       "      <td>Altai</td>\n",
       "      <td>Afanasievo</td>\n",
       "      <td>Bronze Age</td>\n",
       "      <td>BARu</td>\n",
       "      <td>NaN</td>\n",
       "      <td>54.580002</td>\n",
       "      <td>...</td>\n",
       "      <td>NaN</td>\n",
       "      <td>0.0</td>\n",
       "      <td>bam</td>\n",
       "      <td>NaN</td>\n",
       "      <td>NaN</td>\n",
       "      <td>NaN</td>\n",
       "      <td>NaN</td>\n",
       "      <td>NaN</td>\n",
       "      <td>NaN</td>\n",
       "      <td>NaN</td>\n",
       "    </tr>\n",
       "    <tr>\n",
       "      <th>1</th>\n",
       "      <td>RISE510</td>\n",
       "      <td>NaN</td>\n",
       "      <td>Russia</td>\n",
       "      <td>Asia</td>\n",
       "      <td>Altai</td>\n",
       "      <td>Afanasievo</td>\n",
       "      <td>Bronze Age</td>\n",
       "      <td>BARu</td>\n",
       "      <td>NaN</td>\n",
       "      <td>54.580002</td>\n",
       "      <td>...</td>\n",
       "      <td>NaN</td>\n",
       "      <td>0.0</td>\n",
       "      <td>bam</td>\n",
       "      <td>12705T</td>\n",
       "      <td>12705</td>\n",
       "      <td>MT-CO1</td>\n",
       "      <td>Possible protective factor for normal tension ...</td>\n",
       "      <td>Reported</td>\n",
       "      <td>NaN</td>\n",
       "      <td>NaN</td>\n",
       "    </tr>\n",
       "  </tbody>\n",
       "</table>\n",
       "<p>2 rows × 36 columns</p>\n",
       "</div>"
      ],
      "text/plain": [
       "  identifier alternative_identifiers country continent region     culture  \\\n",
       "0    RISE509                    1622  Russia      Asia  Altai  Afanasievo   \n",
       "1    RISE510                     NaN  Russia      Asia  Altai  Afanasievo   \n",
       "\n",
       "        epoch group comment   latitude  ...  ychr_snps avg_coverage  \\\n",
       "0  Bronze Age  BARu     NaN  54.580002  ...        NaN          0.0   \n",
       "1  Bronze Age  BARu     NaN  54.580002  ...        NaN          0.0   \n",
       "\n",
       "  sequence_source mitopatho_alleles mitopatho_positions mitopatho_locus  \\\n",
       "0             bam               NaN                 NaN             NaN   \n",
       "1             bam            12705T               12705          MT-CO1   \n",
       "\n",
       "                                  mitopatho_diseases  mitopatho_statuses  \\\n",
       "0                                                NaN                 NaN   \n",
       "1  Possible protective factor for normal tension ...            Reported   \n",
       "\n",
       "  mitopatho_homoplasms mitopatho_heteroplasms  \n",
       "0                  NaN                    NaN  \n",
       "1                  NaN                    NaN  \n",
       "\n",
       "[2 rows x 36 columns]"
      ]
     },
     "execution_count": 5,
     "metadata": {},
     "output_type": "execute_result"
    }
   ],
   "source": [
    "meta_amtDB.head(2)"
   ]
  },
  {
   "cell_type": "code",
   "execution_count": 6,
   "metadata": {},
   "outputs": [
    {
     "name": "stdout",
     "output_type": "stream",
     "text": [
      "Found 920 missing sequences.\n",
      "\n"
     ]
    }
   ],
   "source": [
    "\n",
    "\n",
    "# Process AmtDB data to find missing sequences\n",
    "processor_amtDB = DataProcessor(meta_amtDB, fasta_amtdb)\n",
    "missing_ids_amtDB = processor_amtDB.find_missing_sequences()"
   ]
  },
  {
   "cell_type": "code",
   "execution_count": 7,
   "metadata": {},
   "outputs": [
    {
     "name": "stdout",
     "output_type": "stream",
     "text": [
      "Extracting sequences matching the specified IDs from 'data/mitogenomes_reich/mtdna_reich.fasta'...\n",
      "Saved 404 sequences to 'output/missing_sequences_AmtDB.fasta'.\n",
      "\n"
     ]
    }
   ],
   "source": [
    "\n",
    "\n",
    "# Extract missing sequences from the Reich dataset (fasta_reich) and save them\n",
    "output_fasta = \"output/missing_sequences_AmtDB.fasta\"\n",
    "processor_amtDB.extract_and_save_sequences(fasta_reich, missing_ids_amtDB, output_fasta)"
   ]
  },
  {
   "cell_type": "code",
   "execution_count": 8,
   "metadata": {},
   "outputs": [
    {
     "name": "stdout",
     "output_type": "stream",
     "text": [
      "\n",
      "Haplogrep 3 3.2.1\n",
      "(c) 2022-2023 Sebastian Schönherr, Hansi Weissensteiner, Lukas Forer\n",
      "[M::bwa_idx_load_from_disk] read 0 ALT contigs\n"
     ]
    }
   ],
   "source": [
    "!haplogrep3 classify --tree phylotree-rcrs@17.0 --in output/missing_sequences_AmtDB.fasta --out output/analysis_result.hsd --extend-report\n"
   ]
  },
  {
   "cell_type": "code",
   "execution_count": null,
   "metadata": {},
   "outputs": [
    {
     "data": {
      "text/html": [
       "<div>\n",
       "<style scoped>\n",
       "    .dataframe tbody tr th:only-of-type {\n",
       "        vertical-align: middle;\n",
       "    }\n",
       "\n",
       "    .dataframe tbody tr th {\n",
       "        vertical-align: top;\n",
       "    }\n",
       "\n",
       "    .dataframe thead th {\n",
       "        text-align: right;\n",
       "    }\n",
       "</style>\n",
       "<table border=\"1\" class=\"dataframe\">\n",
       "  <thead>\n",
       "    <tr style=\"text-align: right;\">\n",
       "      <th></th>\n",
       "      <th>SampleID</th>\n",
       "      <th>Haplogroup</th>\n",
       "      <th>Rank</th>\n",
       "      <th>Quality</th>\n",
       "      <th>Range</th>\n",
       "      <th>Not_Found_Polys</th>\n",
       "      <th>Found_Polys</th>\n",
       "      <th>Remaining_Polys</th>\n",
       "      <th>AAC_In_Remainings</th>\n",
       "      <th>Input_Sample</th>\n",
       "    </tr>\n",
       "  </thead>\n",
       "  <tbody>\n",
       "    <tr>\n",
       "      <th>0</th>\n",
       "      <td>I0070</td>\n",
       "      <td>H13a1a</td>\n",
       "      <td>1</td>\n",
       "      <td>0.9691</td>\n",
       "      <td>1-16569</td>\n",
       "      <td>NaN</td>\n",
       "      <td>263G 750G 1438G 2259T 4745G 4769G 8860G 13680T...</td>\n",
       "      <td>310C (localPrivateMutation) 3107T (globalPriva...</td>\n",
       "      <td>NaN</td>\n",
       "      <td>263G 310C 750G 1438G 2259T 3107T 4745G 4769G 8...</td>\n",
       "    </tr>\n",
       "    <tr>\n",
       "      <th>1</th>\n",
       "      <td>I0071</td>\n",
       "      <td>U5a1</td>\n",
       "      <td>1</td>\n",
       "      <td>0.9644</td>\n",
       "      <td>1-16569</td>\n",
       "      <td>NaN</td>\n",
       "      <td>73G 263G 750G 1438G 2706G 3197C 4769G 7028T 88...</td>\n",
       "      <td>310C (localPrivateMutation) 3107T (globalPriva...</td>\n",
       "      <td>8705C [M60T| Codon 2 | ATP6 ]</td>\n",
       "      <td>73G 263G 310C 750G 1438G 2706G 3107T 3197C 476...</td>\n",
       "    </tr>\n",
       "  </tbody>\n",
       "</table>\n",
       "</div>"
      ],
      "text/plain": [
       "  SampleID Haplogroup  Rank  Quality    Range Not_Found_Polys  \\\n",
       "0    I0070     H13a1a     1   0.9691  1-16569             NaN   \n",
       "1    I0071       U5a1     1   0.9644  1-16569             NaN   \n",
       "\n",
       "                                         Found_Polys  \\\n",
       "0  263G 750G 1438G 2259T 4745G 4769G 8860G 13680T...   \n",
       "1  73G 263G 750G 1438G 2706G 3197C 4769G 7028T 88...   \n",
       "\n",
       "                                     Remaining_Polys  \\\n",
       "0  310C (localPrivateMutation) 3107T (globalPriva...   \n",
       "1  310C (localPrivateMutation) 3107T (globalPriva...   \n",
       "\n",
       "               AAC_In_Remainings  \\\n",
       "0                            NaN   \n",
       "1  8705C [M60T| Codon 2 | ATP6 ]   \n",
       "\n",
       "                                        Input_Sample  \n",
       "0  263G 310C 750G 1438G 2259T 3107T 4745G 4769G 8...  \n",
       "1  73G 263G 310C 750G 1438G 2706G 3107T 3197C 476...  "
      ]
     },
     "execution_count": 10,
     "metadata": {},
     "output_type": "execute_result"
    }
   ],
   "source": [
    "# load analysis_result.hsd\n",
    "analysis_result = pd.read_csv('output/analysis_result.hsd', sep='\\t')\n",
    "analysis_result.head(2)\n"
   ]
  },
  {
   "cell_type": "code",
   "execution_count": null,
   "metadata": {},
   "outputs": [
    {
     "data": {
      "text/plain": [
       "Index(['SampleID', 'Haplogroup', 'Rank', 'Quality', 'Range', 'Not_Found_Polys',\n",
       "       'Found_Polys', 'Remaining_Polys', 'AAC_In_Remainings', 'Input_Sample'],\n",
       "      dtype='object')"
      ]
     },
     "execution_count": 11,
     "metadata": {},
     "output_type": "execute_result"
    }
   ],
   "source": [
    "# columns\n",
    "analysis_result.columns\n"
   ]
  },
  {
   "cell_type": "code",
   "execution_count": null,
   "metadata": {},
   "outputs": [],
   "source": [
    "\n",
    "# Rename 'SampleID' column to 'ID'\n",
    "analysis_result.rename(columns={'SampleID': 'ID'}, inplace=True)\n"
   ]
  },
  {
   "cell_type": "code",
   "execution_count": null,
   "metadata": {},
   "outputs": [],
   "source": [
    "# Use 'Found_Polys' as the 'Polymorphisms' column directly\n",
    "# Assuming 'Found_Polys' accurately represents the polymorphisms we want to include\n",
    "# If a combination of columns is needed, you may need to concatenate them appropriately here\n",
    "analysis_result['Polymorphisms'] = analysis_result['Found_Polys']"
   ]
  },
  {
   "cell_type": "code",
   "execution_count": null,
   "metadata": {},
   "outputs": [
    {
     "data": {
      "text/html": [
       "<div>\n",
       "<style scoped>\n",
       "    .dataframe tbody tr th:only-of-type {\n",
       "        vertical-align: middle;\n",
       "    }\n",
       "\n",
       "    .dataframe tbody tr th {\n",
       "        vertical-align: top;\n",
       "    }\n",
       "\n",
       "    .dataframe thead th {\n",
       "        text-align: right;\n",
       "    }\n",
       "</style>\n",
       "<table border=\"1\" class=\"dataframe\">\n",
       "  <thead>\n",
       "    <tr style=\"text-align: right;\">\n",
       "      <th></th>\n",
       "      <th>ID</th>\n",
       "      <th>Range</th>\n",
       "      <th>Haplogroup</th>\n",
       "      <th>Polymorphisms</th>\n",
       "    </tr>\n",
       "  </thead>\n",
       "  <tbody>\n",
       "    <tr>\n",
       "      <th>0</th>\n",
       "      <td>I0070</td>\n",
       "      <td>1-16569</td>\n",
       "      <td>H13a1a</td>\n",
       "      <td>263G 750G 1438G 2259T 4745G 4769G 8860G 13680T...</td>\n",
       "    </tr>\n",
       "    <tr>\n",
       "      <th>1</th>\n",
       "      <td>I0071</td>\n",
       "      <td>1-16569</td>\n",
       "      <td>U5a1</td>\n",
       "      <td>73G 263G 750G 1438G 2706G 3197C 4769G 7028T 88...</td>\n",
       "    </tr>\n",
       "    <tr>\n",
       "      <th>2</th>\n",
       "      <td>I0073</td>\n",
       "      <td>1-16569</td>\n",
       "      <td>H</td>\n",
       "      <td>263G 750G 1438G 4769G 8860G 15326G</td>\n",
       "    </tr>\n",
       "    <tr>\n",
       "      <th>3</th>\n",
       "      <td>I0074</td>\n",
       "      <td>1-16569</td>\n",
       "      <td>H5</td>\n",
       "      <td>263G 456T 750G 1438G 4769G 8860G 15326G 16304C</td>\n",
       "    </tr>\n",
       "    <tr>\n",
       "      <th>4</th>\n",
       "      <td>I0108</td>\n",
       "      <td>3-16568 16570-16569 1-16569</td>\n",
       "      <td>H5a3</td>\n",
       "      <td>263G 456T 513A 750G 1438G 4336C 4769G 8860G 15...</td>\n",
       "    </tr>\n",
       "  </tbody>\n",
       "</table>\n",
       "</div>"
      ],
      "text/plain": [
       "      ID                        Range Haplogroup  \\\n",
       "0  I0070                      1-16569     H13a1a   \n",
       "1  I0071                      1-16569       U5a1   \n",
       "2  I0073                      1-16569          H   \n",
       "3  I0074                      1-16569         H5   \n",
       "4  I0108  3-16568 16570-16569 1-16569       H5a3   \n",
       "\n",
       "                                       Polymorphisms  \n",
       "0  263G 750G 1438G 2259T 4745G 4769G 8860G 13680T...  \n",
       "1  73G 263G 750G 1438G 2706G 3197C 4769G 7028T 88...  \n",
       "2                 263G 750G 1438G 4769G 8860G 15326G  \n",
       "3     263G 456T 750G 1438G 4769G 8860G 15326G 16304C  \n",
       "4  263G 456T 513A 750G 1438G 4336C 4769G 8860G 15...  "
      ]
     },
     "execution_count": 14,
     "metadata": {},
     "output_type": "execute_result"
    }
   ],
   "source": [
    "# Ensure the columns are in the correct order: ['ID', 'Range', 'Haplogroup', 'Polymorphisms']\n",
    "# Selecting the necessary columns and ensuring they are in the right order\n",
    "hsd_df = analysis_result[['ID', 'Range', 'Haplogroup', 'Polymorphisms']]\n",
    "\n",
    "# Display the first few rows of the transformed DataFrame to verify its structure\n",
    "hsd_df.head()\n",
    "\n"
   ]
  },
  {
   "cell_type": "code",
   "execution_count": null,
   "metadata": {},
   "outputs": [],
   "source": [
    "# Save the transformed DataFrame to a new CSV file in HSD format\n",
    "hsd_df.to_csv('output/processed_haplogroups.hsd', sep='\\t', index=False)"
   ]
  }
 ],
 "metadata": {
  "kernelspec": {
   "display_name": "aDNA_env",
   "language": "python",
   "name": "python3"
  },
  "language_info": {
   "codemirror_mode": {
    "name": "ipython",
    "version": 3
   },
   "file_extension": ".py",
   "mimetype": "text/x-python",
   "name": "python",
   "nbconvert_exporter": "python",
   "pygments_lexer": "ipython3",
   "version": "3.12.2"
  }
 },
 "nbformat": 4,
 "nbformat_minor": 2
}
