{
 "cells": [
  {
   "cell_type": "markdown",
   "metadata": {},
   "source": []
  },
  {
   "cell_type": "code",
   "execution_count": 1,
   "metadata": {},
   "outputs": [],
   "source": [
    "# set dir to /home/dodo/projects/aDNA_Comparative_Analysis\n",
    "import os\n",
    "import pandas as pd\n",
    "os.chdir('/home/dodo/projects/aDNA_Comparative_Analysis')"
   ]
  },
  {
   "cell_type": "code",
   "execution_count": 2,
   "metadata": {},
   "outputs": [],
   "source": [
    "from src.data_loading import load_data, load_mt_dataset\n",
    "from src.data_processing import DataProcessor, MetadataMatcher"
   ]
  },
  {
   "cell_type": "code",
   "execution_count": 3,
   "metadata": {},
   "outputs": [],
   "source": [
    "# metadata_file -> AmtDB csv metadata file\n",
    "# fasta_amtdb -> AmtDB fasta file\n",
    "# anno_file -> Reich annotation file = metadata file\n",
    "# fasta_reich -> Reich fasta file\n",
    "\n",
    "metadata_file = 'data/amtDB/amtdb_metadata.csv'\n",
    "fasta_amtdb = 'data/amtDB/amtdb_1621-samples_7f_a0pkh.fasta'\n",
    "anno_file = 'data/mitogenomes_reich/v54.1.p1_1240K_public/v54.1.p1_1240K_public.anno'\n",
    "fasta_reich = 'data/mitogenomes_reich/mtdna_reich.fasta'\n"
   ]
  },
  {
   "cell_type": "code",
   "execution_count": 4,
   "metadata": {},
   "outputs": [
    {
     "name": "stdout",
     "output_type": "stream",
     "text": [
      "Loading AmtDB metadata from 'data/amtDB/amtdb_metadata.csv' and sequence IDs from 'data/amtDB/amtdb_1621-samples_7f_a0pkh.fasta'...\n",
      "Loaded AmtDB metadata with 2541 records and 1621 sequences.\n",
      "\n",
      "Loading 'Reich mt dataset' from 'data/mitogenomes_reich/mtdna_reich.fasta' and metadata from 'data/mitogenomes_reich/v54.1.p1_1240K_public/v54.1.p1_1240K_public.anno'...\n",
      "Loaded 'Reich mt dataset' with 4122 sequences and metadata with 16388 records.\n",
      "\n"
     ]
    }
   ],
   "source": [
    "meta_amtDB, ids_seq_fasta = load_data(metadata_file, fasta_amtdb)\n",
    "ids_mt_dataset, meta_mt_dataset = load_mt_dataset(fasta_reich, anno_file)\n"
   ]
  },
  {
   "cell_type": "code",
   "execution_count": 5,
   "metadata": {},
   "outputs": [
    {
     "data": {
      "text/html": [
       "<div>\n",
       "<style scoped>\n",
       "    .dataframe tbody tr th:only-of-type {\n",
       "        vertical-align: middle;\n",
       "    }\n",
       "\n",
       "    .dataframe tbody tr th {\n",
       "        vertical-align: top;\n",
       "    }\n",
       "\n",
       "    .dataframe thead th {\n",
       "        text-align: right;\n",
       "    }\n",
       "</style>\n",
       "<table border=\"1\" class=\"dataframe\">\n",
       "  <thead>\n",
       "    <tr style=\"text-align: right;\">\n",
       "      <th></th>\n",
       "      <th>identifier</th>\n",
       "      <th>alternative_identifiers</th>\n",
       "      <th>country</th>\n",
       "      <th>continent</th>\n",
       "      <th>region</th>\n",
       "      <th>culture</th>\n",
       "      <th>epoch</th>\n",
       "      <th>group</th>\n",
       "      <th>comment</th>\n",
       "      <th>latitude</th>\n",
       "      <th>...</th>\n",
       "      <th>ychr_snps</th>\n",
       "      <th>avg_coverage</th>\n",
       "      <th>sequence_source</th>\n",
       "      <th>mitopatho_alleles</th>\n",
       "      <th>mitopatho_positions</th>\n",
       "      <th>mitopatho_locus</th>\n",
       "      <th>mitopatho_diseases</th>\n",
       "      <th>mitopatho_statuses</th>\n",
       "      <th>mitopatho_homoplasms</th>\n",
       "      <th>mitopatho_heteroplasms</th>\n",
       "    </tr>\n",
       "  </thead>\n",
       "  <tbody>\n",
       "    <tr>\n",
       "      <th>0</th>\n",
       "      <td>RISE509</td>\n",
       "      <td>1622</td>\n",
       "      <td>Russia</td>\n",
       "      <td>Asia</td>\n",
       "      <td>Altai</td>\n",
       "      <td>Afanasievo</td>\n",
       "      <td>Bronze Age</td>\n",
       "      <td>BARu</td>\n",
       "      <td>NaN</td>\n",
       "      <td>54.580002</td>\n",
       "      <td>...</td>\n",
       "      <td>NaN</td>\n",
       "      <td>0.0</td>\n",
       "      <td>bam</td>\n",
       "      <td>NaN</td>\n",
       "      <td>NaN</td>\n",
       "      <td>NaN</td>\n",
       "      <td>NaN</td>\n",
       "      <td>NaN</td>\n",
       "      <td>NaN</td>\n",
       "      <td>NaN</td>\n",
       "    </tr>\n",
       "    <tr>\n",
       "      <th>1</th>\n",
       "      <td>RISE510</td>\n",
       "      <td>NaN</td>\n",
       "      <td>Russia</td>\n",
       "      <td>Asia</td>\n",
       "      <td>Altai</td>\n",
       "      <td>Afanasievo</td>\n",
       "      <td>Bronze Age</td>\n",
       "      <td>BARu</td>\n",
       "      <td>NaN</td>\n",
       "      <td>54.580002</td>\n",
       "      <td>...</td>\n",
       "      <td>NaN</td>\n",
       "      <td>0.0</td>\n",
       "      <td>bam</td>\n",
       "      <td>12705T</td>\n",
       "      <td>12705</td>\n",
       "      <td>MT-CO1</td>\n",
       "      <td>Possible protective factor for normal tension ...</td>\n",
       "      <td>Reported</td>\n",
       "      <td>NaN</td>\n",
       "      <td>NaN</td>\n",
       "    </tr>\n",
       "  </tbody>\n",
       "</table>\n",
       "<p>2 rows × 36 columns</p>\n",
       "</div>"
      ],
      "text/plain": [
       "  identifier alternative_identifiers country continent region     culture  \\\n",
       "0    RISE509                    1622  Russia      Asia  Altai  Afanasievo   \n",
       "1    RISE510                     NaN  Russia      Asia  Altai  Afanasievo   \n",
       "\n",
       "        epoch group comment   latitude  ...  ychr_snps avg_coverage  \\\n",
       "0  Bronze Age  BARu     NaN  54.580002  ...        NaN          0.0   \n",
       "1  Bronze Age  BARu     NaN  54.580002  ...        NaN          0.0   \n",
       "\n",
       "  sequence_source mitopatho_alleles mitopatho_positions mitopatho_locus  \\\n",
       "0             bam               NaN                 NaN             NaN   \n",
       "1             bam            12705T               12705          MT-CO1   \n",
       "\n",
       "                                  mitopatho_diseases  mitopatho_statuses  \\\n",
       "0                                                NaN                 NaN   \n",
       "1  Possible protective factor for normal tension ...            Reported   \n",
       "\n",
       "  mitopatho_homoplasms mitopatho_heteroplasms  \n",
       "0                  NaN                    NaN  \n",
       "1                  NaN                    NaN  \n",
       "\n",
       "[2 rows x 36 columns]"
      ]
     },
     "execution_count": 5,
     "metadata": {},
     "output_type": "execute_result"
    }
   ],
   "source": [
    "meta_amtDB.head(2)"
   ]
  },
  {
   "cell_type": "code",
   "execution_count": 6,
   "metadata": {},
   "outputs": [
    {
     "name": "stdout",
     "output_type": "stream",
     "text": [
      "Found 920 missing sequences.\n",
      "\n"
     ]
    }
   ],
   "source": [
    "\n",
    "\n",
    "# Process AmtDB data to find missing sequences\n",
    "processor_amtDB = DataProcessor(meta_amtDB, fasta_amtdb)\n",
    "missing_ids_amtDB = processor_amtDB.find_missing_sequences()"
   ]
  },
  {
   "cell_type": "code",
   "execution_count": 7,
   "metadata": {},
   "outputs": [
    {
     "name": "stdout",
     "output_type": "stream",
     "text": [
      "Extracting sequences matching the specified IDs from 'data/mitogenomes_reich/mtdna_reich.fasta'...\n",
      "Saved 404 sequences to 'output/missing_sequences_AmtDB.fasta'.\n",
      "\n"
     ]
    }
   ],
   "source": [
    "\n",
    "\n",
    "# Extract missing sequences from the Reich dataset (fasta_reich) and save them\n",
    "output_fasta = \"output/missing_sequences_AmtDB.fasta\"\n",
    "processor_amtDB.extract_and_save_sequences(fasta_reich, missing_ids_amtDB, output_fasta)"
   ]
  },
  {
   "cell_type": "code",
   "execution_count": 8,
   "metadata": {},
   "outputs": [
    {
     "name": "stdout",
     "output_type": "stream",
     "text": [
      "\n",
      "Haplogrep 3 3.2.1\n",
      "(c) 2022-2023 Sebastian Schönherr, Hansi Weissensteiner, Lukas Forer\n",
      "[M::bwa_idx_load_from_disk] read 0 ALT contigs\n",
      "Written haplogroups to file output/analysis_result.hsd\n"
     ]
    }
   ],
   "source": [
    "!haplogrep3 classify --tree phylotree-rcrs@17.0 --in output/missing_sequences_AmtDB.fasta --out output/analysis_result.hsd --extend-report\n"
   ]
  },
  {
   "cell_type": "code",
   "execution_count": 9,
   "metadata": {},
   "outputs": [
    {
     "data": {
      "text/html": [
       "<div>\n",
       "<style scoped>\n",
       "    .dataframe tbody tr th:only-of-type {\n",
       "        vertical-align: middle;\n",
       "    }\n",
       "\n",
       "    .dataframe tbody tr th {\n",
       "        vertical-align: top;\n",
       "    }\n",
       "\n",
       "    .dataframe thead th {\n",
       "        text-align: right;\n",
       "    }\n",
       "</style>\n",
       "<table border=\"1\" class=\"dataframe\">\n",
       "  <thead>\n",
       "    <tr style=\"text-align: right;\">\n",
       "      <th></th>\n",
       "      <th>SampleID</th>\n",
       "      <th>Haplogroup</th>\n",
       "      <th>Rank</th>\n",
       "      <th>Quality</th>\n",
       "      <th>Range</th>\n",
       "      <th>Not_Found_Polys</th>\n",
       "      <th>Found_Polys</th>\n",
       "      <th>Remaining_Polys</th>\n",
       "      <th>AAC_In_Remainings</th>\n",
       "      <th>Input_Sample</th>\n",
       "    </tr>\n",
       "  </thead>\n",
       "  <tbody>\n",
       "    <tr>\n",
       "      <th>0</th>\n",
       "      <td>I0070</td>\n",
       "      <td>H13a1a</td>\n",
       "      <td>1</td>\n",
       "      <td>0.9691</td>\n",
       "      <td>1-16569</td>\n",
       "      <td>NaN</td>\n",
       "      <td>263G 750G 1438G 2259T 4745G 4769G 8860G 13680T...</td>\n",
       "      <td>310C (localPrivateMutation) 3107T (globalPriva...</td>\n",
       "      <td>NaN</td>\n",
       "      <td>263G 310C 750G 1438G 2259T 3107T 4745G 4769G 8...</td>\n",
       "    </tr>\n",
       "    <tr>\n",
       "      <th>1</th>\n",
       "      <td>I0071</td>\n",
       "      <td>U5a1</td>\n",
       "      <td>1</td>\n",
       "      <td>0.9644</td>\n",
       "      <td>1-16569</td>\n",
       "      <td>NaN</td>\n",
       "      <td>73G 263G 750G 1438G 2706G 3197C 4769G 7028T 88...</td>\n",
       "      <td>310C (localPrivateMutation) 3107T (globalPriva...</td>\n",
       "      <td>8705C [M60T| Codon 2 | ATP6 ]</td>\n",
       "      <td>73G 263G 310C 750G 1438G 2706G 3107T 3197C 476...</td>\n",
       "    </tr>\n",
       "  </tbody>\n",
       "</table>\n",
       "</div>"
      ],
      "text/plain": [
       "  SampleID Haplogroup  Rank  Quality    Range Not_Found_Polys  \\\n",
       "0    I0070     H13a1a     1   0.9691  1-16569             NaN   \n",
       "1    I0071       U5a1     1   0.9644  1-16569             NaN   \n",
       "\n",
       "                                         Found_Polys  \\\n",
       "0  263G 750G 1438G 2259T 4745G 4769G 8860G 13680T...   \n",
       "1  73G 263G 750G 1438G 2706G 3197C 4769G 7028T 88...   \n",
       "\n",
       "                                     Remaining_Polys  \\\n",
       "0  310C (localPrivateMutation) 3107T (globalPriva...   \n",
       "1  310C (localPrivateMutation) 3107T (globalPriva...   \n",
       "\n",
       "               AAC_In_Remainings  \\\n",
       "0                            NaN   \n",
       "1  8705C [M60T| Codon 2 | ATP6 ]   \n",
       "\n",
       "                                        Input_Sample  \n",
       "0  263G 310C 750G 1438G 2259T 3107T 4745G 4769G 8...  \n",
       "1  73G 263G 310C 750G 1438G 2706G 3107T 3197C 476...  "
      ]
     },
     "execution_count": 9,
     "metadata": {},
     "output_type": "execute_result"
    }
   ],
   "source": [
    "# load analysis_result.hsd\n",
    "analysis_result = pd.read_csv('output/analysis_result.hsd', sep='\\t')\n",
    "analysis_result.head(2)\n"
   ]
  },
  {
   "cell_type": "code",
   "execution_count": 10,
   "metadata": {},
   "outputs": [
    {
     "data": {
      "text/plain": [
       "Index(['SampleID', 'Haplogroup', 'Rank', 'Quality', 'Range', 'Not_Found_Polys',\n",
       "       'Found_Polys', 'Remaining_Polys', 'AAC_In_Remainings', 'Input_Sample'],\n",
       "      dtype='object')"
      ]
     },
     "execution_count": 10,
     "metadata": {},
     "output_type": "execute_result"
    }
   ],
   "source": [
    "# columns\n",
    "analysis_result.columns\n"
   ]
  },
  {
   "cell_type": "code",
   "execution_count": 11,
   "metadata": {},
   "outputs": [],
   "source": [
    "\n",
    "# Rename 'SampleID' column to 'ID'\n",
    "analysis_result.rename(columns={'SampleID': 'ID'}, inplace=True)\n"
   ]
  },
  {
   "cell_type": "code",
   "execution_count": 12,
   "metadata": {},
   "outputs": [],
   "source": [
    "# Use 'Found_Polys' as the 'Polymorphisms' column directly\n",
    "# Assuming 'Found_Polys' accurately represents the polymorphisms we want to include\n",
    "# If a combination of columns is needed, you may need to concatenate them appropriately here\n",
    "analysis_result['Polymorphisms'] = analysis_result['Found_Polys']"
   ]
  },
  {
   "cell_type": "code",
   "execution_count": 13,
   "metadata": {},
   "outputs": [
    {
     "data": {
      "text/html": [
       "<div>\n",
       "<style scoped>\n",
       "    .dataframe tbody tr th:only-of-type {\n",
       "        vertical-align: middle;\n",
       "    }\n",
       "\n",
       "    .dataframe tbody tr th {\n",
       "        vertical-align: top;\n",
       "    }\n",
       "\n",
       "    .dataframe thead th {\n",
       "        text-align: right;\n",
       "    }\n",
       "</style>\n",
       "<table border=\"1\" class=\"dataframe\">\n",
       "  <thead>\n",
       "    <tr style=\"text-align: right;\">\n",
       "      <th></th>\n",
       "      <th>ID</th>\n",
       "      <th>Range</th>\n",
       "      <th>Haplogroup</th>\n",
       "      <th>Polymorphisms</th>\n",
       "    </tr>\n",
       "  </thead>\n",
       "  <tbody>\n",
       "    <tr>\n",
       "      <th>0</th>\n",
       "      <td>I0070</td>\n",
       "      <td>1-16569</td>\n",
       "      <td>H13a1a</td>\n",
       "      <td>263G 750G 1438G 2259T 4745G 4769G 8860G 13680T...</td>\n",
       "    </tr>\n",
       "    <tr>\n",
       "      <th>1</th>\n",
       "      <td>I0071</td>\n",
       "      <td>1-16569</td>\n",
       "      <td>U5a1</td>\n",
       "      <td>73G 263G 750G 1438G 2706G 3197C 4769G 7028T 88...</td>\n",
       "    </tr>\n",
       "    <tr>\n",
       "      <th>2</th>\n",
       "      <td>I0073</td>\n",
       "      <td>1-16569</td>\n",
       "      <td>H</td>\n",
       "      <td>263G 750G 1438G 4769G 8860G 15326G</td>\n",
       "    </tr>\n",
       "    <tr>\n",
       "      <th>3</th>\n",
       "      <td>I0074</td>\n",
       "      <td>1-16569</td>\n",
       "      <td>H5</td>\n",
       "      <td>263G 456T 750G 1438G 4769G 8860G 15326G 16304C</td>\n",
       "    </tr>\n",
       "    <tr>\n",
       "      <th>4</th>\n",
       "      <td>I0108</td>\n",
       "      <td>3-16568 16570-16569 1-16569</td>\n",
       "      <td>H5a3</td>\n",
       "      <td>263G 456T 513A 750G 1438G 4336C 4769G 8860G 15...</td>\n",
       "    </tr>\n",
       "  </tbody>\n",
       "</table>\n",
       "</div>"
      ],
      "text/plain": [
       "      ID                        Range Haplogroup  \\\n",
       "0  I0070                      1-16569     H13a1a   \n",
       "1  I0071                      1-16569       U5a1   \n",
       "2  I0073                      1-16569          H   \n",
       "3  I0074                      1-16569         H5   \n",
       "4  I0108  3-16568 16570-16569 1-16569       H5a3   \n",
       "\n",
       "                                       Polymorphisms  \n",
       "0  263G 750G 1438G 2259T 4745G 4769G 8860G 13680T...  \n",
       "1  73G 263G 750G 1438G 2706G 3197C 4769G 7028T 88...  \n",
       "2                 263G 750G 1438G 4769G 8860G 15326G  \n",
       "3     263G 456T 750G 1438G 4769G 8860G 15326G 16304C  \n",
       "4  263G 456T 513A 750G 1438G 4336C 4769G 8860G 15...  "
      ]
     },
     "execution_count": 13,
     "metadata": {},
     "output_type": "execute_result"
    }
   ],
   "source": [
    "# Ensure the columns are in the correct order: ['ID', 'Range', 'Haplogroup', 'Polymorphisms']\n",
    "# Selecting the necessary columns and ensuring they are in the right order\n",
    "hsd_df = analysis_result[['ID', 'Range', 'Haplogroup', 'Polymorphisms']]\n",
    "\n",
    "# Display the first few rows of the transformed DataFrame to verify its structure\n",
    "hsd_df.head()\n",
    "\n"
   ]
  },
  {
   "cell_type": "code",
   "execution_count": 14,
   "metadata": {},
   "outputs": [],
   "source": [
    "# Save the transformed DataFrame to a new CSV file in HSD format\n",
    "hsd_df.to_csv('output/processed_haplogroups.hsd', sep='\\t', index=False)"
   ]
  },
  {
   "cell_type": "code",
   "execution_count": 18,
   "metadata": {},
   "outputs": [
    {
     "name": "stdout",
     "output_type": "stream",
     "text": [
      "\n",
      "###########################################################################\n",
      "# MitoPathoPy - Tool for annotating pathological mutations in human mtDNA #\n",
      "###########################################################################\n",
      "Author: Edvard Ehler, PhD (edvard.ehler@img.cas.cz)\n",
      "Year: 2020\n",
      "Source: https://github.com/EdaEhler/MitoPathoPy\n",
      "\n",
      "This tool will search for the (potential) pathological mutations in you mtDNA samples. To get the right input format, please, use the Haplogrep 2 (https://haplogrep.i-med.ac.at/app/index.html) tool to turn your sequences (fastas) into HSD format file. Haplogrep can be also downloaded and run localy (https://github.com/seppinho/haplogrep-cmd). Pathological mtDNA mutations are taken from data published at https://www.mitomap.org/MITOMAP.\n",
      "\n",
      "We invite you to check our ancient mtDNA database at: https://amtdb.org/\n",
      "\n",
      "If you use this tool in you research, please, consider citing our article:\n",
      "Ehler E, Novotný J, Juras A, Chyleński M, Moravčík O, Pačes J. AmtDB: a database of ancient human mitochondrial genomes. Nucleic acids research. 2019 Jan 8;47(D1):D29-32.\n",
      "\n",
      "###########################################################################\n",
      "    \n"
     ]
    }
   ],
   "source": [
    "!python3 mitopatho/mitopatho.py -i output/processed_haplogroups.hsd -o output/mitopatho_output.txt\n"
   ]
  },
  {
   "cell_type": "code",
   "execution_count": 23,
   "metadata": {},
   "outputs": [
    {
     "data": {
      "text/html": [
       "<div>\n",
       "<style scoped>\n",
       "    .dataframe tbody tr th:only-of-type {\n",
       "        vertical-align: middle;\n",
       "    }\n",
       "\n",
       "    .dataframe tbody tr th {\n",
       "        vertical-align: top;\n",
       "    }\n",
       "\n",
       "    .dataframe thead th {\n",
       "        text-align: right;\n",
       "    }\n",
       "</style>\n",
       "<table border=\"1\" class=\"dataframe\">\n",
       "  <thead>\n",
       "    <tr style=\"text-align: right;\">\n",
       "      <th></th>\n",
       "      <th>ID</th>\n",
       "      <th>Unnamed: 1</th>\n",
       "    </tr>\n",
       "  </thead>\n",
       "  <tbody>\n",
       "    <tr>\n",
       "      <th>0</th>\n",
       "      <td>I0070</td>\n",
       "      <td>NaN</td>\n",
       "    </tr>\n",
       "    <tr>\n",
       "      <th>1</th>\n",
       "      <td>I0071</td>\n",
       "      <td>11467G,Altered brain pH / sCJD patients,Report...</td>\n",
       "    </tr>\n",
       "    <tr>\n",
       "      <th>2</th>\n",
       "      <td>I0073</td>\n",
       "      <td>NaN</td>\n",
       "    </tr>\n",
       "    <tr>\n",
       "      <th>3</th>\n",
       "      <td>I0074</td>\n",
       "      <td>NaN</td>\n",
       "    </tr>\n",
       "    <tr>\n",
       "      <th>4</th>\n",
       "      <td>I0108</td>\n",
       "      <td>4336C,ADPD / Hearing Loss &amp; Migraine / autism ...</td>\n",
       "    </tr>\n",
       "  </tbody>\n",
       "</table>\n",
       "</div>"
      ],
      "text/plain": [
       "      ID                                         Unnamed: 1\n",
       "0  I0070                                                NaN\n",
       "1  I0071  11467G,Altered brain pH / sCJD patients,Report...\n",
       "2  I0073                                                NaN\n",
       "3  I0074                                                NaN\n",
       "4  I0108  4336C,ADPD / Hearing Loss & Migraine / autism ..."
      ]
     },
     "execution_count": 23,
     "metadata": {},
     "output_type": "execute_result"
    }
   ],
   "source": [
    "# load mitopatho_output.txt\n",
    "mitopatho_output = pd.read_csv('output/mitopatho_output.txt', sep='\\t')\n",
    "mitopatho_output.head(5)\n"
   ]
  },
  {
   "cell_type": "code",
   "execution_count": 29,
   "metadata": {},
   "outputs": [
    {
     "data": {
      "text/plain": [
       "Index(['ID', 'Polymorphism', 'Position', 'Status', 'Locus', 'Diseases',\n",
       "       'Homoplasmy', 'Heteroplasmy'],\n",
       "      dtype='object')"
      ]
     },
     "execution_count": 29,
     "metadata": {},
     "output_type": "execute_result"
    }
   ],
   "source": [
    "# load 'AmtDB MitoPathoTools.csv'\n",
    "mitopatho_tools_out = pd.read_csv('output/AmtDB MitoPathoTool.csv')\n",
    "mitopatho_tools_out.columns\n"
   ]
  },
  {
   "cell_type": "code",
   "execution_count": null,
   "metadata": {},
   "outputs": [],
   "source": [
    "def match_reich_metadata(reich_meta_file, missing_ids):\n",
    "    \"\"\"\n",
    "    Extracts and matches metadata for missing sequences from a specified metadata file.\n",
    "\n",
    "    Parameters:\n",
    "    - reich_meta_file (str): Path to the metadata file containing information on sequences.\n",
    "    - missing_ids (list): List of sequence IDs for which metadata needs to be matched.\n",
    "\n",
    "    Returns:\n",
    "    - DataFrame: DataFrame containing matched metadata entries for the missing sequences.\n",
    "    \"\"\"\n",
    "    print(\"Reading Reich metadata...\")\n",
    "    reich_meta = pd.read_csv(reich_meta_file, sep='\\t', header=0, low_memory=False)\n",
    "    print(f\"Reich metadata has {len(reich_meta)} rows.\")\n",
    "    matched_data = []\n",
    "    for index, row in reich_meta.iterrows():\n",
    "        if row['Master ID'] in missing_ids:\n",
    "            date_range_match = re.search(r'(\\d{4}\\u00b1\\d{2})', row['Full Date One of two formats. (Format 1) 95.4% CI calibrated radiocarbon age (Conventional Radiocarbon Age BP, Lab number) e.g. 2624-2350 calBCE (3990\\u00b140 BP, Ua-35016). (Format 2) Archaeological context range, e.g. 2500-1700 BCE'])\n",
    "            if date_range_match:\n",
    "                date_range = date_range_match.group(1)\n",
    "                bp, error = date_range.split('\\u00b1')\n",
    "                year_from = -int(bp.replace('BP', ''))\n",
    "                year_to = -(int(bp.replace('BP', '')) - int(error) * 2)\n",
    "                date_detail = row['Full Date One of two formats. (Format 1) 95.4% CI calibrated radiocarbon age (Conventional Radiocarbon Age BP, Lab number) e.g. 2624-2350 calBCE (3990\\u00b140 BP, Ua-35016). (Format 2) Archaeological context range, e.g. 2500-1700 BCE']\n",
    "                c14_lab_code_match = re.search(r'Ua-(\\w+)', date_detail)\n",
    "                if c14_lab_code_match:\n",
    "                    c14_lab_code = c14_lab_code_match.group(1)\n",
    "                else:\n",
    "                    c14_lab_code = 'nan'  # or any other default value you prefer\n",
    "\n",
    "                c14_sample_tag = 1 if year_to > 1950 else 0\n",
    "                c14_layer_tag = 0\n",
    "                missing = 'NaN'\n",
    "                seq_source = 'fasta'\n",
    "                matched_data.append({\n",
    "                    'identifier':               row['Master ID'], \n",
    "                    'alternative_identifiers':  row['Genetic ID'], \n",
    "                    'country':                  row['Political Entity'], \n",
    "                    'continent':                missing,\n",
    "                    'region':                   missing,\n",
    "                    'culture':                  row['Group ID'],\n",
    "                    'epoch':                    missing,\n",
    "                    'group':                    row['Group ID'],\n",
    "                    'comment':                  missing,\n",
    "                    'latitude':                 row['Lat.'],\n",
    "                    'longitude':                row['Long.'], \n",
    "                    'sex':                      row['Molecular Sex'], \n",
    "                    'site':                     row['Locality'], \n",
    "                    'site_detail':              missing,\n",
    "                    'mt_hg':                    row['mtDNA haplogroup if >2x or published'],\n",
    "                    'ychr_hg':                  row['Y haplogroup (manual curation in ISOGG format)'],\n",
    "                    'year_from':                year_from, \n",
    "                    'year_to':                  year_to, \n",
    "                    'date_detail':              date_detail, \n",
    "                    'bp':                       bp, \n",
    "                    'c14_lab_code':             c14_lab_code,\n",
    "                    'reference_name':           row['Publication'], # (change to our format: from MaoFuCell2021 to \"Allentoft et al. 2015\"\n",
    "                    'reference_link':           missing, # create a reference table and link it to the metadata table)\n",
    "                    'data_link':                missing,\n",
    "                    'c14_sample_tag':           c14_sample_tag, # if in the date is after BP for example Ua-35016 set to 1 elso 0\n",
    "                    'c14_layer_tag':            c14_layer_tag,\n",
    "                    'ychr_snps':                row['Y haplogroup (manual curation in terminal mutation format)'],\n",
    "                    'avg_coverage':             row['mtDNA coverage (merged data)'],\n",
    "                    'sequence_source':          seq_source,\n",
    "                    'mitopatho_alleles':        # mitopatho columns will be parsed from this csv file 'output/AmtDB MitoPathoTool.csv' with these \n",
    "                    'mitopatho_positions':      , positions z mitopatho\n",
    "                    'mitopatho_locus':          , locus\n",
    "                    'mitopatho_diseases':       , diseases\n",
    "                    'mitopatho_statuses':       , status\n",
    "                    'mitopatho_homoplasms':     , homoplasms\n",
    "                    'mitopatho_heteroplasms':     heteroplasms\n",
    "                })\n",
    "    # print(f\"Matched {len(matched_data)} metadata entries.\" if len(matched_data) > 0 else \"No metadata entries matched.\")\n",
    "    print(\"Matching metadata complete.\")\n",
    "    return pd.DataFrame(matched_data)"
   ]
  }
 ],
 "metadata": {
  "kernelspec": {
   "display_name": "aDNA_env",
   "language": "python",
   "name": "python3"
  },
  "language_info": {
   "codemirror_mode": {
    "name": "ipython",
    "version": 3
   },
   "file_extension": ".py",
   "mimetype": "text/x-python",
   "name": "python",
   "nbconvert_exporter": "python",
   "pygments_lexer": "ipython3",
   "version": "3.12.2"
  }
 },
 "nbformat": 4,
 "nbformat_minor": 2
}
