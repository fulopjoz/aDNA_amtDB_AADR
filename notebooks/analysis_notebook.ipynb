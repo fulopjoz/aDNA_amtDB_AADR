{
 "cells": [
  {
   "cell_type": "markdown",
   "metadata": {},
   "source": []
  },
  {
   "cell_type": "code",
   "execution_count": 1,
   "metadata": {},
   "outputs": [],
   "source": [
    "# set dir to /home/dodo/projects/aDNA_Comparative_Analysis\n",
    "import os\n",
    "import pandas as pd\n",
    "os.chdir('../../aDNA_Comparative_Analysis')\n",
    "import re"
   ]
  },
  {
   "cell_type": "code",
   "execution_count": 2,
   "metadata": {},
   "outputs": [],
   "source": [
    "from src.data_loading import load_data, load_mt_dataset\n",
    "from src.data_processing import DataProcessor, MetadataMatcher"
   ]
  },
  {
   "cell_type": "code",
   "execution_count": 3,
   "metadata": {},
   "outputs": [],
   "source": [
    "# metadata_file -> AmtDB csv metadata file\n",
    "# fasta_amtdb -> AmtDB fasta file\n",
    "# anno_file -> Reich annotation file = metadata file\n",
    "# fasta_reich -> Reich fasta file\n",
    "\n",
    "metadata_file = 'data/amtDB/amtdb_metadata.csv'\n",
    "fasta_amtdb = 'data/amtDB/amtdb_1621-samples_7f_a0pkh.fasta'\n",
    "anno_file = 'data/mitogenomes_reich/v54.1.p1_1240K_public/v54.1.p1_1240K_public.anno'\n",
    "fasta_reich = 'data/mitogenomes_reich/mtdna_reich.fasta'\n"
   ]
  },
  {
   "cell_type": "code",
   "execution_count": 4,
   "metadata": {},
   "outputs": [
    {
     "name": "stdout",
     "output_type": "stream",
     "text": [
      "Loading AmtDB metadata from 'data/amtDB/amtdb_metadata.csv' and sequence IDs from 'data/amtDB/amtdb_1621-samples_7f_a0pkh.fasta'...\n",
      "Loaded AmtDB metadata with 2541 records and 1621 sequences.\n",
      "\n",
      "Loading 'Reich mt dataset' from 'data/mitogenomes_reich/mtdna_reich.fasta' and metadata from 'data/mitogenomes_reich/v54.1.p1_1240K_public/v54.1.p1_1240K_public.anno'...\n",
      "Loaded 'Reich mt dataset' with 4122 sequences and metadata with 16388 records.\n",
      "\n"
     ]
    }
   ],
   "source": [
    "meta_amtDB, ids_seq_fasta = load_data(metadata_file, fasta_amtdb)\n",
    "ids_mt_dataset, meta_mt_dataset = load_mt_dataset(fasta_reich, anno_file)\n"
   ]
  },
  {
   "cell_type": "code",
   "execution_count": 5,
   "metadata": {},
   "outputs": [
    {
     "name": "stdout",
     "output_type": "stream",
     "text": [
      "Found 920 missing sequences.\n",
      "\n"
     ]
    }
   ],
   "source": [
    "# Process AmtDB data to find missing sequences\n",
    "processor_amtDB = DataProcessor(meta_amtDB, fasta_amtdb)\n",
    "missing_ids_amtDB = processor_amtDB.find_missing_sequences()\n"
   ]
  },
  {
   "cell_type": "code",
   "execution_count": 6,
   "metadata": {},
   "outputs": [
    {
     "data": {
      "text/plain": [
       "529"
      ]
     },
     "execution_count": 6,
     "metadata": {},
     "output_type": "execute_result"
    }
   ],
   "source": [
    "# intersection of missing sequences in AmtDB and Master ID from meta_mt_dataset\n",
    "missing_ids_amtDB_reich = list(set(missing_ids_amtDB) & set(meta_mt_dataset['Master ID']) )\n",
    "len(missing_ids_amtDB_reich)\n"
   ]
  },
  {
   "cell_type": "code",
   "execution_count": 7,
   "metadata": {},
   "outputs": [
    {
     "name": "stdout",
     "output_type": "stream",
     "text": [
      "Extracting sequences matching the specified IDs from 'data/mitogenomes_reich/mtdna_reich.fasta'...\n",
      "Saved 404 sequences to 'output/missing_sequences_AmtDB.fasta'.\n",
      "\n"
     ]
    }
   ],
   "source": [
    "\n",
    "\n",
    "# Extract missing sequences from the Reich dataset (fasta_reich) and save them\n",
    "output_fasta = \"output/missing_sequences_AmtDB.fasta\"\n",
    "processor_amtDB.extract_and_save_sequences(fasta_reich, missing_ids_amtDB, output_fasta)"
   ]
  },
  {
   "cell_type": "code",
   "execution_count": 8,
   "metadata": {},
   "outputs": [
    {
     "name": "stdout",
     "output_type": "stream",
     "text": [
      "\n",
      "Haplogrep 3 3.2.1\n",
      "(c) 2022-2023 Sebastian Schönherr, Hansi Weissensteiner, Lukas Forer\n",
      "[M::bwa_idx_load_from_disk] read 0 ALT contigs\n",
      "Written haplogroups to file output/analysis_result.hsd\n"
     ]
    }
   ],
   "source": [
    "!haplogrep3 classify --tree phylotree-rcrs@17.0 --in output/missing_sequences_AmtDB.fasta --out output/analysis_result.hsd --extend-report\n"
   ]
  },
  {
   "cell_type": "code",
   "execution_count": 9,
   "metadata": {},
   "outputs": [
    {
     "data": {
      "text/html": [
       "<div>\n",
       "<style scoped>\n",
       "    .dataframe tbody tr th:only-of-type {\n",
       "        vertical-align: middle;\n",
       "    }\n",
       "\n",
       "    .dataframe tbody tr th {\n",
       "        vertical-align: top;\n",
       "    }\n",
       "\n",
       "    .dataframe thead th {\n",
       "        text-align: right;\n",
       "    }\n",
       "</style>\n",
       "<table border=\"1\" class=\"dataframe\">\n",
       "  <thead>\n",
       "    <tr style=\"text-align: right;\">\n",
       "      <th></th>\n",
       "      <th>SampleID</th>\n",
       "      <th>Haplogroup</th>\n",
       "      <th>Rank</th>\n",
       "      <th>Quality</th>\n",
       "      <th>Range</th>\n",
       "      <th>Not_Found_Polys</th>\n",
       "      <th>Found_Polys</th>\n",
       "      <th>Remaining_Polys</th>\n",
       "      <th>AAC_In_Remainings</th>\n",
       "      <th>Input_Sample</th>\n",
       "    </tr>\n",
       "  </thead>\n",
       "  <tbody>\n",
       "    <tr>\n",
       "      <th>0</th>\n",
       "      <td>I0070</td>\n",
       "      <td>H13a1a</td>\n",
       "      <td>1</td>\n",
       "      <td>0.9691</td>\n",
       "      <td>1-16569</td>\n",
       "      <td>NaN</td>\n",
       "      <td>263G 750G 1438G 2259T 4745G 4769G 8860G 13680T...</td>\n",
       "      <td>310C (localPrivateMutation) 3107T (globalPriva...</td>\n",
       "      <td>NaN</td>\n",
       "      <td>263G 310C 750G 1438G 2259T 3107T 4745G 4769G 8...</td>\n",
       "    </tr>\n",
       "    <tr>\n",
       "      <th>1</th>\n",
       "      <td>I0071</td>\n",
       "      <td>U5a1</td>\n",
       "      <td>1</td>\n",
       "      <td>0.9644</td>\n",
       "      <td>1-16569</td>\n",
       "      <td>NaN</td>\n",
       "      <td>73G 263G 750G 1438G 2706G 3197C 4769G 7028T 88...</td>\n",
       "      <td>310C (localPrivateMutation) 3107T (globalPriva...</td>\n",
       "      <td>8705C [M60T| Codon 2 | ATP6 ]</td>\n",
       "      <td>73G 263G 310C 750G 1438G 2706G 3107T 3197C 476...</td>\n",
       "    </tr>\n",
       "  </tbody>\n",
       "</table>\n",
       "</div>"
      ],
      "text/plain": [
       "  SampleID Haplogroup  Rank  Quality    Range Not_Found_Polys  \\\n",
       "0    I0070     H13a1a     1   0.9691  1-16569             NaN   \n",
       "1    I0071       U5a1     1   0.9644  1-16569             NaN   \n",
       "\n",
       "                                         Found_Polys  \\\n",
       "0  263G 750G 1438G 2259T 4745G 4769G 8860G 13680T...   \n",
       "1  73G 263G 750G 1438G 2706G 3197C 4769G 7028T 88...   \n",
       "\n",
       "                                     Remaining_Polys  \\\n",
       "0  310C (localPrivateMutation) 3107T (globalPriva...   \n",
       "1  310C (localPrivateMutation) 3107T (globalPriva...   \n",
       "\n",
       "               AAC_In_Remainings  \\\n",
       "0                            NaN   \n",
       "1  8705C [M60T| Codon 2 | ATP6 ]   \n",
       "\n",
       "                                        Input_Sample  \n",
       "0  263G 310C 750G 1438G 2259T 3107T 4745G 4769G 8...  \n",
       "1  73G 263G 310C 750G 1438G 2706G 3107T 3197C 476...  "
      ]
     },
     "execution_count": 9,
     "metadata": {},
     "output_type": "execute_result"
    }
   ],
   "source": [
    "# load analysis_result.hsd\n",
    "analysis_result = pd.read_csv('output/analysis_result.hsd', sep='\\t')\n",
    "analysis_result.head(2)\n"
   ]
  },
  {
   "cell_type": "code",
   "execution_count": 10,
   "metadata": {},
   "outputs": [
    {
     "data": {
      "text/plain": [
       "Index(['SampleID', 'Haplogroup', 'Rank', 'Quality', 'Range', 'Not_Found_Polys',\n",
       "       'Found_Polys', 'Remaining_Polys', 'AAC_In_Remainings', 'Input_Sample'],\n",
       "      dtype='object')"
      ]
     },
     "execution_count": 10,
     "metadata": {},
     "output_type": "execute_result"
    }
   ],
   "source": [
    "# columns\n",
    "analysis_result.columns\n"
   ]
  },
  {
   "cell_type": "code",
   "execution_count": 11,
   "metadata": {},
   "outputs": [],
   "source": [
    "\n",
    "# Rename 'SampleID' column to 'ID'\n",
    "analysis_result.rename(columns={'SampleID': 'ID'}, inplace=True)\n"
   ]
  },
  {
   "cell_type": "code",
   "execution_count": 12,
   "metadata": {},
   "outputs": [],
   "source": [
    "# Use 'Found_Polys' as the 'Polymorphisms' column directly\n",
    "# Assuming 'Found_Polys' accurately represents the polymorphisms we want to include\n",
    "# If a combination of columns is needed, you may need to concatenate them appropriately here\n",
    "analysis_result['Polymorphisms'] = analysis_result['Found_Polys']"
   ]
  },
  {
   "cell_type": "code",
   "execution_count": 13,
   "metadata": {},
   "outputs": [
    {
     "name": "stdout",
     "output_type": "stream",
     "text": [
      "\n",
      "###########################################################################\n",
      "# MitoPathoPy - Tool for annotating pathological mutations in human mtDNA #\n",
      "###########################################################################\n",
      "Author: Edvard Ehler, PhD (edvard.ehler@img.cas.cz)\n",
      "Year: 2020\n",
      "Source: https://github.com/EdaEhler/MitoPathoPy\n",
      "\n",
      "This tool will search for the (potential) pathological mutations in you mtDNA samples. To get the right input format, please, use the Haplogrep 2 (https://haplogrep.i-med.ac.at/app/index.html) tool to turn your sequences (fastas) into HSD format file. Haplogrep can be also downloaded and run localy (https://github.com/seppinho/haplogrep-cmd). Pathological mtDNA mutations are taken from data published at https://www.mitomap.org/MITOMAP.\n",
      "\n",
      "We invite you to check our ancient mtDNA database at: https://amtdb.org/\n",
      "\n",
      "If you use this tool in you research, please, consider citing our article:\n",
      "Ehler E, Novotný J, Juras A, Chyleński M, Moravčík O, Pačes J. AmtDB: a database of ancient human mitochondrial genomes. Nucleic acids research. 2019 Jan 8;47(D1):D29-32.\n",
      "\n",
      "###########################################################################\n",
      "    \n"
     ]
    }
   ],
   "source": [
    "!python3 mitopatho/mitopatho.py -i output/processed_haplogroups.hsd -o output/mitopatho_output.txt\n"
   ]
  },
  {
   "cell_type": "code",
   "execution_count": 14,
   "metadata": {},
   "outputs": [],
   "source": [
    "# load mitopatho_output.txt\n",
    "mitopatho_output = pd.read_csv('output/mitopatho_output.txt', sep='\\t')\n"
   ]
  },
  {
   "cell_type": "code",
   "execution_count": 15,
   "metadata": {},
   "outputs": [
    {
     "data": {
      "text/plain": [
       "'11467G,Altered brain pH / sCJD patients,Reported;12308G,CPEO / Stroke / CM / Breast & Renal & Prostate Cancer Risk / Altered brain pH /sCJD,Reported;12372A,Altered brain pH / sCJD patients,Reported;16192T,Melanoma patients,Reported;16270T,Melanoma patients,Reported'"
      ]
     },
     "execution_count": 15,
     "metadata": {},
     "output_type": "execute_result"
    }
   ],
   "source": [
    "# pprint first two rows of the DataFrame but full data \n",
    "id_1 = mitopatho_output[mitopatho_output['ID'] == 'I0071']\n",
    "# print second column of the first row\n",
    "id_1.iloc[0, 1]"
   ]
  },
  {
   "cell_type": "code",
   "execution_count": 16,
   "metadata": {},
   "outputs": [
    {
     "name": "stdout",
     "output_type": "stream",
     "text": [
      "Found 920 missing sequences.\n",
      "\n",
      "Loading 'Reich mt dataset' from 'data/mitogenomes_reich/mtdna_reich.fasta' and metadata from 'data/mitogenomes_reich/v54.1.p1_1240K_public/v54.1.p1_1240K_public.anno'...\n"
     ]
    },
    {
     "name": "stdout",
     "output_type": "stream",
     "text": [
      "Loaded 'Reich mt dataset' with 4122 sequences and metadata with 16388 records.\n",
      "\n"
     ]
    }
   ],
   "source": [
    "missing_ids_amtDB = processor_amtDB.find_missing_sequences()\n",
    "ids_mt_dataset, meta_mt_dataset = load_mt_dataset(fasta_reich, anno_file)\n"
   ]
  },
  {
   "cell_type": "code",
   "execution_count": 17,
   "metadata": {},
   "outputs": [
    {
     "data": {
      "text/plain": [
       "529"
      ]
     },
     "execution_count": 17,
     "metadata": {},
     "output_type": "execute_result"
    }
   ],
   "source": [
    "# how many missing_ids_amtDB in the reich dataset\n",
    "missing_ids_amtDB_in_reich = [id for id in missing_ids_amtDB if id in meta_mt_dataset['Master ID'].values]\n",
    "len(missing_ids_amtDB_in_reich)\n"
   ]
  },
  {
   "cell_type": "code",
   "execution_count": 18,
   "metadata": {},
   "outputs": [],
   "source": [
    "import pandas as pd\n",
    "import re\n",
    "\n",
    "def parse_publication_name(reference):\n",
    "    # Extracting the first name by finding the first capitalized word\n",
    "    # and the year by finding the four-digit number\n",
    "    first_name = re.search(r\"[A-Z][a-z]+\", reference).group()\n",
    "    year = re.search(r\"\\d{4}\", reference).group()\n",
    "    \n",
    "    # Creating the formatted string\n",
    "    formatted_ref = f\"{first_name} et al. {year}\"\n",
    "    \n",
    "    return formatted_ref\n",
    "\n",
    "def match_reich_metadata(reich_meta_file, missing_ids, mitopatho_csv):\n",
    "    print(\"Reading Reich metadata...\")\n",
    "    reich_meta = pd.read_csv(reich_meta_file, sep='\\t', header=0, low_memory=False)\n",
    "    mitopatho = pd.read_csv(mitopatho_csv)\n",
    "    print(f\"Reich metadata has {len(reich_meta)} rows.\")\n",
    "    print(f\"MitoPatho data has {len(mitopatho)} rows.\")\n",
    "    \n",
    "    # Use set for efficient searching\n",
    "    missing_ids_set = set(missing_ids)\n",
    "    \n",
    "    matched_data = []\n",
    "    \n",
    "    for _, row in reich_meta.iterrows():\n",
    "        master_id = row['Master ID']\n",
    "        if master_id not in missing_ids_set:\n",
    "            continue\n",
    "        \n",
    "        # Date and C14 code extraction\n",
    "        date_range_match = re.search(r'(\\d{4}\\u00b1\\d{2})', row['Full Date One of two formats. (Format 1) 95.4% CI calibrated radiocarbon age (Conventional Radiocarbon Age BP, Lab number) e.g. 2624-2350 calBCE (3990\\u00b140 BP, Ua-35016). (Format 2) Archaeological context range, e.g. 2500-1700 BCE'])\n",
    "        if date_range_match:\n",
    "            date_range = date_range_match.group(1)\n",
    "            bp, error = date_range.split('\\u00b1')\n",
    "            year_from = -int(bp.replace('BP', '').strip())  # Assume the presence of 'BP' indicates Before Present\n",
    "            year_to = -(int(bp.replace('BP', '').strip()) - int(error) * 2)\n",
    "        else:\n",
    "            continue  # Skip this entry if no date range match is found\n",
    "\n",
    "        date_detail = row['Full Date One of two formats. (Format 1) 95.4% CI calibrated radiocarbon age (Conventional Radiocarbon Age BP, Lab number) e.g. 2624-2350 calBCE (3990\\u00b140 BP, Ua-35016). (Format 2) Archaeological context range, e.g. 2500-1700 BCE']\n",
    "        c14_lab_code_match = re.search(r'Ua-(\\w+)', date_detail)\n",
    "        c14_lab_code = c14_lab_code_match.group(1) if c14_lab_code_match else 'nan'\n",
    "        c14_sample_tag = 1 if year_to > 1950 else 0\n",
    "            \n",
    "        # Aggregate data from MitoPatho if available\n",
    "        mito_filtered = mitopatho[mitopatho['ID'] == master_id]\n",
    "        mito_agg = {col: \";\".join(mito_filtered[col].fillna('NaN').astype(str).unique()) for col in ['Polymorphism', 'Position', 'Locus', 'Diseases', 'Status', 'Homoplasmy', 'Heteroplasmy']}\n",
    "        \n",
    "        # Construct the matched data entry with Reich and MitoPatho data\n",
    "        matched_data.append({\n",
    "            'identifier':               row['Master ID'], \n",
    "            'alternative_identifiers':  row.get('Genetic ID', \"\"), \n",
    "            'country':                  row.get('Political Entity', \"\"), \n",
    "            'continent':                \"\",\n",
    "            'region':                   \"\",\n",
    "            'culture':                  row.get('Group ID', \"\"),\n",
    "            'epoch':                    \"\",\n",
    "            'group':                    row.get('Group ID', \"\"),\n",
    "            'comment':                  \"\",\n",
    "            'latitude':                 row.get('Lat.', \"\"),\n",
    "            'longitude':                row.get('Long.', \"\"), \n",
    "            'sex':                      row.get('Molecular Sex', \"\"), \n",
    "            'site':                     row.get('Locality', \"\"), \n",
    "            'site_detail':              \"\",\n",
    "            'mt_hg':                    row.get('mtDNA haplogroup if >2x or published', \"\"),\n",
    "            'ychr_hg':                  row.get('Y haplogroup (manual curation in ISOGG format)', \"\"),\n",
    "            'year_from':                year_from, \n",
    "            'year_to':                  year_to, \n",
    "            'date_detail':              row.get('Full Date One of two formats. (Format 1) 95.4% CI calibrated radiocarbon age (Conventional Radiocarbon Age BP, Lab number) e.g. 2624-2350 calBCE (3990\\u00b140 BP, Ua-35016). (Format 2) Archaeological context range, e.g. 2500-1700 BCE', \"\"),\n",
    "            'bp':                       bp, \n",
    "            'c14_lab_code':             c14_lab_code,\n",
    "            'reference_name':           parse_publication_name(row.get('Publication', \"\")),\n",
    "            'reference_link':           \"\",\n",
    "            'data_link':                \"\",\n",
    "            'c14_sample_tag':           c14_sample_tag,\n",
    "            'c14_layer_tag':            0,\n",
    "            'ychr_snps':                row.get('Y haplogroup (manual curation in terminal mutation format)', \"\"),\n",
    "            'avg_coverage':             row.get('mtDNA coverage (merged data)', \"\"),\n",
    "            'sequence_source':          'fasta',\n",
    "            'reference_name': parse_publication_name(row.get('Publication', \"\")),\n",
    "            # Fields aggregated from MitoPatho\n",
    "            'mitopatho_alleles':        mito_agg['Polymorphism'],\n",
    "            'mitopatho_positions':      mito_agg['Position'],\n",
    "            'mitopatho_locus':          mito_agg['Locus'],\n",
    "            'mitopatho_diseases':       mito_agg['Diseases'],\n",
    "            'mitopatho_statuses':       mito_agg['Status'],\n",
    "            'mitopatho_homoplasms':     mito_agg['Homoplasmy'],\n",
    "            'mitopatho_heteroplasms':   mito_agg['Heteroplasmy']\n",
    "        })\n",
    "\n",
    "    print(f\"Processed {len(matched_data)} out of {len(missing_ids)} missing IDs.\")\n",
    "    matched_df = pd.DataFrame(matched_data)\n",
    "    print(f\"Matched {len(matched_df)} rows with the given missing IDs.\")\n",
    "    return matched_df\n",
    "\n"
   ]
  },
  {
   "cell_type": "code",
   "execution_count": 19,
   "metadata": {},
   "outputs": [
    {
     "name": "stdout",
     "output_type": "stream",
     "text": [
      "Reading Reich metadata...\n",
      "Reich metadata has 16388 rows.\n",
      "MitoPatho data has 1709 rows.\n",
      "Processed 263 out of 920 missing IDs.\n",
      "Matched 263 rows with the given missing IDs.\n"
     ]
    }
   ],
   "source": [
    "# Example usage:\n",
    "reich_meta_file_path = 'data/mitogenomes_reich/v54.1.p1_1240K_public/v54.1.p1_1240K_public.anno'\n",
    "mitopatho_csv_path = 'output/AmtDB MitoPathoTool.csv'\n",
    "missing_ids = missing_ids_amtDB\n",
    "matched_metadata_df = match_reich_metadata(reich_meta_file_path, missing_ids, mitopatho_csv_path)\n"
   ]
  },
  {
   "cell_type": "code",
   "execution_count": 20,
   "metadata": {},
   "outputs": [],
   "source": [
    "import pandas as pd\n",
    "import re\n",
    "\n",
    "def parse_publication_name(reference):\n",
    "    first_name = re.search(r\"[A-Z][a-z]+\", reference).group()\n",
    "    year = re.search(r\"\\d{4}\", reference).group()\n",
    "    formatted_ref = f\"{first_name} et al. {year}\"\n",
    "    return formatted_ref\n",
    "\n",
    "def match_reich_metadata(reich_meta_file, missing_ids):\n",
    "    print(\"Reading Reich metadata...\")\n",
    "    reich_meta = pd.read_csv(reich_meta_file, sep='\\t', header=0, low_memory=False)\n",
    "    print(f\"Reich metadata has {len(reich_meta)} rows.\")\n",
    "    \n",
    "    missing_ids_set = set(missing_ids)\n",
    "    \n",
    "    matched_data = []\n",
    "    \n",
    "    for _, row in reich_meta.iterrows():\n",
    "        master_id = row['Master ID']\n",
    "        if master_id not in missing_ids_set:\n",
    "            continue\n",
    "        \n",
    "        date_range_match = re.search(r'(\\d{4}\\u00b1\\d{2})', row['Full Date One of two formats. (Format 1) 95.4% CI calibrated radiocarbon age (Conventional Radiocarbon Age BP, Lab number) e.g. 2624-2350 calBCE (3990\\u00b140 BP, Ua-35016). (Format 2) Archaeological context range, e.g. 2500-1700 BCE'])\n",
    "        if date_range_match:\n",
    "            date_range = date_range_match.group(1)\n",
    "            bp, error = date_range.split('\\u00b1')\n",
    "            year_from = -int(bp.replace('BP', '').strip())\n",
    "            year_to = -(int(bp.replace('BP', '').strip()) - int(error) * 2)\n",
    "        else:\n",
    "            continue\n",
    "        \n",
    "        date_detail = row['Full Date One of two formats. (Format 1) 95.4% CI calibrated radiocarbon age (Conventional Radiocarbon Age BP, Lab number) e.g. 2624-2350 calBCE (3990\\u00b140 BP, Ua-35016). (Format 2) Archaeological context range, e.g. 2500-1700 BCE']\n",
    "        c14_lab_code_match = re.search(r'Ua-(\\w+)', row['Full Date One of two formats. (Format 1) 95.4% CI calibrated radiocarbon age (Conventional Radiocarbon Age BP, Lab number) e.g. 2624-2350 calBCE (3990\\u00b140 BP, Ua-35016). (Format 2) Archaeological context range, e.g. 2500-1700 BCE'])\n",
    "        c14_lab_code = c14_lab_code_match.group(1) if c14_lab_code_match else 'nan'\n",
    "        c14_sample_tag = 1 if year_to > 1950 else 0\n",
    "            \n",
    "        matched_data.append({\n",
    "            'identifier':               row['Master ID'], \n",
    "            'alternative_identifiers':  row.get('Genetic ID', \"\"), \n",
    "            'country':                  row.get('Political Entity', \"\"), \n",
    "            'continent':                \"\",\n",
    "            'region':                   \"\",\n",
    "            'culture':                  row.get('Group ID', \"\"),\n",
    "            'epoch':                    \"\",\n",
    "            'group':                    row.get('Group ID', \"\"),\n",
    "            'comment':                  \"\",\n",
    "            'latitude':                 row.get('Lat.', \"\"),\n",
    "            'longitude':                row.get('Long.', \"\"), \n",
    "            'sex':                      row.get('Molecular Sex', \"\"), \n",
    "            'site':                     row.get('Locality', \"\"), \n",
    "            'site_detail':              \"\",\n",
    "            'mt_hg':                    row.get('mtDNA haplogroup if >2x or published', \"\"),\n",
    "            'ychr_hg':                  row.get('Y haplogroup (manual curation in ISOGG format)', \"\"),\n",
    "            'year_from':                year_from, \n",
    "            'year_to':                  year_to, \n",
    "            'date_detail':              date_detail,\n",
    "            'bp':                       bp, \n",
    "            'c14_lab_code':             c14_lab_code,\n",
    "            'reference_name':           parse_publication_name(row.get('Publication', \"\")),\n",
    "            'c14_sample_tag':           c14_sample_tag,\n",
    "            'ychr_snps':                row.get('Y haplogroup (manual curation in terminal mutation format)', \"\"),\n",
    "            'avg_coverage':             row.get('mtDNA coverage (merged data)', \"\"),\n",
    "            'sequence_source':          'fasta',\n",
    "        })\n",
    "\n",
    "    print(f\"Processed {len(matched_data)} out of {len(missing_ids)} missing IDs.\")\n",
    "    matched_df = pd.DataFrame(matched_data)\n",
    "    print(f\"Matched {len(matched_df)} rows with the given missing IDs.\")\n",
    "    return matched_df\n",
    "\n",
    "            \n",
    "        # Construct the matched data entry with Reich data\n",
    "\n"
   ]
  },
  {
   "cell_type": "code",
   "execution_count": 21,
   "metadata": {},
   "outputs": [
    {
     "name": "stderr",
     "output_type": "stream",
     "text": [
      "/tmp/ipykernel_173479/1776544731.py:2: DtypeWarning: Columns (14,15,18,26,29,30) have mixed types. Specify dtype option on import or set low_memory=False.\n",
      "  meta_mt_dataset = pd.read_csv('data/mitogenomes_reich/v54.1.p1_1240K_public/v54.1.p1_1240K_public.anno', sep='\\t')\n"
     ]
    },
    {
     "data": {
      "text/plain": [
       "529"
      ]
     },
     "execution_count": 21,
     "metadata": {},
     "output_type": "execute_result"
    }
   ],
   "source": [
    "len(missing_ids_amtDB)\n",
    "meta_mt_dataset = pd.read_csv('data/mitogenomes_reich/v54.1.p1_1240K_public/v54.1.p1_1240K_public.anno', sep='\\t')\n",
    "master_id = meta_mt_dataset['Master ID']\n",
    "# intersection of missing sequences in AmtDB and Master ID from meta_mt_dataset\n",
    "missing_ids_amtDB_reich = list(set(missing_ids_amtDB) & set(master_id) )\n",
    "len(missing_ids_amtDB_reich)"
   ]
  },
  {
   "cell_type": "code",
   "execution_count": 22,
   "metadata": {},
   "outputs": [
    {
     "name": "stdout",
     "output_type": "stream",
     "text": [
      "Reading Reich metadata...\n",
      "Reich metadata has 16388 rows.\n",
      "Processed 263 out of 920 missing IDs.\n",
      "Matched 263 rows with the given missing IDs.\n"
     ]
    }
   ],
   "source": [
    "# Example usage:\n",
    "reich_meta_file_path = 'data/mitogenomes_reich/v54.1.p1_1240K_public/v54.1.p1_1240K_public.anno'\n",
    "mitopatho_csv_path = 'output/AmtDB MitoPathoTool.csv'\n",
    "missing_ids = missing_ids_amtDB\n",
    "matched_metadata_df = match_reich_metadata(reich_meta_file_path, missing_ids)\n"
   ]
  },
  {
   "cell_type": "code",
   "execution_count": 29,
   "metadata": {},
   "outputs": [],
   "source": [
    "import pandas as pd\n",
    "import re\n",
    "\n",
    "def parse_publication_name(reference):\n",
    "    # Parses the publication name from a reference string.\n",
    "    match_first_name = re.search(r\"[A-Z][a-z]+\", reference)\n",
    "    match_year = re.search(r\"\\d{4}\", reference)\n",
    "    if match_first_name and match_year:\n",
    "        first_name = match_first_name.group()\n",
    "        year = match_year.group()\n",
    "        formatted_ref = f\"{first_name} et al. {year}\"\n",
    "        return formatted_ref\n",
    "    return \"Unknown publication\"\n",
    "\n",
    "def match_reich_metadata(reich_meta_file, missing_ids):\n",
    "    print(\"Reading Reich metadata...\")\n",
    "    reich_meta = pd.read_csv(reich_meta_file, sep='\\t', header=0, low_memory=False)\n",
    "    print(f\"Reich metadata has {len(reich_meta)} rows.\")\n",
    "    \n",
    "    missing_ids_set = set(missing_ids)\n",
    "    \n",
    "    matched_data = []\n",
    "    \n",
    "    for _, row in reich_meta.iterrows():\n",
    "        master_id = row['Master ID']\n",
    "        if master_id not in missing_ids_set:\n",
    "            continue\n",
    "        \n",
    "        # Attempt to parse the calibrated radiocarbon age and archaeological context range\n",
    "        date_detail = row.get('Full Date One of two formats. (Format 1) 95.4% CI calibrated radiocarbon age (Conventional Radiocarbon Age BP, Lab number) e.g. 2624-2350 calBCE (3990±40 BP, Ua-35016). (Format 2) Archaeological context range, e.g. 2500-1700 BCE', '')\n",
    "        date_range_match = re.search(r'(\\d{4})\\u00b1(\\d{2})', date_detail)\n",
    "        c14_lab_code_match = re.search(r'Ua-(\\w+)', date_detail)\n",
    "        year_from, year_to, c14_lab_code = None, None, 'Unknown'\n",
    "\n",
    "        if date_range_match:\n",
    "            bp, error = date_range_match.groups()\n",
    "            year_from = -int(bp)  # Assume the presence of 'BP' indicates Before Present\n",
    "            year_to = -(int(bp) - int(error) * 2)\n",
    "        if c14_lab_code_match:\n",
    "            c14_lab_code = c14_lab_code_match.group(1)\n",
    "\n",
    "        c14_sample_tag = 1 if year_to and year_to > 1950 else 0\n",
    "        \n",
    "        matched_data.append({\n",
    "            'identifier':               master_id,\n",
    "            'alternative_identifiers':  row.get('Genetic ID', \"\"), \n",
    "            'country':                  row.get('Political Entity', \"\"), \n",
    "            'continent':                \"\",\n",
    "            'region':                   \"\",\n",
    "            'culture':                  row.get('Group ID', \"\"),\n",
    "            'epoch':                    \"\",\n",
    "            'group':                    row.get('Group ID', \"\"),\n",
    "            'comment':                  \"\",\n",
    "            'latitude':                 row.get('Lat.', \"\"),\n",
    "            'longitude':                row.get('Long.', \"\"), \n",
    "            'sex':                      row.get('Molecular Sex', \"\"), \n",
    "            'site':                     row.get('Locality', \"\"), \n",
    "            'site_detail':              \"\",\n",
    "            'mt_hg':                    row.get('mtDNA haplogroup if >2x or published', \"\"),\n",
    "            'ychr_hg':                  row.get('Y haplogroup (manual curation in ISOGG format)', \"\"),\n",
    "            'year_from':                year_from,\n",
    "            'year_to':                  year_to,\n",
    "            'date_detail':              date_detail,\n",
    "            'bp':                       bp if date_range_match else 'Unknown', \n",
    "            'c14_lab_code':             c14_lab_code,\n",
    "            'reference_name':           parse_publication_name(row.get('Publication', \"\")),\n",
    "            'c14_sample_tag':           c14_sample_tag,\n",
    "            'ychr_snps':                row.get('Y haplogroup (manual curation in terminal mutation format)', \"\"),\n",
    "            'avg_coverage':             row.get('mtDNA coverage (merged data)', \"\"),\n",
    "            'sequence_source':          'fasta',\n",
    "        })\n",
    "\n",
    "    print(f\"Processed {len(matched_data)} out of {len(missing_ids)} missing IDs.\")\n",
    "    matched_df = pd.DataFrame(matched_data)\n",
    "    return matched_df\n",
    "\n",
    "# Usage of the function remains as previously outlined.\n"
   ]
  },
  {
   "cell_type": "code",
   "execution_count": 30,
   "metadata": {},
   "outputs": [
    {
     "name": "stderr",
     "output_type": "stream",
     "text": [
      "/tmp/ipykernel_173479/848928170.py:2: DtypeWarning: Columns (14,15,18,26,29,30) have mixed types. Specify dtype option on import or set low_memory=False.\n",
      "  meta_mt_dataset = pd.read_csv('data/mitogenomes_reich/v54.1.p1_1240K_public/v54.1.p1_1240K_public.anno', sep='\\t')\n"
     ]
    },
    {
     "name": "stdout",
     "output_type": "stream",
     "text": [
      "Reading Reich metadata...\n",
      "Reich metadata has 16388 rows.\n",
      "Processed 561 out of 529 missing IDs.\n",
      "Total matched rows: 561\n"
     ]
    }
   ],
   "source": [
    "# Load your dataset containing Master IDs\n",
    "meta_mt_dataset = pd.read_csv('data/mitogenomes_reich/v54.1.p1_1240K_public/v54.1.p1_1240K_public.anno', sep='\\t')\n",
    "master_id = meta_mt_dataset['Master ID'].tolist()\n",
    "\n",
    "# Assuming you have a predefined list of missing IDs (missing_ids_amtDB)\n",
    "# Find the intersection with Master IDs from your dataset\n",
    "missing_ids_amtDB_reich = list(set(missing_ids_amtDB) & set(master_id))\n",
    "\n",
    "# Match the metadata for the intersected IDs\n",
    "reich_meta_file_path = 'data/mitogenomes_reich/v54.1.p1_1240K_public/v54.1.p1_1240K_public.anno'\n",
    "matched_metadata_df = match_reich_metadata(reich_meta_file_path, missing_ids_amtDB_reich)\n",
    "\n",
    "print(f\"Total matched rows: {len(matched_metadata_df)}\")"
   ]
  },
  {
   "cell_type": "code",
   "execution_count": 31,
   "metadata": {},
   "outputs": [],
   "source": [
    "#  save the matched metadata to a file\n",
    "matched_metadata_df.to_csv('output/matched_metadata.csv', index=False)"
   ]
  }
 ],
 "metadata": {
  "kernelspec": {
   "display_name": "aDNA_env",
   "language": "python",
   "name": "python3"
  },
  "language_info": {
   "codemirror_mode": {
    "name": "ipython",
    "version": 3
   },
   "file_extension": ".py",
   "mimetype": "text/x-python",
   "name": "python",
   "nbconvert_exporter": "python",
   "pygments_lexer": "ipython3",
   "version": "3.12.2"
  }
 },
 "nbformat": 4,
 "nbformat_minor": 2
}
