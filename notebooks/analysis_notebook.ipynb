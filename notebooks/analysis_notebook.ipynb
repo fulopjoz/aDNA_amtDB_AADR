{
 "cells": [
  {
   "cell_type": "markdown",
   "metadata": {},
   "source": []
  },
  {
   "cell_type": "code",
   "execution_count": 29,
   "metadata": {},
   "outputs": [],
   "source": [
    "# set dir to /home/dodo/projects/aDNA_Comparative_Analysis\n",
    "import os\n",
    "os.chdir('/home/dodo/projects/aDNA_Comparative_Analysis')"
   ]
  },
  {
   "cell_type": "code",
   "execution_count": 30,
   "metadata": {},
   "outputs": [],
   "source": [
    "from src.data_loading import load_data, load_mt_dataset\n",
    "from src.data_processing import DataProcessor, MetadataMatcher"
   ]
  },
  {
   "cell_type": "code",
   "execution_count": 31,
   "metadata": {},
   "outputs": [],
   "source": [
    "metadata_file = 'data/amtDB/amtdb_metadata.csv'\n",
    "fasta_amtdb = 'data/amtDB/amtdb_1621-samples_7f_a0pkh.fasta'\n",
    "anno_file = 'data/mitogenomes_reich/v54.1.p1_1240K_public/v54.1.p1_1240K_public.anno'\n",
    "fasta_reich = 'data/mitogenomes_reich/mtdna_reich.fasta'\n"
   ]
  },
  {
   "cell_type": "code",
   "execution_count": 32,
   "metadata": {},
   "outputs": [
    {
     "name": "stdout",
     "output_type": "stream",
     "text": [
      "Loading AmtDB metadata from 'data/amtDB/amtdb_metadata.csv' and sequence IDs from 'data/amtDB/amtdb_1621-samples_7f_a0pkh.fasta'...\n",
      "Loaded AmtDB metadata with 2541 records and 1621 sequences.\n",
      "\n",
      "Loading 'Reich mt dataset' from 'data/mitogenomes_reich/mtdna_reich.fasta' and metadata from 'data/mitogenomes_reich/v54.1.p1_1240K_public/v54.1.p1_1240K_public.anno'...\n",
      "Loaded 'Reich mt dataset' with 4122 sequences and metadata with 16388 records.\n",
      "\n"
     ]
    }
   ],
   "source": [
    "meta_amtDB, ids_seq_fasta = load_data(metadata_file, fasta_amtdb)\n",
    "ids_mt_dataset, meta_mt_dataset = load_mt_dataset(fasta_reich, anno_file)\n"
   ]
  },
  {
   "cell_type": "code",
   "execution_count": 33,
   "metadata": {},
   "outputs": [
    {
     "ename": "AttributeError",
     "evalue": "'DataProcessor' object has no attribute 'validate_ids'",
     "output_type": "error",
     "traceback": [
      "\u001b[0;31m---------------------------------------------------------------------------\u001b[0m",
      "\u001b[0;31mAttributeError\u001b[0m                            Traceback (most recent call last)",
      "Cell \u001b[0;32mIn[33], line 5\u001b[0m\n\u001b[1;32m      2\u001b[0m processor_amtDB \u001b[38;5;241m=\u001b[39m DataProcessor(meta_amtDB, fasta_amtdb)\n\u001b[1;32m      4\u001b[0m \u001b[38;5;66;03m# Validate IDs before proceeding\u001b[39;00m\n\u001b[0;32m----> 5\u001b[0m \u001b[43mprocessor_amtDB\u001b[49m\u001b[38;5;241;43m.\u001b[39;49m\u001b[43mvalidate_ids\u001b[49m()\n\u001b[1;32m      7\u001b[0m missing_ids_amtDB \u001b[38;5;241m=\u001b[39m processor_amtDB\u001b[38;5;241m.\u001b[39mfind_missing_sequences()\n\u001b[1;32m      9\u001b[0m \u001b[38;5;66;03m# Proceed if missing IDs were found\u001b[39;00m\n",
      "\u001b[0;31mAttributeError\u001b[0m: 'DataProcessor' object has no attribute 'validate_ids'"
     ]
    }
   ],
   "source": [
    "# Assuming meta_amtDB and fasta_amtdb are defined and loaded as shown previously\n",
    "processor_amtDB = DataProcessor(meta_amtDB, fasta_amtdb)\n",
    "\n",
    "# Validate IDs before proceeding\n",
    "processor_amtDB.validate_ids()\n",
    "\n",
    "missing_ids_amtDB = processor_amtDB.find_missing_sequences()\n",
    "\n",
    "# Proceed if missing IDs were found\n",
    "if missing_ids_amtDB:\n",
    "    output_fasta = \"output/missing_sequences_AmtDB.fasta\"\n",
    "    processor_amtDB.extract_and_save_sequences(missing_ids_amtDB, output_fasta)\n",
    "\n",
    "    MetadataMatcher.match_and_save_metadata(meta_amtDB, missing_ids_amtDB, \"output/missing_metadata_AmtDB.csv\")\n"
   ]
  },
  {
   "cell_type": "code",
   "execution_count": null,
   "metadata": {},
   "outputs": [
    {
     "name": "stdout",
     "output_type": "stream",
     "text": [
      "Found 920 missing sequences.\n",
      "\n",
      "Saved 0 sequences to 'output/missing_sequences_AmtDB.fasta'.\n",
      "\n",
      "Saved metadata for 920 sequences to 'output/missing_metadata_AmtDB.csv'.\n",
      "\n"
     ]
    }
   ],
   "source": [
    "# Process AmtDB data\n",
    "processor_amtDB = DataProcessor(meta_amtDB, fasta_amtdb)\n",
    "missing_ids_amtDB = processor_amtDB.find_missing_sequences()\n",
    "\n",
    "# If needed, save sequences from AmtDB that are missing\n",
    "output_fasta = \"output/missing_sequences_AmtDB.fasta\"\n",
    "processor_amtDB.extract_and_save_sequences(missing_ids_amtDB, output_fasta)\n",
    "\n",
    "# Match and save metadata for missing sequences\n",
    "MetadataMatcher.match_and_save_metadata(meta_amtDB, missing_ids_amtDB, \"output/missing_metadata_AmtDB.csv\")\n"
   ]
  }
 ],
 "metadata": {
  "kernelspec": {
   "display_name": "aDNA_env",
   "language": "python",
   "name": "python3"
  },
  "language_info": {
   "codemirror_mode": {
    "name": "ipython",
    "version": 3
   },
   "file_extension": ".py",
   "mimetype": "text/x-python",
   "name": "python",
   "nbconvert_exporter": "python",
   "pygments_lexer": "ipython3",
   "version": "3.12.2"
  }
 },
 "nbformat": 4,
 "nbformat_minor": 2
}
