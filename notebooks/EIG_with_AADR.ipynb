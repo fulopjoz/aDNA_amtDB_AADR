{
 "cells": [
  {
   "cell_type": "code",
   "execution_count": 6,
   "metadata": {},
   "outputs": [
    {
     "name": "stdout",
     "output_type": "stream",
     "text": [
      "/home/dodo/projects/aDNA_Comparative_Analysis/notebooks\n"
     ]
    }
   ],
   "source": [
    "!pwd"
   ]
  },
  {
   "cell_type": "markdown",
   "metadata": {},
   "source": [
    "# Example analysis using the EIGENSOFT package\n",
    "## We'll follow these steps:\n",
    "\n",
    "* Setup and Configuration: Ensure that all necessary files and configurations are in place.\n",
    "* File Conversion: Use convertf to convert example data into the required format.\n",
    "* PCA Analysis: Use smartpca to perform Principal Components Analysis (PCA).\n",
    "* Plotting Results: Use ploteig to visualize the results of PCA."
   ]
  },
  {
   "cell_type": "code",
   "execution_count": 7,
   "metadata": {},
   "outputs": [],
   "source": [
    "import os\n",
    "import subprocess\n"
   ]
  },
  {
   "cell_type": "code",
   "execution_count": 8,
   "metadata": {},
   "outputs": [],
   "source": [
    "# Define the paths\n",
    "base_dir = os.path.abspath(\"../EIG\")\n",
    "out_dir = os.path.abspath(\"../output\")\n",
    "bin_dir = os.path.join(base_dir, \"bin\")\n",
    "convertf_dir = os.path.join(base_dir, \"CONVERTF\")\n",
    "eigenstrat_dir = os.path.join(base_dir, \"EIGENSTRAT\")\n",
    "notebook_dir = os.getcwd()\n",
    "\n",
    "# Define the output directory for EIGENSOFT analysis\n",
    "output_dir = os.path.join(out_dir, \"EIG_output\")\n",
    "os.makedirs(output_dir, exist_ok=True)\n",
    "\n",
    "# Set environment variables to ensure consistency\n",
    "os.environ['PATH'] = bin_dir + os.pathsep + os.environ['PATH']\n",
    "\n",
    "# File paths for the parameter files\n",
    "convertf_par_file = os.path.join(notebook_dir, \"par.ANCESTRYMAP.EIGENSTRAT\")\n",
    "smartpca_par_file = os.path.join(notebook_dir, \"par.smartpca\")\n",
    "smarteigenstrat_par_file = os.path.join(output_dir, \"example.chisq.par\")\n"
   ]
  },
  {
   "cell_type": "code",
   "execution_count": 9,
   "metadata": {},
   "outputs": [],
   "source": [
    "# Write the convertf parameter file\n",
    "with open(convertf_par_file, 'w') as f:\n",
    "    f.write(f\"\"\"genotypename:    {os.path.join(convertf_dir, \"example.ancestrymapgeno\")}\n",
    "snpname:         {os.path.join(convertf_dir, \"example.snp\")}\n",
    "indivname:       {os.path.join(convertf_dir, \"example.ind\")}\n",
    "outputformat:    EIGENSTRAT\n",
    "genooutfilename: {os.path.join(output_dir, \"example.eigenstratgeno\")}\n",
    "snpoutfilename:  {os.path.join(output_dir, \"example.snp\")}\n",
    "indoutfilename:  {os.path.join(output_dir, \"example.ind\")}\"\"\")\n",
    "\n",
    "# Write the smartpca parameter file\n",
    "with open(smartpca_par_file, 'w') as f:\n",
    "    f.write(f\"\"\"genotypename:    {os.path.join(output_dir, \"example.eigenstratgeno\")}\n",
    "snpname:         {os.path.join(output_dir, \"example.snp\")}\n",
    "indivname:       {os.path.join(output_dir, \"example.ind\")}\n",
    "evecoutname:     {os.path.join(output_dir, \"example.pca.evec\")}\n",
    "evaloutname:     {os.path.join(output_dir, \"example.pca.eval\")}\n",
    "numoutevec:      10\"\"\")\n",
    "\n",
    "# Write the smarteigenstrat parameter file\n",
    "with open(smarteigenstrat_par_file, 'w') as f:\n",
    "    f.write(f\"\"\"genotypename:    {os.path.join(output_dir, \"example.eigenstratgeno\")}\n",
    "snpname:         {os.path.join(output_dir, \"example.snp\")}\n",
    "indivname:       {os.path.join(output_dir, \"example.ind\")}\n",
    "pcaname:         {os.path.join(output_dir, \"example.pca.evec\")}\n",
    "outputname:      {os.path.join(output_dir, \"example.chisq\")}\n",
    "numeigs:         10\n",
    "qtmode:          NO\"\"\")\n",
    "    "
   ]
  },
  {
   "cell_type": "code",
   "execution_count": null,
   "metadata": {},
   "outputs": [],
   "source": [
    "# Function to run a command and capture its output\n",
    "def run_command(command):\n",
    "    try:\n",
    "        result = subprocess.run(command, shell=True, check=True, capture_output=True, text=True)\n",
    "        print(result.stdout)\n",
    "        print(result.stderr)\n",
    "    except subprocess.CalledProcessError as e:\n",
    "        print(f\"Error running command: {e}\")\n",
    "        print(f\"Return code: {e.returncode}\")\n",
    "        print(f\"Output: {e.output}\")\n",
    "        print(f\"Stderr: {e.stderr}\")\n",
    "        raise\n",
    "    "
   ]
  },
  {
   "cell_type": "code",
   "execution_count": 10,
   "metadata": {},
   "outputs": [
    {
     "name": "stdout",
     "output_type": "stream",
     "text": [
      "parameter file: /home/dodo/projects/aDNA_Comparative_Analysis/notebooks/par.ANCESTRYMAP.EIGENSTRAT\n",
      "genotypename: ../EIG/CONVERTF/example.ancestrymapgeno\n",
      "snpname: ../EIG/CONVERTF/example.snp\n",
      "indivname: ../EIG/CONVERTF/example.ind\n",
      "outputformat: EIGENSTRAT\n",
      "genooutfilename: ../EIG/EIG_output/example.eigenstratgeno\n",
      "snpoutfilename: ../EIG/EIG_output/example.snp\n",
      "indoutfilename: ../EIG/EIG_output/example.ind\n",
      "## ../EIG/bin/convertf version: 5000\n",
      "numvalidind:      5  maxmiss:  5001\n",
      "eigenstrat output\n",
      "##end of convertf run\n"
     ]
    },
    {
     "data": {
      "text/plain": [
       "CompletedProcess(args='../EIG/bin/convertf -p /home/dodo/projects/aDNA_Comparative_Analysis/notebooks/par.ANCESTRYMAP.EIGENSTRAT', returncode=0)"
      ]
     },
     "execution_count": 10,
     "metadata": {},
     "output_type": "execute_result"
    }
   ],
   "source": [
    "# Run convertf\n",
    "convertf_command = f\"{os.path.join(bin_dir, 'convertf')} -p {convertf_par_file}\"\n",
    "run_command(convertf_command)"
   ]
  },
  {
   "cell_type": "code",
   "execution_count": 11,
   "metadata": {},
   "outputs": [
    {
     "data": {
      "text/plain": [
       "CompletedProcess(args='../EIG/bin/smartpca -p /home/dodo/projects/aDNA_Comparative_Analysis/notebooks/par.smartpca > ../EIG/EIG_output/smartpca.log', returncode=0)"
      ]
     },
     "execution_count": 11,
     "metadata": {},
     "output_type": "execute_result"
    }
   ],
   "source": [
    "# Run smartpca\n",
    "smartpca_command = f\"{os.path.join(bin_dir, 'smartpca')} -p {smartpca_par_file} > {os.path.join(output_dir, 'smartpca.log')}\"\n",
    "run_command(smartpca_command)\n"
   ]
  },
  {
   "cell_type": "code",
   "execution_count": null,
   "metadata": {},
   "outputs": [],
   "source": [
    "# Run smarteigenstrat with the parameter file\n",
    "smarteigenstrat_command = f\"{os.path.join(bin_dir, 'smarteigenstrat')} -p {smarteigenstrat_par_file} > {os.path.join(output_dir, 'smarteigenstrat.log')}\"\n",
    "run_command(smarteigenstrat_command)\n"
   ]
  },
  {
   "cell_type": "code",
   "execution_count": null,
   "metadata": {},
   "outputs": [],
   "source": [
    "# Output completion message\n",
    "print(\"Analysis complete. Check the generated files in the EIG_output directory.\")\n",
    "\n"
   ]
  },
  {
   "cell_type": "code",
   "execution_count": null,
   "metadata": {},
   "outputs": [
    {
     "name": "stdout",
     "output_type": "stream",
     "text": [
      "Analysis complete. Check the generated files in the EIG_output directory.\n"
     ]
    }
   ],
   "source": [
    "# Output completion message\n",
    "print(\"Analysis complete. Check the generated files in the EIG_output directory.\")\n"
   ]
  },
  {
   "cell_type": "markdown",
   "metadata": {},
   "source": [
    "# Example Analysis Using the EIGENSOFT Package\n",
    "\n",
    "## Overview\n",
    "\n",
    "This analysis will guide you through the process of using the EIGENSOFT package to perform a comprehensive genetic data analysis. We will cover setting up and configuring the environment, converting data formats, performing Principal Components Analysis (PCA), and visualizing the results. Each step is crucial to ensure accurate and meaningful analysis of the genetic data.\n",
    "\n",
    "## Steps\n",
    "\n",
    "### 1. Setup and Configuration\n",
    "\n",
    "Before starting the analysis, we need to ensure that all necessary files and configurations are in place. This includes setting up the directories, defining paths, and preparing the environment variables.\n",
    "\n",
    "### 2. File Conversion\n",
    "\n",
    "The first computational step involves converting the example data into the required format using the `convertf` tool. This tool is part of the EIGENSOFT package and helps in transforming various genetic data formats into the EIGENSTRAT format, which is necessary for subsequent analysis steps.\n",
    "\n",
    "### 3. PCA Analysis\n",
    "\n",
    "Once the data is converted, we will perform Principal Components Analysis (PCA) using the `smartpca` tool. PCA is a statistical technique used to emphasize variation and bring out strong patterns in a dataset. It reduces the dimensionality of the data while preserving as much variability as possible.\n",
    "\n",
    "### 4. Plotting Results\n",
    "\n",
    "After performing PCA, visualizing the results is crucial for interpreting the data. We use `ploteig`, a utility that generates plots of the top principal components, making it easier to understand the genetic variation and structure within the dataset.\n",
    "\n",
    "## Detailed Steps\n",
    "\n",
    "### Setup and Configuration\n",
    "\n",
    "1. **Define Paths and Directories**: Set up the paths for the EIGENSOFT package, input data, and output directories.\n",
    "2. **Set Environment Variables**: Ensure that the PATH environment variable includes the directory with EIGENSOFT binaries.\n",
    "3. **Create Output Directory**: Create an output directory where all the results and logs will be stored.\n",
    "\n",
    "\n"
   ]
  },
  {
   "cell_type": "code",
   "execution_count": 1,
   "metadata": {},
   "outputs": [],
   "source": [
    "import os\n",
    "import subprocess\n",
    "\n",
    "# Define the paths\n",
    "base_dir = os.path.abspath(\"../EIG\")\n",
    "out_dir = os.path.abspath(\"../output\")\n",
    "bin_dir = os.path.join(base_dir, \"bin\")\n",
    "convertf_dir = os.path.join(base_dir, \"CONVERTF\")\n",
    "eigenstrat_dir = os.path.join(base_dir, \"EIGENSTRAT\")\n",
    "notebook_dir = os.getcwd()\n",
    "\n",
    "# Define the output directory for EIGENSOFT analysis\n",
    "output_dir = os.path.join(out_dir, \"EIG_output\")\n",
    "os.makedirs(output_dir, exist_ok=True)\n",
    "\n",
    "# Set environment variables to ensure consistency\n",
    "os.environ['PATH'] = bin_dir + os.pathsep + os.environ['PATH']"
   ]
  },
  {
   "cell_type": "markdown",
   "metadata": {},
   "source": [
    "## File Conversion\n",
    "\n",
    "Convert the example data files into the EIGENSTRAT format using the convertf tool. Create a parameter file for convertf specifying the input and output file paths."
   ]
  },
  {
   "cell_type": "code",
   "execution_count": 2,
   "metadata": {},
   "outputs": [
    {
     "name": "stdout",
     "output_type": "stream",
     "text": [
      "parameter file: /home/dodo/projects/aDNA_Comparative_Analysis/notebooks/par.ANCESTRYMAP.EIGENSTRAT\n",
      "genotypename: /home/dodo/projects/aDNA_Comparative_Analysis/EIG/CONVERTF/example.ancestrymapgeno\n",
      "snpname: /home/dodo/projects/aDNA_Comparative_Analysis/EIG/CONVERTF/example.snp\n",
      "indivname: /home/dodo/projects/aDNA_Comparative_Analysis/EIG/CONVERTF/example.ind\n",
      "outputformat: EIGENSTRAT\n",
      "genooutfilename: /home/dodo/projects/aDNA_Comparative_Analysis/output/EIG_output/example.eigenstratgeno\n",
      "snpoutfilename: /home/dodo/projects/aDNA_Comparative_Analysis/output/EIG_output/example.snp\n",
      "indoutfilename: /home/dodo/projects/aDNA_Comparative_Analysis/output/EIG_output/example.ind\n",
      "## /home/dodo/projects/aDNA_Comparative_Analysis/EIG/bin/convertf version: 5000\n",
      "numvalidind:      5  maxmiss:  5001\n",
      "eigenstrat output\n",
      "##end of convertf run\n"
     ]
    },
    {
     "data": {
      "text/plain": [
       "CompletedProcess(args='/home/dodo/projects/aDNA_Comparative_Analysis/EIG/bin/convertf -p /home/dodo/projects/aDNA_Comparative_Analysis/notebooks/par.ANCESTRYMAP.EIGENSTRAT', returncode=0)"
      ]
     },
     "execution_count": 2,
     "metadata": {},
     "output_type": "execute_result"
    }
   ],
   "source": [
    "# File paths for the parameter files\n",
    "convertf_par_file = os.path.join(notebook_dir, \"par.ANCESTRYMAP.EIGENSTRAT\")\n",
    "\n",
    "# Write the convertf parameter file\n",
    "with open(convertf_par_file, 'w') as f:\n",
    "    f.write(f\"\"\"genotypename:    {os.path.join(convertf_dir, \"example.ancestrymapgeno\")}\n",
    "snpname:         {os.path.join(convertf_dir, \"example.snp\")}\n",
    "indivname:       {os.path.join(convertf_dir, \"example.ind\")}\n",
    "outputformat:    EIGENSTRAT\n",
    "genooutfilename: {os.path.join(output_dir, \"example.eigenstratgeno\")}\n",
    "snpoutfilename:  {os.path.join(output_dir, \"example.snp\")}\n",
    "indoutfilename:  {os.path.join(output_dir, \"example.ind\")}\"\"\")\n",
    "\n",
    "# Run convertf\n",
    "convertf_command = os.path.join(bin_dir, \"convertf\") + \" -p \" + convertf_par_file\n",
    "subprocess.run(convertf_command, shell=True, check=True)\n"
   ]
  },
  {
   "cell_type": "markdown",
   "metadata": {},
   "source": [
    "## PCA Analysis\n",
    "\n",
    "Perform PCA using the smartpca tool. Create a parameter file for smartpca specifying the input and output file paths."
   ]
  },
  {
   "cell_type": "code",
   "execution_count": 3,
   "metadata": {},
   "outputs": [
    {
     "data": {
      "text/plain": [
       "CompletedProcess(args='/home/dodo/projects/aDNA_Comparative_Analysis/EIG/bin/smartpca -p /home/dodo/projects/aDNA_Comparative_Analysis/notebooks/par.smartpca > /home/dodo/projects/aDNA_Comparative_Analysis/output/EIG_output/smartpca.log', returncode=0)"
      ]
     },
     "execution_count": 3,
     "metadata": {},
     "output_type": "execute_result"
    }
   ],
   "source": [
    "# File paths for the parameter files\n",
    "smartpca_par_file = os.path.join(notebook_dir, \"par.smartpca\")\n",
    "\n",
    "# Write the smartpca parameter file\n",
    "with open(smartpca_par_file, 'w') as f:\n",
    "    f.write(f\"\"\"genotypename:    {os.path.join(output_dir, \"example.eigenstratgeno\")}\n",
    "snpname:         {os.path.join(output_dir, \"example.snp\")}\n",
    "indivname:       {os.path.join(output_dir, \"example.ind\")}\n",
    "evecoutname:     {os.path.join(output_dir, \"example.pca.evec\")}\n",
    "evaloutname:     {os.path.join(output_dir, \"example.pca.eval\")}\n",
    "numoutevec:      10\"\"\")\n",
    "\n",
    "# Run smartpca\n",
    "smartpca_command = os.path.join(bin_dir, \"smartpca\") + \" -p \" + smartpca_par_file + \" > \" + os.path.join(output_dir, \"smartpca.log\")\n",
    "subprocess.run(smartpca_command, shell=True, check=True)\n"
   ]
  },
  {
   "cell_type": "markdown",
   "metadata": {},
   "source": [
    "# Plotting Results\n",
    "\n",
    "Visualize the PCA results using ploteig or a custom Python script with matplotlib. If using ploteig, you can create a plot of the principal components directly. If using Python, read the PCA results from the .evec file and create a scatter plot."
   ]
  },
  {
   "cell_type": "code",
   "execution_count": 7,
   "metadata": {},
   "outputs": [
    {
     "name": "stdout",
     "output_type": "stream",
     "text": [
      "/home/dodo/projects/aDNA_Comparative_Analysis/notebooks\n"
     ]
    }
   ],
   "source": [
    "!pwd"
   ]
  },
  {
   "cell_type": "markdown",
   "metadata": {},
   "source": [
    "Using ploteig"
   ]
  },
  {
   "cell_type": "code",
   "execution_count": 6,
   "metadata": {},
   "outputs": [
    {
     "name": "stdout",
     "output_type": "stream",
     "text": [
      "/bin/bash: /home/dodo/projects/aDNA_Comparative_Analysis/EIG/bin/ploteig: /usr/local/bin/perl: bad interpreter: No such file or directory\n"
     ]
    }
   ],
   "source": [
    "!ploteig -i ../EIG/EIGENSTRAT/example.pca.evec -c 1:2 -p Case:Control -x -y -o ../EIG/EIGENSTRAT/example.plot.xtxt\n"
   ]
  },
  {
   "cell_type": "code",
   "execution_count": 30,
   "metadata": {},
   "outputs": [
    {
     "data": {
      "image/png": "[encoded data removed]",
      "text/plain": [
       "<Figure size 1000x1000 with 1 Axes>"
      ]
     },
     "metadata": {},
     "output_type": "display_data"
    }
   ],
   "source": [
    "import pandas as pd\n",
    "import matplotlib.pyplot as plt\n",
    "import seaborn as sns\n",
    "\n",
    "# Paths to the files\n",
    "evec_file = '../EIG/EIGENSTRAT/example.pca.evec'\n",
    "ind_file = '../EIG/EIGENSTRAT/example.ind'\n",
    "\n",
    "# Read the .evec file, skipping the first line and handling whitespace issues\n",
    "with open(evec_file, 'r') as f:\n",
    "    lines = f.readlines()\n",
    "\n",
    "# Skip the first line and split remaining lines into columns\n",
    "data = []\n",
    "for line in lines[1:]:\n",
    "    parts = line.split()\n",
    "    sample = parts[0]\n",
    "    pcs = list(map(float, parts[1:-1]))\n",
    "    population = parts[-1]\n",
    "    data.append([sample] + pcs + [population])\n",
    "\n",
    "# Create a DataFrame from the parsed data\n",
    "columns = ['Sample'] + [f'PC{i}' for i in range(1, len(data[0]) - 1)] + ['Population']\n",
    "evec_df = pd.DataFrame(data, columns=columns)\n",
    "\n",
    "# Read the .ind file to get the population information\n",
    "with open(ind_file, 'r') as f:\n",
    "    lines = f.readlines()\n",
    "\n",
    "# Parse the .ind file similarly\n",
    "ind_data = []\n",
    "for line in lines:\n",
    "    parts = line.split()\n",
    "    sample = parts[0]\n",
    "    sex = parts[1]\n",
    "    population = parts[2]\n",
    "    ind_data.append([sample, sex, population])\n",
    "\n",
    "# Create a DataFrame from the parsed .ind data\n",
    "ind_df = pd.DataFrame(ind_data, columns=['Sample', 'Sex', 'Population'])\n",
    "\n",
    "# Merge the DataFrames on the Sample column\n",
    "merged_df = pd.merge(evec_df, ind_df[['Sample', 'Population']], on='Sample')\n",
    "\n",
    "# Drop one of the duplicate Population columns\n",
    "merged_df = merged_df.drop(columns=['Population_y']).rename(columns={'Population_x': 'Population'})\n",
    "\n",
    "# Correcting the inversion by multiplying the principal components by -1\n",
    "merged_df[['PC1', 'PC2']] = merged_df[['PC1', 'PC2']] * -1\n",
    "\n",
    "# Plot the first two principal components using Seaborn\n",
    "plt.figure(figsize=(10, 10))\n",
    "\n",
    "# Adjusting the axis limits and markers to match the example plot\n",
    "sns.scatterplot(\n",
    "    data=merged_df, \n",
    "    x='PC1', \n",
    "    y='PC2', \n",
    "    hue='Population', \n",
    "    style='Population', \n",
    "    markers={'Case': 'P', 'Control': 'X'}, \n",
    "    s=80, \n",
    "    alpha=0.9, \n",
    "    palette={'Case': 'red', 'Control': 'green'}\n",
    ")\n",
    "\n",
    "plt.xlabel('eigenvector 1')\n",
    "plt.ylabel('eigenvector 2')\n",
    "plt.title('PCA Plot')\n",
    "plt.legend(title='Population', loc='upper right')\n",
    "plt.grid(True)\n",
    "plt.xlim(-0.6, 0.8)\n",
    "plt.ylim(-0.8, 0.8)\n",
    "plt.gca().set_aspect('equal', adjustable='box')\n",
    "plt.show()\n"
   ]
  }
 ],
 "metadata": {
  "kernelspec": {
   "display_name": "aDNA_env",
   "language": "python",
   "name": "python3"
  },
  "language_info": {
   "codemirror_mode": {
    "name": "ipython",
    "version": 3
   },
   "file_extension": ".py",
   "mimetype": "text/x-python",
   "name": "python",
   "nbconvert_exporter": "python",
   "pygments_lexer": "ipython3",
   "version": "3.12.2"
  }
 },
 "nbformat": 4,
 "nbformat_minor": 2
}
