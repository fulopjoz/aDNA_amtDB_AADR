{
 "cells": [
  {
   "cell_type": "code",
   "execution_count": 1,
   "id": "73bc88ae",
   "metadata": {
    "execution": {
     "iopub.execute_input": "2024-05-30T22:27:45.744875Z",
     "iopub.status.busy": "2024-05-30T22:27:45.744755Z",
     "iopub.status.idle": "2024-05-30T22:27:45.862186Z",
     "shell.execute_reply": "2024-05-30T22:27:45.861401Z"
    },
    "papermill": {
     "duration": 0.120834,
     "end_time": "2024-05-30T22:27:45.863103",
     "exception": false,
     "start_time": "2024-05-30T22:27:45.742269",
     "status": "completed"
    },
    "tags": []
   },
   "outputs": [
    {
     "name": "stdout",
     "output_type": "stream",
     "text": [
      "/home/dodo/projects/aDNA_Comparative_Analysis/notebooks\n"
     ]
    }
   ],
   "source": [
    "!pwd"
   ]
  },
  {
   "cell_type": "markdown",
   "id": "fdcbadb8",
   "metadata": {
    "papermill": {
     "duration": 0.009467,
     "end_time": "2024-05-30T22:27:45.874236",
     "exception": false,
     "start_time": "2024-05-30T22:27:45.864769",
     "status": "completed"
    },
    "tags": []
   },
   "source": [
    "# Example analysis using the EIGENSOFT package\n",
    "## We'll follow these steps:\n",
    "\n",
    "* Setup and Configuration: Ensure that all necessary files and configurations are in place.\n",
    "* File Conversion: Use convertf to convert example data into the required format.\n",
    "* PCA Analysis: Use smartpca to perform Principal Components Analysis (PCA).\n",
    "* Plotting Results: Use ploteig to visualize the results of PCA."
   ]
  },
  {
   "cell_type": "code",
   "execution_count": 2,
   "id": "cf94736d",
   "metadata": {
    "execution": {
     "iopub.execute_input": "2024-05-30T22:27:45.878104Z",
     "iopub.status.busy": "2024-05-30T22:27:45.878019Z",
     "iopub.status.idle": "2024-05-30T22:27:45.880274Z",
     "shell.execute_reply": "2024-05-30T22:27:45.879694Z"
    },
    "papermill": {
     "duration": 0.005612,
     "end_time": "2024-05-30T22:27:45.881373",
     "exception": false,
     "start_time": "2024-05-30T22:27:45.875761",
     "status": "completed"
    },
    "tags": []
   },
   "outputs": [],
   "source": [
    "import os\n",
    "import subprocess\n"
   ]
  },
  {
   "cell_type": "code",
   "execution_count": 3,
   "id": "ae604caf",
   "metadata": {
    "execution": {
     "iopub.execute_input": "2024-05-30T22:27:45.885379Z",
     "iopub.status.busy": "2024-05-30T22:27:45.885270Z",
     "iopub.status.idle": "2024-05-30T22:27:45.888906Z",
     "shell.execute_reply": "2024-05-30T22:27:45.888255Z"
    },
    "papermill": {
     "duration": 0.006663,
     "end_time": "2024-05-30T22:27:45.889640",
     "exception": false,
     "start_time": "2024-05-30T22:27:45.882977",
     "status": "completed"
    },
    "tags": []
   },
   "outputs": [],
   "source": [
    "# Define the paths\n",
    "base_dir = os.path.abspath(\"../EIG\")\n",
    "out_dir = os.path.abspath(\"../output\")\n",
    "bin_dir = os.path.join(base_dir, \"bin\")\n",
    "convertf_dir = os.path.join(base_dir, \"CONVERTF\")\n",
    "eigenstrat_dir = os.path.join(base_dir, \"EIGENSTRAT\")\n",
    "notebook_dir = os.getcwd()\n",
    "\n",
    "# Define the output directory for EIGENSOFT analysis\n",
    "output_dir = os.path.join(out_dir, \"EIG_output\")\n",
    "os.makedirs(output_dir, exist_ok=True)\n",
    "\n",
    "# Set environment variables to ensure consistency\n",
    "os.environ['PATH'] = bin_dir + os.pathsep + os.environ['PATH']\n",
    "# File paths for the parameter files\n",
    "convertf_par_file = os.path.join(notebook_dir, \"par.ANCESTRYMAP.EIGENSTRAT\")\n",
    "smartpca_par_file = os.path.join(notebook_dir, \"par.smartpca\")\n",
    "smarteigenstrat_par_file = os.path.join(output_dir, \"example.chisq.par\")\n"
   ]
  },
  {
   "cell_type": "code",
   "execution_count": 4,
   "id": "87ea78ab",
   "metadata": {
    "execution": {
     "iopub.execute_input": "2024-05-30T22:27:45.893058Z",
     "iopub.status.busy": "2024-05-30T22:27:45.892975Z",
     "iopub.status.idle": "2024-05-30T22:27:45.895692Z",
     "shell.execute_reply": "2024-05-30T22:27:45.895377Z"
    },
    "papermill": {
     "duration": 0.005218,
     "end_time": "2024-05-30T22:27:45.896370",
     "exception": false,
     "start_time": "2024-05-30T22:27:45.891152",
     "status": "completed"
    },
    "tags": []
   },
   "outputs": [],
   "source": [
    "# Write the convertf parameter file\n",
    "with open(convertf_par_file, 'w') as f:\n",
    "    f.write(f\"\"\"genotypename:    {os.path.join(convertf_dir, \"example.ancestrymapgeno\")}\n",
    "snpname:         {os.path.join(convertf_dir, \"example.snp\")}\n",
    "indivname:       {os.path.join(convertf_dir, \"example.ind\")}\n",
    "outputformat:    EIGENSTRAT\n",
    "genooutfilename: {os.path.join(output_dir, \"example.eigenstratgeno\")}\n",
    "snpoutfilename:  {os.path.join(output_dir, \"example.snp\")}\n",
    "indoutfilename:  {os.path.join(output_dir, \"example.ind\")}\"\"\")\n",
    "\n",
    "# Write the smartpca parameter file\n",
    "with open(smartpca_par_file, 'w') as f:\n",
    "    f.write(f\"\"\"genotypename:    {os.path.join(output_dir, \"example.eigenstratgeno\")}\n",
    "snpname:         {os.path.join(output_dir, \"example.snp\")}\n",
    "indivname:       {os.path.join(output_dir, \"example.ind\")}\n",
    "evecoutname:     {os.path.join(output_dir, \"example.pca.evec\")}\n",
    "evaloutname:     {os.path.join(output_dir, \"example.pca.eval\")}\n",
    "numoutevec:      5\"\"\")\n",
    "\n",
    "# Write the smarteigenstrat parameter file\n",
    "with open(smarteigenstrat_par_file, 'w') as f:\n",
    "    f.write(f\"\"\"genotypename:    {os.path.join(output_dir, \"example.eigenstratgeno\")}\n",
    "snpname:         {os.path.join(output_dir, \"example.snp\")}\n",
    "indivname:       {os.path.join(output_dir, \"example.ind\")}\n",
    "pcaname:         {os.path.join(output_dir, \"example.pca.evec\")}\n",
    "outputname:      {os.path.join(output_dir, \"example.chisq\")}\n",
    "numeigs:         5\n",
    "qtmode:          NO\"\"\")\n",
    "    "
   ]
  },
  {
   "cell_type": "code",
   "execution_count": 5,
   "id": "28995ac6",
   "metadata": {
    "execution": {
     "iopub.execute_input": "2024-05-30T22:27:45.900016Z",
     "iopub.status.busy": "2024-05-30T22:27:45.899943Z",
     "iopub.status.idle": "2024-05-30T22:27:45.901699Z",
     "shell.execute_reply": "2024-05-30T22:27:45.901554Z"
    },
    "papermill": {
     "duration": 0.004553,
     "end_time": "2024-05-30T22:27:45.902492",
     "exception": false,
     "start_time": "2024-05-30T22:27:45.897939",
     "status": "completed"
    },
    "tags": []
   },
   "outputs": [],
   "source": [
    "# Function to run a command and capture its output\n",
    "def run_command(command):\n",
    "    try:\n",
    "        result = subprocess.run(command, shell=True, check=True, capture_output=True, text=True)\n",
    "        print(result.stdout)\n",
    "        print(result.stderr)\n",
    "    except subprocess.CalledProcessError as e:\n",
    "        print(f\"Error running command: {e}\")\n",
    "        print(f\"Return code: {e.returncode}\")\n",
    "        print(f\"Output: {e.output}\")\n",
    "        print(f\"Stderr: {e.stderr}\")\n",
    "        raise\n",
    "    "
   ]
  },
  {
   "cell_type": "code",
   "execution_count": 6,
   "id": "969fef79",
   "metadata": {
    "execution": {
     "iopub.execute_input": "2024-05-30T22:27:45.906081Z",
     "iopub.status.busy": "2024-05-30T22:27:45.905972Z",
     "iopub.status.idle": "2024-05-30T22:27:45.910152Z",
     "shell.execute_reply": "2024-05-30T22:27:45.909908Z"
    },
    "papermill": {
     "duration": 0.006917,
     "end_time": "2024-05-30T22:27:45.910866",
     "exception": false,
     "start_time": "2024-05-30T22:27:45.903949",
     "status": "completed"
    },
    "tags": []
   },
   "outputs": [
    {
     "name": "stdout",
     "output_type": "stream",
     "text": [
      "parameter file: /home/dodo/projects/aDNA_Comparative_Analysis/notebooks/par.ANCESTRYMAP.EIGENSTRAT\n",
      "genotypename: /home/dodo/projects/aDNA_Comparative_Analysis/EIG/CONVERTF/example.ancestrymapgeno\n",
      "snpname: /home/dodo/projects/aDNA_Comparative_Analysis/EIG/CONVERTF/example.snp\n",
      "indivname: /home/dodo/projects/aDNA_Comparative_Analysis/EIG/CONVERTF/example.ind\n",
      "outputformat: EIGENSTRAT\n",
      "genooutfilename: /home/dodo/projects/aDNA_Comparative_Analysis/output/EIG_output/example.eigenstratgeno\n",
      "snpoutfilename: /home/dodo/projects/aDNA_Comparative_Analysis/output/EIG_output/example.snp\n",
      "indoutfilename: /home/dodo/projects/aDNA_Comparative_Analysis/output/EIG_output/example.ind\n",
      "## /home/dodo/projects/aDNA_Comparative_Analysis/EIG/bin/convertf version: 5000\n",
      "numvalidind:      5  maxmiss:  5001\n",
      "eigenstrat output\n",
      "##end of convertf run\n",
      "\n",
      "\n"
     ]
    }
   ],
   "source": [
    "# Run convertf\n",
    "convertf_command = f\"{os.path.join(bin_dir, 'convertf')} -p {convertf_par_file}\"\n",
    "run_command(convertf_command)\n"
   ]
  },
  {
   "cell_type": "code",
   "execution_count": 7,
   "id": "9e621af6",
   "metadata": {
    "execution": {
     "iopub.execute_input": "2024-05-30T22:27:45.914584Z",
     "iopub.status.busy": "2024-05-30T22:27:45.914444Z",
     "iopub.status.idle": "2024-05-30T22:27:45.922071Z",
     "shell.execute_reply": "2024-05-30T22:27:45.921707Z"
    },
    "papermill": {
     "duration": 0.010387,
     "end_time": "2024-05-30T22:27:45.922758",
     "exception": false,
     "start_time": "2024-05-30T22:27:45.912371",
     "status": "completed"
    },
    "tags": []
   },
   "outputs": [
    {
     "name": "stdout",
     "output_type": "stream",
     "text": [
      "\n",
      "\n"
     ]
    }
   ],
   "source": [
    "# Run smartpca\n",
    "smartpca_command = f\"{os.path.join(bin_dir, 'smartpca')} -p {smartpca_par_file} > {os.path.join(output_dir, 'smartpca.log')}\"\n",
    "run_command(smartpca_command)\n"
   ]
  },
  {
   "cell_type": "code",
   "execution_count": 8,
   "id": "5a4398ac",
   "metadata": {
    "execution": {
     "iopub.execute_input": "2024-05-30T22:27:45.926647Z",
     "iopub.status.busy": "2024-05-30T22:27:45.926499Z",
     "iopub.status.idle": "2024-05-30T22:27:45.928944Z",
     "shell.execute_reply": "2024-05-30T22:27:45.928441Z"
    },
    "papermill": {
     "duration": 0.005204,
     "end_time": "2024-05-30T22:27:45.929473",
     "exception": false,
     "start_time": "2024-05-30T22:27:45.924269",
     "status": "completed"
    },
    "tags": []
   },
   "outputs": [],
   "source": [
    "# # Run smarteigenstrat with the parameter file\n",
    "# smarteigenstrat_command = f\"{os.path.join(bin_dir, 'smarteigenstrat')} -p {smarteigenstrat_par_file} > {os.path.join(output_dir, 'smarteigenstrat.log')}\"\n",
    "# run_command(smarteigenstrat_command)\n",
    "\n",
    "# # TODO: Run smarteigenstrat with the parameter file and correct the error"
   ]
  },
  {
   "cell_type": "code",
   "execution_count": 9,
   "id": "8af8c464",
   "metadata": {
    "execution": {
     "iopub.execute_input": "2024-05-30T22:27:45.933254Z",
     "iopub.status.busy": "2024-05-30T22:27:45.933124Z",
     "iopub.status.idle": "2024-05-30T22:27:45.935001Z",
     "shell.execute_reply": "2024-05-30T22:27:45.934659Z"
    },
    "papermill": {
     "duration": 0.004648,
     "end_time": "2024-05-30T22:27:45.935691",
     "exception": false,
     "start_time": "2024-05-30T22:27:45.931043",
     "status": "completed"
    },
    "tags": []
   },
   "outputs": [
    {
     "name": "stdout",
     "output_type": "stream",
     "text": [
      "Analysis complete. Check the generated files in the EIG_output directory.\n"
     ]
    }
   ],
   "source": [
    "# Output completion message\n",
    "print(\"Analysis complete. Check the generated files in the EIG_output directory.\")\n",
    "\n"
   ]
  },
  {
   "cell_type": "code",
   "execution_count": 10,
   "id": "5163d5d5",
   "metadata": {
    "execution": {
     "iopub.execute_input": "2024-05-30T22:27:45.939471Z",
     "iopub.status.busy": "2024-05-30T22:27:45.939317Z",
     "iopub.status.idle": "2024-05-30T22:27:45.940835Z",
     "shell.execute_reply": "2024-05-30T22:27:45.940595Z"
    },
    "papermill": {
     "duration": 0.004237,
     "end_time": "2024-05-30T22:27:45.941421",
     "exception": false,
     "start_time": "2024-05-30T22:27:45.937184",
     "status": "completed"
    },
    "tags": []
   },
   "outputs": [
    {
     "name": "stdout",
     "output_type": "stream",
     "text": [
      "Analysis complete. Check the generated files in the EIG_output directory.\n"
     ]
    }
   ],
   "source": [
    "# Output completion message\n",
    "print(\"Analysis complete. Check the generated files in the EIG_output directory.\")\n"
   ]
  },
  {
   "cell_type": "markdown",
   "id": "969fc332",
   "metadata": {
    "papermill": {
     "duration": 0.001514,
     "end_time": "2024-05-30T22:27:45.944681",
     "exception": false,
     "start_time": "2024-05-30T22:27:45.943167",
     "status": "completed"
    },
    "tags": []
   },
   "source": [
    "# Example Analysis Using the EIGENSOFT Package\n",
    "\n",
    "## Overview\n",
    "\n",
    "This analysis will guide you through the process of using the EIGENSOFT package to perform a comprehensive genetic data analysis. We will cover setting up and configuring the environment, converting data formats, performing Principal Components Analysis (PCA), and visualizing the results. Each step is crucial to ensure accurate and meaningful analysis of the genetic data.\n",
    "\n",
    "## Steps\n",
    "\n",
    "### 1. Setup and Configuration\n",
    "\n",
    "Before starting the analysis, we need to ensure that all necessary files and configurations are in place. This includes setting up the directories, defining paths, and preparing the environment variables.\n",
    "\n",
    "### 2. File Conversion\n",
    "\n",
    "The first computational step involves converting the example data into the required format using the `convertf` tool. This tool is part of the EIGENSOFT package and helps in transforming various genetic data formats into the EIGENSTRAT format, which is necessary for subsequent analysis steps.\n",
    "\n",
    "### 3. PCA Analysis\n",
    "\n",
    "Once the data is converted, we will perform Principal Components Analysis (PCA) using the `smartpca` tool. PCA is a statistical technique used to emphasize variation and bring out strong patterns in a dataset. It reduces the dimensionality of the data while preserving as much variability as possible.\n",
    "\n",
    "### 4. Plotting Results\n",
    "\n",
    "After performing PCA, visualizing the results is crucial for interpreting the data. We use `ploteig`, a utility that generates plots of the top principal components, making it easier to understand the genetic variation and structure within the dataset.\n",
    "\n",
    "## Detailed Steps\n",
    "\n",
    "### Setup and Configuration\n",
    "\n",
    "1. **Define Paths and Directories**: Set up the paths for the EIGENSOFT package, input data, and output directories.\n",
    "2. **Set Environment Variables**: Ensure that the PATH environment variable includes the directory with EIGENSOFT binaries.\n",
    "3. **Create Output Directory**: Create an output directory where all the results and logs will be stored.\n",
    "\n",
    "\n"
   ]
  },
  {
   "cell_type": "code",
   "execution_count": 11,
   "id": "fcf51d7d",
   "metadata": {
    "execution": {
     "iopub.execute_input": "2024-05-30T22:27:45.948536Z",
     "iopub.status.busy": "2024-05-30T22:27:45.948430Z",
     "iopub.status.idle": "2024-05-30T22:27:45.950224Z",
     "shell.execute_reply": "2024-05-30T22:27:45.949995Z"
    },
    "papermill": {
     "duration": 0.004527,
     "end_time": "2024-05-30T22:27:45.950829",
     "exception": false,
     "start_time": "2024-05-30T22:27:45.946302",
     "status": "completed"
    },
    "tags": []
   },
   "outputs": [],
   "source": [
    "import os\n",
    "import subprocess\n",
    "\n",
    "# Define the paths\n",
    "base_dir = os.path.abspath(\"../EIG\")\n",
    "out_dir = os.path.abspath(\"../output\")\n",
    "bin_dir = os.path.join(base_dir, \"bin\")\n",
    "convertf_dir = os.path.join(base_dir, \"CONVERTF\")\n",
    "eigenstrat_dir = os.path.join(base_dir, \"EIGENSTRAT\")\n",
    "notebook_dir = os.getcwd()\n",
    "\n",
    "# Define the output directory for EIGENSOFT analysis\n",
    "output_dir = os.path.join(out_dir, \"EIG_output\")\n",
    "os.makedirs(output_dir, exist_ok=True)\n",
    "\n",
    "# Set environment variables to ensure consistency\n",
    "os.environ['PATH'] = bin_dir + os.pathsep + os.environ['PATH']"
   ]
  },
  {
   "cell_type": "markdown",
   "id": "ec369030",
   "metadata": {
    "papermill": {
     "duration": 0.001582,
     "end_time": "2024-05-30T22:27:45.954082",
     "exception": false,
     "start_time": "2024-05-30T22:27:45.952500",
     "status": "completed"
    },
    "tags": []
   },
   "source": [
    "## File Conversion\n",
    "\n",
    "Convert the example data files into the EIGENSTRAT format using the convertf tool. Create a parameter file for convertf specifying the input and output file paths."
   ]
  },
  {
   "cell_type": "code",
   "execution_count": 12,
   "id": "e245b49f",
   "metadata": {
    "execution": {
     "iopub.execute_input": "2024-05-30T22:27:45.957980Z",
     "iopub.status.busy": "2024-05-30T22:27:45.957868Z",
     "iopub.status.idle": "2024-05-30T22:27:45.962835Z",
     "shell.execute_reply": "2024-05-30T22:27:45.962418Z"
    },
    "papermill": {
     "duration": 0.007702,
     "end_time": "2024-05-30T22:27:45.963400",
     "exception": false,
     "start_time": "2024-05-30T22:27:45.955698",
     "status": "completed"
    },
    "tags": []
   },
   "outputs": [
    {
     "name": "stdout",
     "output_type": "stream",
     "text": [
      "parameter file: /home/dodo/projects/aDNA_Comparative_Analysis/notebooks/par.ANCESTRYMAP.EIGENSTRAT\n",
      "genotypename: /home/dodo/projects/aDNA_Comparative_Analysis/EIG/CONVERTF/example.ancestrymapgeno\n",
      "snpname: /home/dodo/projects/aDNA_Comparative_Analysis/EIG/CONVERTF/example.snp\n",
      "indivname: /home/dodo/projects/aDNA_Comparative_Analysis/EIG/CONVERTF/example.ind\n",
      "outputformat: EIGENSTRAT\n",
      "genooutfilename: /home/dodo/projects/aDNA_Comparative_Analysis/output/EIG_output/example.eigenstratgeno\n",
      "snpoutfilename: /home/dodo/projects/aDNA_Comparative_Analysis/output/EIG_output/example.snp\n",
      "indoutfilename: /home/dodo/projects/aDNA_Comparative_Analysis/output/EIG_output/example.ind\n",
      "## /home/dodo/projects/aDNA_Comparative_Analysis/EIG/bin/convertf version: 5000\n",
      "numvalidind:      5  maxmiss:  5001\n",
      "eigenstrat output\n",
      "##end of convertf run\n"
     ]
    },
    {
     "data": {
      "text/plain": [
       "CompletedProcess(args='/home/dodo/projects/aDNA_Comparative_Analysis/EIG/bin/convertf -p /home/dodo/projects/aDNA_Comparative_Analysis/notebooks/par.ANCESTRYMAP.EIGENSTRAT', returncode=0)"
      ]
     },
     "execution_count": 12,
     "metadata": {},
     "output_type": "execute_result"
    }
   ],
   "source": [
    "# File paths for the parameter files\n",
    "convertf_par_file = os.path.join(notebook_dir, \"par.ANCESTRYMAP.EIGENSTRAT\")\n",
    "\n",
    "# Write the convertf parameter file\n",
    "with open(convertf_par_file, 'w') as f:\n",
    "    f.write(f\"\"\"genotypename:    {os.path.join(convertf_dir, \"example.ancestrymapgeno\")}\n",
    "snpname:         {os.path.join(convertf_dir, \"example.snp\")}\n",
    "indivname:       {os.path.join(convertf_dir, \"example.ind\")}\n",
    "outputformat:    EIGENSTRAT\n",
    "genooutfilename: {os.path.join(output_dir, \"example.eigenstratgeno\")}\n",
    "snpoutfilename:  {os.path.join(output_dir, \"example.snp\")}\n",
    "indoutfilename:  {os.path.join(output_dir, \"example.ind\")}\"\"\")\n",
    "\n",
    "# Run convertf\n",
    "convertf_command = os.path.join(bin_dir, \"convertf\") + \" -p \" + convertf_par_file\n",
    "subprocess.run(convertf_command, shell=True, check=True)\n"
   ]
  },
  {
   "cell_type": "markdown",
   "id": "c0a39f11",
   "metadata": {
    "papermill": {
     "duration": 0.001698,
     "end_time": "2024-05-30T22:27:45.966818",
     "exception": false,
     "start_time": "2024-05-30T22:27:45.965120",
     "status": "completed"
    },
    "tags": []
   },
   "source": [
    "## PCA Analysis\n",
    "\n",
    "Perform PCA using the smartpca tool. Create a parameter file for smartpca specifying the input and output file paths."
   ]
  },
  {
   "cell_type": "code",
   "execution_count": 13,
   "id": "7af430fa",
   "metadata": {
    "execution": {
     "iopub.execute_input": "2024-05-30T22:27:45.970868Z",
     "iopub.status.busy": "2024-05-30T22:27:45.970738Z",
     "iopub.status.idle": "2024-05-30T22:27:45.980997Z",
     "shell.execute_reply": "2024-05-30T22:27:45.980751Z"
    },
    "papermill": {
     "duration": 0.013069,
     "end_time": "2024-05-30T22:27:45.981517",
     "exception": false,
     "start_time": "2024-05-30T22:27:45.968448",
     "status": "completed"
    },
    "tags": []
   },
   "outputs": [
    {
     "data": {
      "text/plain": [
       "CompletedProcess(args='/home/dodo/projects/aDNA_Comparative_Analysis/EIG/bin/smartpca -p /home/dodo/projects/aDNA_Comparative_Analysis/notebooks/par.smartpca > /home/dodo/projects/aDNA_Comparative_Analysis/output/EIG_output/smartpca.log', returncode=0)"
      ]
     },
     "execution_count": 13,
     "metadata": {},
     "output_type": "execute_result"
    }
   ],
   "source": [
    "# File paths for the parameter files\n",
    "smartpca_par_file = os.path.join(notebook_dir, \"par.smartpca\")\n",
    "\n",
    "# Write the smartpca parameter file\n",
    "with open(smartpca_par_file, 'w') as f:\n",
    "    f.write(f\"\"\"genotypename:    {os.path.join(output_dir, \"example.eigenstratgeno\")}\n",
    "snpname:         {os.path.join(output_dir, \"example.snp\")}\n",
    "indivname:       {os.path.join(output_dir, \"example.ind\")}\n",
    "evecoutname:     {os.path.join(output_dir, \"example.pca.evec\")}\n",
    "evaloutname:     {os.path.join(output_dir, \"example.pca.eval\")}\n",
    "numoutevec:      10\"\"\")\n",
    "\n",
    "# Run smartpca\n",
    "smartpca_command = os.path.join(bin_dir, \"smartpca\") + \" -p \" + smartpca_par_file + \" > \" + os.path.join(output_dir, \"smartpca.log\")\n",
    "subprocess.run(smartpca_command, shell=True, check=True)\n"
   ]
  },
  {
   "cell_type": "markdown",
   "id": "7fa9ceb5",
   "metadata": {
    "papermill": {
     "duration": 0.001608,
     "end_time": "2024-05-30T22:27:45.984927",
     "exception": false,
     "start_time": "2024-05-30T22:27:45.983319",
     "status": "completed"
    },
    "tags": []
   },
   "source": [
    "# Plotting Results\n",
    "\n",
    "Visualize the PCA results using ploteig or a custom Python script with matplotlib. If using ploteig, you can create a plot of the principal components directly. If using Python, read the PCA results from the .evec file and create a scatter plot."
   ]
  },
  {
   "cell_type": "code",
   "execution_count": 14,
   "id": "a5cc95b4",
   "metadata": {
    "execution": {
     "iopub.execute_input": "2024-05-30T22:27:45.989424Z",
     "iopub.status.busy": "2024-05-30T22:27:45.989181Z",
     "iopub.status.idle": "2024-05-30T22:27:46.096454Z",
     "shell.execute_reply": "2024-05-30T22:27:46.095684Z"
    },
    "papermill": {
     "duration": 0.11073,
     "end_time": "2024-05-30T22:27:46.097469",
     "exception": false,
     "start_time": "2024-05-30T22:27:45.986739",
     "status": "completed"
    },
    "tags": []
   },
   "outputs": [
    {
     "name": "stdout",
     "output_type": "stream",
     "text": [
      "/home/dodo/projects/aDNA_Comparative_Analysis/notebooks\n"
     ]
    }
   ],
   "source": [
    "!pwd"
   ]
  },
  {
   "cell_type": "markdown",
   "id": "a10887e4",
   "metadata": {
    "papermill": {
     "duration": 0.009729,
     "end_time": "2024-05-30T22:27:46.109104",
     "exception": false,
     "start_time": "2024-05-30T22:27:46.099375",
     "status": "completed"
    },
    "tags": []
   },
   "source": [
    "Using ploteig"
   ]
  },
  {
   "cell_type": "code",
   "execution_count": 15,
   "id": "24cd0043",
   "metadata": {
    "execution": {
     "iopub.execute_input": "2024-05-30T22:27:46.113599Z",
     "iopub.status.busy": "2024-05-30T22:27:46.113506Z",
     "iopub.status.idle": "2024-05-30T22:27:46.220167Z",
     "shell.execute_reply": "2024-05-30T22:27:46.219395Z"
    },
    "papermill": {
     "duration": 0.110186,
     "end_time": "2024-05-30T22:27:46.221154",
     "exception": false,
     "start_time": "2024-05-30T22:27:46.110968",
     "status": "completed"
    },
    "tags": []
   },
   "outputs": [
    {
     "name": "stdout",
     "output_type": "stream",
     "text": [
      "/bin/bash: /home/dodo/projects/aDNA_Comparative_Analysis/EIG/bin/ploteig: /usr/local/bin/perl: bad interpreter: No such file or directory\n"
     ]
    }
   ],
   "source": [
    "!ploteig -i ../EIG/EIGENSTRAT/example.pca.evec -c 1:2 -p Case:Control -x -y -o ../EIG/EIGENSTRAT/example.plot.xtxt\n"
   ]
  },
  {
   "cell_type": "code",
   "execution_count": 16,
   "id": "a72dedc2",
   "metadata": {
    "execution": {
     "iopub.execute_input": "2024-05-30T22:27:46.225847Z",
     "iopub.status.busy": "2024-05-30T22:27:46.225750Z",
     "iopub.status.idle": "2024-05-30T22:27:46.845679Z",
     "shell.execute_reply": "2024-05-30T22:27:46.845175Z"
    },
    "papermill": {
     "duration": 0.623398,
     "end_time": "2024-05-30T22:27:46.846486",
     "exception": false,
     "start_time": "2024-05-30T22:27:46.223088",
     "status": "completed"
    },
    "tags": []
   },
   "outputs": [
    {
     "data": {
      "image/png": "[encoded data removed]",
      "text/plain": [
       "<Figure size 1000x1000 with 1 Axes>"
      ]
     },
     "metadata": {},
     "output_type": "display_data"
    }
   ],
   "source": [
    "import pandas as pd\n",
    "import matplotlib.pyplot as plt\n",
    "import seaborn as sns\n",
    "\n",
    "# Paths to the files\n",
    "evec_file = '../EIG/EIGENSTRAT/example.pca.evec'\n",
    "ind_file = '../EIG/EIGENSTRAT/example.ind'\n",
    "\n",
    "# Read the .evec file, skipping the first line and handling whitespace issues\n",
    "with open(evec_file, 'r') as f:\n",
    "    lines = f.readlines()\n",
    "\n",
    "# Skip the first line and split remaining lines into columns\n",
    "data = []\n",
    "for line in lines[1:]:\n",
    "    parts = line.split()\n",
    "    sample = parts[0]\n",
    "    pcs = list(map(float, parts[1:-1]))\n",
    "    population = parts[-1]\n",
    "    data.append([sample] + pcs + [population])\n",
    "\n",
    "# Create a DataFrame from the parsed data\n",
    "columns = ['Sample'] + [f'PC{i}' for i in range(1, len(data[0]) - 1)] + ['Population']\n",
    "evec_df = pd.DataFrame(data, columns=columns)\n",
    "\n",
    "# Read the .ind file to get the population information\n",
    "with open(ind_file, 'r') as f:\n",
    "    lines = f.readlines()\n",
    "\n",
    "# Parse the .ind file similarly\n",
    "ind_data = []\n",
    "for line in lines:\n",
    "    parts = line.split()\n",
    "    sample = parts[0]\n",
    "    sex = parts[1]\n",
    "    population = parts[2]\n",
    "    ind_data.append([sample, sex, population])\n",
    "\n",
    "# Create a DataFrame from the parsed .ind data\n",
    "ind_df = pd.DataFrame(ind_data, columns=['Sample', 'Sex', 'Population'])\n",
    "\n",
    "# Merge the DataFrames on the Sample column\n",
    "merged_df = pd.merge(evec_df, ind_df[['Sample', 'Population']], on='Sample')\n",
    "\n",
    "# Drop one of the duplicate Population columns\n",
    "merged_df = merged_df.drop(columns=['Population_y']).rename(columns={'Population_x': 'Population'})\n",
    "\n",
    "# Correcting the inversion by multiplying the principal components by -1\n",
    "merged_df[['PC1', 'PC2']] = merged_df[['PC1', 'PC2']] * -1\n",
    "\n",
    "# Plot the first two principal components using Seaborn\n",
    "plt.figure(figsize=(10, 10))\n",
    "\n",
    "# Adjusting the axis limits and markers to match the example plot\n",
    "sns.scatterplot(\n",
    "    data=merged_df, \n",
    "    x='PC1', \n",
    "    y='PC2', \n",
    "    hue='Population', \n",
    "    style='Population', \n",
    "    markers={'Case': 'P', 'Control': 'X'}, \n",
    "    s=80, \n",
    "    alpha=0.9, \n",
    "    palette={'Case': 'red', 'Control': 'green'}\n",
    ")\n",
    "\n",
    "plt.xlabel('eigenvector 1')\n",
    "plt.ylabel('eigenvector 2')\n",
    "plt.title('PCA Plot')\n",
    "plt.legend(title='Population', loc='upper right')\n",
    "plt.grid(True)\n",
    "plt.xlim(-0.6, 0.8)\n",
    "plt.ylim(-0.8, 0.8)\n",
    "plt.gca().set_aspect('equal', adjustable='box')\n",
    "plt.show()\n"
   ]
  },
  {
   "cell_type": "markdown",
   "id": "03867bcf",
   "metadata": {
    "papermill": {
     "duration": 0.001963,
     "end_time": "2024-05-30T22:27:46.850619",
     "exception": false,
     "start_time": "2024-05-30T22:27:46.848656",
     "status": "completed"
    },
    "tags": []
   },
   "source": [
    "# AADR DATA"
   ]
  },
  {
   "cell_type": "code",
   "execution_count": 29,
   "id": "aeef75c9",
   "metadata": {},
   "outputs": [
    {
     "name": "stdout",
     "output_type": "stream",
     "text": [
      "Created shortened geno file: /home/dodo/projects/aDNA_Comparative_Analysis/output/EIG_output/aadr_v54.1.p1_1240K_public_short_50.geno\n",
      "Created shortened snp file: /home/dodo/projects/aDNA_Comparative_Analysis/output/EIG_output/aadr_v54.1.p1_1240K_public_short_50.snp\n",
      "Created shortened ind file: /home/dodo/projects/aDNA_Comparative_Analysis/output/EIG_output/aadr_v54.1.p1_1240K_public_short_50.ind\n",
      "Updated header of shortened geno file\n"
     ]
    }
   ],
   "source": [
    "import os\n",
    "import struct\n",
    "\n",
    "# Define the paths\n",
    "data_dir = os.path.abspath(\"../data/aadr/dataverse_files\")\n",
    "output_dir = os.path.abspath(\"../output/EIG_output\")\n",
    "os.makedirs(output_dir, exist_ok=True)\n",
    "\n",
    "# Input file paths\n",
    "geno_file = os.path.join(data_dir, \"aadr_v54.1.p1_1240K_public.geno\")\n",
    "snp_file = os.path.join(data_dir, \"aadr_v54.1.p1_1240K_public.snp\")\n",
    "ind_file = os.path.join(data_dir, \"aadr_v54.1.p1_1240K_public.ind\")\n",
    "\n",
    "# Output file paths\n",
    "short_geno_file = os.path.join(output_dir, \"aadr_v54.1.p1_1240K_public_short_50.geno\")\n",
    "short_snp_file = os.path.join(output_dir, \"aadr_v54.1.p1_1240K_public_short_50.snp\")\n",
    "short_ind_file = os.path.join(output_dir, \"aadr_v54.1.p1_1240K_public_short_50.ind\")\n",
    "\n",
    "# Number of SNPs and individuals to keep\n",
    "n_snps = 50\n",
    "n_individuals = 50\n",
    "\n",
    "# Shorten the .geno file\n",
    "with open(geno_file, 'rb') as infile, open(short_geno_file, 'wb') as outfile:\n",
    "    # Read and write the header\n",
    "    header = infile.read(16)\n",
    "    outfile.write(header)\n",
    "    \n",
    "    # Process each SNP\n",
    "    for _ in range(n_snps):\n",
    "        snp_data = infile.read(n_individuals)\n",
    "        if not snp_data:\n",
    "            break\n",
    "        outfile.write(snp_data)\n",
    "\n",
    "print(f\"Created shortened geno file: {short_geno_file}\")\n",
    "\n",
    "# Shorten the .snp file\n",
    "with open(snp_file, 'r') as infile, open(short_snp_file, 'w') as outfile:\n",
    "    for i, line in enumerate(infile):\n",
    "        if i >= n_snps:\n",
    "            break\n",
    "        outfile.write(line)\n",
    "\n",
    "print(f\"Created shortened snp file: {short_snp_file}\")\n",
    "\n",
    "# Shorten the .ind file\n",
    "with open(ind_file, 'r') as infile, open(short_ind_file, 'w') as outfile:\n",
    "    for i, line in enumerate(infile):\n",
    "        if i >= n_individuals:\n",
    "            break\n",
    "        outfile.write(line)\n",
    "\n",
    "print(f\"Created shortened ind file: {short_ind_file}\")\n",
    "\n",
    "# Update the header of the shortened .geno file\n",
    "with open(short_geno_file, 'r+b') as f:\n",
    "    header = struct.unpack('4I', f.read(16))\n",
    "    new_header = struct.pack('4I', header[0], n_individuals, n_snps, header[3])\n",
    "    f.seek(0)\n",
    "    f.write(new_header)\n",
    "\n",
    "print(\"Updated header of shortened geno file\")"
   ]
  },
  {
   "cell_type": "code",
   "execution_count": null,
   "id": "38acd09c",
   "metadata": {
    "execution": {
     "iopub.execute_input": "2024-05-30T22:27:46.855286Z",
     "iopub.status.busy": "2024-05-30T22:27:46.855173Z",
     "iopub.status.idle": "2024-05-30T22:27:46.857723Z",
     "shell.execute_reply": "2024-05-30T22:27:46.857164Z"
    },
    "papermill": {
     "duration": 0.005989,
     "end_time": "2024-05-30T22:27:46.858527",
     "exception": false,
     "start_time": "2024-05-30T22:27:46.852538",
     "status": "completed"
    },
    "tags": []
   },
   "outputs": [],
   "source": [
    "# import os\n",
    "# import subprocess\n",
    "\n",
    "# # Define the paths\n",
    "# base_dir = os.path.abspath(\"../EIG\")\n",
    "# data_dir = os.path.abspath(\"../data/aadr/dataverse_files\")\n",
    "# output_dir = os.path.abspath(\"../output/EIG_output\")\n",
    "# bin_dir = os.path.join(base_dir, \"bin\")\n",
    "# os.makedirs(output_dir, exist_ok=True)\n",
    "\n",
    "# # Set environment variables to ensure consistency\n",
    "# os.environ['PATH'] = bin_dir + os.pathsep + os.environ['PATH']\n",
    "\n",
    "# # File paths for the parameter files\n",
    "# convertf_par_file = os.path.join(output_dir, \"par.ANCESTRYMAP.EIGENSTRAT\")\n",
    "\n",
    "# # Input file paths (shorter versions)\n",
    "# geno_file = os.path.join(data_dir, \"aadr_v54.1.p1_1240K_public_short_50.geno\")\n",
    "# snp_file = os.path.join(data_dir, \"aadr_v54.1.p1_1240K_public_short_50.snp\")\n",
    "# ind_file = os.path.join(data_dir, \"aadr_v54.1.p1_1240K_public_short_50.ind\")\n",
    "\n",
    "# # Check if input files exist\n",
    "# for file in [geno_file, snp_file, ind_file]:\n",
    "#     if not os.path.exists(file):\n",
    "#         raise FileNotFoundError(f\"Input file not found: {file}\")\n",
    "    "
   ]
  },
  {
   "cell_type": "code",
   "execution_count": 30,
   "id": "30ec5f33",
   "metadata": {},
   "outputs": [],
   "source": [
    "import os\n",
    "import subprocess\n",
    "\n",
    "# Define the paths\n",
    "base_dir = os.path.abspath(\"../EIG\")\n",
    "output_dir = os.path.abspath(\"../output/EIG_output\")\n",
    "bin_dir = os.path.join(base_dir, \"bin\")\n",
    "os.makedirs(output_dir, exist_ok=True)\n",
    "\n",
    "# Set environment variables to ensure consistency\n",
    "os.environ['PATH'] = bin_dir + os.pathsep + os.environ['PATH']\n",
    "\n",
    "# File paths for the parameter files\n",
    "convertf_par_file = os.path.join(output_dir, \"par.ANCESTRYMAP.EIGENSTRAT\")\n",
    "\n",
    "# Input file paths (shortened versions)\n",
    "geno_file = os.path.join(output_dir, \"aadr_v54.1.p1_1240K_public_short_50.geno\")\n",
    "snp_file = os.path.join(output_dir, \"aadr_v54.1.p1_1240K_public_short_50.snp\")\n",
    "ind_file = os.path.join(output_dir, \"aadr_v54.1.p1_1240K_public_short_50.ind\")\n",
    "\n",
    "# Check if input files exist\n",
    "for file in [geno_file, snp_file, ind_file]:\n",
    "    if not os.path.exists(file):\n",
    "        raise FileNotFoundError(f\"Input file not found: {file}\")\n"
   ]
  },
  {
   "cell_type": "code",
   "execution_count": 31,
   "id": "63304e93",
   "metadata": {},
   "outputs": [],
   "source": [
    "# Write the convertf parameter file\n",
    "with open(convertf_par_file, 'w') as f:\n",
    "    f.write(f\"\"\"genotypename: {geno_file}\n",
    "snpname: {snp_file}\n",
    "indivname: {ind_file}\n",
    "outputformat: EIGENSTRAT\n",
    "genooutfilename: {os.path.join(output_dir, \"aadr_short_50.eigenstratgeno\")}\n",
    "snpoutfilename: {os.path.join(output_dir, \"aadr_short_50.snp\")}\n",
    "indoutfilename: {os.path.join(output_dir, \"aadr_short_50.ind\")}\"\"\")\n",
    "\n"
   ]
  },
  {
   "cell_type": "code",
   "execution_count": 18,
   "id": "53dbdd47",
   "metadata": {
    "execution": {
     "iopub.execute_input": "2024-05-30T22:27:46.863218Z",
     "iopub.status.busy": "2024-05-30T22:27:46.863134Z",
     "iopub.status.idle": "2024-05-30T22:27:46.866342Z",
     "shell.execute_reply": "2024-05-30T22:27:46.865735Z"
    },
    "papermill": {
     "duration": 0.006785,
     "end_time": "2024-05-30T22:27:46.867253",
     "exception": false,
     "start_time": "2024-05-30T22:27:46.860468",
     "status": "completed"
    },
    "tags": []
   },
   "outputs": [],
   "source": [
    "# # Write the convertf parameter file\n",
    "# with open(convertf_par_file, 'w') as f:\n",
    "#     f.write(f\"\"\"genotypename:    {os.path.join(data_dir, \"aadr_v54.1.p1_1240K_public_short_50.geno\")}\n",
    "# snpname:         {os.path.join(data_dir, \"aadr_v54.1.p1_1240K_public_short_50.snp\")}\n",
    "# indivname:       {os.path.join(data_dir, \"aadr_v54.1.p1_1240K_public_short_50.ind\")}\n",
    "# outputformat:    EIGENSTRAT\n",
    "# genooutfilename: {os.path.join(output_dir, \"aadr_n_50.eigenstratgeno\")}\n",
    "# snpoutfilename:  {os.path.join(output_dir, \"aadr_n_50.snp\")}\n",
    "# indoutfilename:  {os.path.join(output_dir, \"aadr_n_50.ind\")}\"\"\")\n",
    "\n",
    "# # Write the smartpca parameter file\n",
    "# with open(smartpca_par_file, 'w') as f:\n",
    "#     f.write(f\"\"\"genotypename:    {os.path.join(output_dir, \"aadr_n_50.eigenstratgeno\")}\n",
    "# snpname:         {os.path.join(output_dir, \"aadr_n_50.snp\")}\n",
    "# indivname:       {os.path.join(output_dir, \"aadr_n_50.ind\")}\n",
    "# evecoutname:     {os.path.join(output_dir, \"aadr_n_50.pca.evec\")}\n",
    "# evaloutname:     {os.path.join(output_dir, \"aadr_n_50.pca.eval\")}\n",
    "# numoutevec:      10\"\"\")\n",
    "\n",
    "# # Write the smarteigenstrat parameter file\n",
    "# with open(smarteigenstrat_par_file, 'w') as f:\n",
    "#     f.write(f\"\"\"genotypename:    {os.path.join(output_dir, \"aadr_n_50.eigenstratgeno\")}\n",
    "# snpname:         {os.path.join(output_dir, \"aadr_n_50.snp\")}\n",
    "# indivname:       {os.path.join(output_dir, \"aadr_n_50.ind\")}\n",
    "# pcaname:         {os.path.join(output_dir, \"aadr_n_50.pca.evec\")}\n",
    "# outputname:      {os.path.join(output_dir, \"aadr_n_50.chisq\")}\n",
    "# numeigs:         10\n",
    "# qtmode:          NO\"\"\")\n",
    "    "
   ]
  },
  {
   "cell_type": "code",
   "execution_count": 25,
   "id": "8d3170ba",
   "metadata": {
    "execution": {
     "iopub.execute_input": "2024-05-30T22:27:46.872013Z",
     "iopub.status.busy": "2024-05-30T22:27:46.871726Z",
     "iopub.status.idle": "2024-05-30T22:27:46.874017Z",
     "shell.execute_reply": "2024-05-30T22:27:46.873501Z"
    },
    "papermill": {
     "duration": 0.005827,
     "end_time": "2024-05-30T22:27:46.874976",
     "exception": false,
     "start_time": "2024-05-30T22:27:46.869149",
     "status": "completed"
    },
    "tags": []
   },
   "outputs": [],
   "source": [
    "# # Function to run a command and capture its output\n",
    "# def run_command(command):\n",
    "#     try:\n",
    "#         result = subprocess.run(command, shell=True, check=True, capture_output=True, text=True)\n",
    "#         print(result.stdout)\n",
    "#         print(result.stderr)\n",
    "#     except subprocess.CalledProcessError as e:\n",
    "#         print(f\"Error running command: {e}\")\n",
    "#         print(f\"Return code: {e.returncode}\")\n",
    "#         print(f\"Output: {e.output}\")\n",
    "#         print(f\"Stderr: {e.stderr}\")\n",
    "#         raise\n",
    "    "
   ]
  },
  {
   "cell_type": "code",
   "execution_count": 32,
   "id": "1cd7345f",
   "metadata": {},
   "outputs": [],
   "source": [
    "# Function to run a command and capture its output\n",
    "def run_command(command):\n",
    "    try:\n",
    "        result = subprocess.run(command, shell=True, check=True, capture_output=True, text=True)\n",
    "        print(result.stdout)\n",
    "        print(result.stderr)\n",
    "    except subprocess.CalledProcessError as e:\n",
    "        print(f\"Error running command: {e}\")\n",
    "        print(f\"Return code: {e.returncode}\")\n",
    "        print(f\"Output: {e.output}\")\n",
    "        print(f\"Stderr: {e.stderr}\")\n",
    "        raise"
   ]
  },
  {
   "cell_type": "code",
   "execution_count": 33,
   "id": "f158fcba",
   "metadata": {},
   "outputs": [
    {
     "name": "stdout",
     "output_type": "stream",
     "text": [
      "Error running command: Command '/home/dodo/projects/aDNA_Comparative_Analysis/EIG/bin/convertf -p /home/dodo/projects/aDNA_Comparative_Analysis/output/EIG_output/par.ANCESTRYMAP.EIGENSTRAT' returned non-zero exit status 134.\n",
      "Return code: 134\n",
      "Output: parameter file: /home/dodo/projects/aDNA_Comparative_Analysis/output/EIG_output/par.ANCESTRYMAP.EIGENSTRAT\n",
      "genotypename: /home/dodo/projects/aDNA_Comparative_Analysis/output/EIG_output/aadr_v54.1.p1_1240K_public_short_50.geno\n",
      "snpname: /home/dodo/projects/aDNA_Comparative_Analysis/output/EIG_output/aadr_v54.1.p1_1240K_public_short_50.snp\n",
      "indivname: /home/dodo/projects/aDNA_Comparative_Analysis/output/EIG_output/aadr_v54.1.p1_1240K_public_short_50.ind\n",
      "outputformat: EIGENSTRAT\n",
      "genooutfilename: /home/dodo/projects/aDNA_Comparative_Analysis/output/EIG_output/aadr_short_50.eigenstratgeno\n",
      "snpoutfilename: /home/dodo/projects/aDNA_Comparative_Analysis/output/EIG_output/aadr_short_50.snp\n",
      "indoutfilename: /home/dodo/projects/aDNA_Comparative_Analysis/output/EIG_output/aadr_short_50.ind\n",
      "## /home/dodo/projects/aDNA_Comparative_Analysis/EIG/bin/convertf version: 5000\n",
      "\n",
      "Stderr: fatalx:\n",
      "OOPS number of individuals 50 != 2 in input files\n",
      "Aborted (core dumped)\n",
      "\n"
     ]
    },
    {
     "ename": "CalledProcessError",
     "evalue": "Command '/home/dodo/projects/aDNA_Comparative_Analysis/EIG/bin/convertf -p /home/dodo/projects/aDNA_Comparative_Analysis/output/EIG_output/par.ANCESTRYMAP.EIGENSTRAT' returned non-zero exit status 134.",
     "output_type": "error",
     "traceback": [
      "\u001b[0;31m---------------------------------------------------------------------------\u001b[0m",
      "\u001b[0;31mCalledProcessError\u001b[0m                        Traceback (most recent call last)",
      "Cell \u001b[0;32mIn[33], line 3\u001b[0m\n\u001b[1;32m      1\u001b[0m \u001b[38;5;66;03m# Run convertf\u001b[39;00m\n\u001b[1;32m      2\u001b[0m convertf_command \u001b[38;5;241m=\u001b[39m \u001b[38;5;124mf\u001b[39m\u001b[38;5;124m\"\u001b[39m\u001b[38;5;132;01m{\u001b[39;00mos\u001b[38;5;241m.\u001b[39mpath\u001b[38;5;241m.\u001b[39mjoin(bin_dir,\u001b[38;5;250m \u001b[39m\u001b[38;5;124m'\u001b[39m\u001b[38;5;124mconvertf\u001b[39m\u001b[38;5;124m'\u001b[39m)\u001b[38;5;132;01m}\u001b[39;00m\u001b[38;5;124m -p \u001b[39m\u001b[38;5;132;01m{\u001b[39;00mconvertf_par_file\u001b[38;5;132;01m}\u001b[39;00m\u001b[38;5;124m\"\u001b[39m\n\u001b[0;32m----> 3\u001b[0m \u001b[43mrun_command\u001b[49m\u001b[43m(\u001b[49m\u001b[43mconvertf_command\u001b[49m\u001b[43m)\u001b[49m\n\u001b[1;32m      5\u001b[0m \u001b[38;5;28mprint\u001b[39m(\u001b[38;5;124m\"\u001b[39m\u001b[38;5;124mConversion completed successfully.\u001b[39m\u001b[38;5;124m\"\u001b[39m)\n",
      "Cell \u001b[0;32mIn[32], line 4\u001b[0m, in \u001b[0;36mrun_command\u001b[0;34m(command)\u001b[0m\n\u001b[1;32m      2\u001b[0m \u001b[38;5;28;01mdef\u001b[39;00m \u001b[38;5;21mrun_command\u001b[39m(command):\n\u001b[1;32m      3\u001b[0m     \u001b[38;5;28;01mtry\u001b[39;00m:\n\u001b[0;32m----> 4\u001b[0m         result \u001b[38;5;241m=\u001b[39m \u001b[43msubprocess\u001b[49m\u001b[38;5;241;43m.\u001b[39;49m\u001b[43mrun\u001b[49m\u001b[43m(\u001b[49m\u001b[43mcommand\u001b[49m\u001b[43m,\u001b[49m\u001b[43m \u001b[49m\u001b[43mshell\u001b[49m\u001b[38;5;241;43m=\u001b[39;49m\u001b[38;5;28;43;01mTrue\u001b[39;49;00m\u001b[43m,\u001b[49m\u001b[43m \u001b[49m\u001b[43mcheck\u001b[49m\u001b[38;5;241;43m=\u001b[39;49m\u001b[38;5;28;43;01mTrue\u001b[39;49;00m\u001b[43m,\u001b[49m\u001b[43m \u001b[49m\u001b[43mcapture_output\u001b[49m\u001b[38;5;241;43m=\u001b[39;49m\u001b[38;5;28;43;01mTrue\u001b[39;49;00m\u001b[43m,\u001b[49m\u001b[43m \u001b[49m\u001b[43mtext\u001b[49m\u001b[38;5;241;43m=\u001b[39;49m\u001b[38;5;28;43;01mTrue\u001b[39;49;00m\u001b[43m)\u001b[49m\n\u001b[1;32m      5\u001b[0m         \u001b[38;5;28mprint\u001b[39m(result\u001b[38;5;241m.\u001b[39mstdout)\n\u001b[1;32m      6\u001b[0m         \u001b[38;5;28mprint\u001b[39m(result\u001b[38;5;241m.\u001b[39mstderr)\n",
      "File \u001b[0;32m~/miniforge3/envs/aDNA_env/lib/python3.12/subprocess.py:571\u001b[0m, in \u001b[0;36mrun\u001b[0;34m(input, capture_output, timeout, check, *popenargs, **kwargs)\u001b[0m\n\u001b[1;32m    569\u001b[0m     retcode \u001b[38;5;241m=\u001b[39m process\u001b[38;5;241m.\u001b[39mpoll()\n\u001b[1;32m    570\u001b[0m     \u001b[38;5;28;01mif\u001b[39;00m check \u001b[38;5;129;01mand\u001b[39;00m retcode:\n\u001b[0;32m--> 571\u001b[0m         \u001b[38;5;28;01mraise\u001b[39;00m CalledProcessError(retcode, process\u001b[38;5;241m.\u001b[39margs,\n\u001b[1;32m    572\u001b[0m                                  output\u001b[38;5;241m=\u001b[39mstdout, stderr\u001b[38;5;241m=\u001b[39mstderr)\n\u001b[1;32m    573\u001b[0m \u001b[38;5;28;01mreturn\u001b[39;00m CompletedProcess(process\u001b[38;5;241m.\u001b[39margs, retcode, stdout, stderr)\n",
      "\u001b[0;31mCalledProcessError\u001b[0m: Command '/home/dodo/projects/aDNA_Comparative_Analysis/EIG/bin/convertf -p /home/dodo/projects/aDNA_Comparative_Analysis/output/EIG_output/par.ANCESTRYMAP.EIGENSTRAT' returned non-zero exit status 134."
     ]
    }
   ],
   "source": [
    "# Run convertf\n",
    "convertf_command = f\"{os.path.join(bin_dir, 'convertf')} -p {convertf_par_file}\"\n",
    "run_command(convertf_command)\n",
    "\n",
    "print(\"Conversion completed successfully.\")"
   ]
  },
  {
   "cell_type": "code",
   "execution_count": null,
   "id": "32723a33",
   "metadata": {
    "execution": {
     "iopub.execute_input": "2024-05-30T22:44:38.577719Z",
     "iopub.status.busy": "2024-05-30T22:44:38.577327Z",
     "iopub.status.idle": "2024-05-30T23:09:17.260705Z",
     "shell.execute_reply": "2024-05-30T23:09:17.260094Z"
    },
    "papermill": {
     "duration": 1478.688382,
     "end_time": "2024-05-30T23:09:17.262695",
     "exception": true,
     "start_time": "2024-05-30T22:44:38.574313",
     "status": "failed"
    },
    "tags": []
   },
   "outputs": [
    {
     "name": "stdout",
     "output_type": "stream",
     "text": [
      "Error running command: Command '/home/dodo/projects/aDNA_Comparative_Analysis/EIG/bin/smartpca -p /home/dodo/projects/aDNA_Comparative_Analysis/output/EIG_output/par.smartpca > /home/dodo/projects/aDNA_Comparative_Analysis/output/EIG_output/smartpca.log' returned non-zero exit status 134.\n",
      "Return code: 134\n",
      "Output: \n",
      "Stderr: fatalx:\n",
      "(makeeglist) You really want to analyse more than 1000 populations?\n",
      "Aborted (core dumped)\n",
      "\n"
     ]
    },
    {
     "ename": "CalledProcessError",
     "evalue": "Command '/home/dodo/projects/aDNA_Comparative_Analysis/EIG/bin/smartpca -p /home/dodo/projects/aDNA_Comparative_Analysis/output/EIG_output/par.smartpca > /home/dodo/projects/aDNA_Comparative_Analysis/output/EIG_output/smartpca.log' returned non-zero exit status 134.",
     "output_type": "error",
     "traceback": [
      "\u001b[0;31m---------------------------------------------------------------------------\u001b[0m",
      "\u001b[0;31mCalledProcessError\u001b[0m                        Traceback (most recent call last)",
      "Cell \u001b[0;32mIn[21], line 3\u001b[0m\n\u001b[1;32m      1\u001b[0m \u001b[38;5;66;03m# Run smartpca\u001b[39;00m\n\u001b[1;32m      2\u001b[0m smartpca_command \u001b[38;5;241m=\u001b[39m \u001b[38;5;124mf\u001b[39m\u001b[38;5;124m\"\u001b[39m\u001b[38;5;132;01m{\u001b[39;00mos\u001b[38;5;241m.\u001b[39mpath\u001b[38;5;241m.\u001b[39mjoin(bin_dir,\u001b[38;5;250m \u001b[39m\u001b[38;5;124m'\u001b[39m\u001b[38;5;124msmartpca\u001b[39m\u001b[38;5;124m'\u001b[39m)\u001b[38;5;132;01m}\u001b[39;00m\u001b[38;5;124m -p \u001b[39m\u001b[38;5;132;01m{\u001b[39;00msmartpca_par_file\u001b[38;5;132;01m}\u001b[39;00m\u001b[38;5;124m > \u001b[39m\u001b[38;5;132;01m{\u001b[39;00mos\u001b[38;5;241m.\u001b[39mpath\u001b[38;5;241m.\u001b[39mjoin(output_dir,\u001b[38;5;250m \u001b[39m\u001b[38;5;124m'\u001b[39m\u001b[38;5;124msmartpca.log\u001b[39m\u001b[38;5;124m'\u001b[39m)\u001b[38;5;132;01m}\u001b[39;00m\u001b[38;5;124m\"\u001b[39m\n\u001b[0;32m----> 3\u001b[0m \u001b[43mrun_command\u001b[49m\u001b[43m(\u001b[49m\u001b[43msmartpca_command\u001b[49m\u001b[43m)\u001b[49m\n",
      "Cell \u001b[0;32mIn[19], line 4\u001b[0m, in \u001b[0;36mrun_command\u001b[0;34m(command)\u001b[0m\n\u001b[1;32m      2\u001b[0m \u001b[38;5;28;01mdef\u001b[39;00m \u001b[38;5;21mrun_command\u001b[39m(command):\n\u001b[1;32m      3\u001b[0m     \u001b[38;5;28;01mtry\u001b[39;00m:\n\u001b[0;32m----> 4\u001b[0m         result \u001b[38;5;241m=\u001b[39m \u001b[43msubprocess\u001b[49m\u001b[38;5;241;43m.\u001b[39;49m\u001b[43mrun\u001b[49m\u001b[43m(\u001b[49m\u001b[43mcommand\u001b[49m\u001b[43m,\u001b[49m\u001b[43m \u001b[49m\u001b[43mshell\u001b[49m\u001b[38;5;241;43m=\u001b[39;49m\u001b[38;5;28;43;01mTrue\u001b[39;49;00m\u001b[43m,\u001b[49m\u001b[43m \u001b[49m\u001b[43mcheck\u001b[49m\u001b[38;5;241;43m=\u001b[39;49m\u001b[38;5;28;43;01mTrue\u001b[39;49;00m\u001b[43m,\u001b[49m\u001b[43m \u001b[49m\u001b[43mcapture_output\u001b[49m\u001b[38;5;241;43m=\u001b[39;49m\u001b[38;5;28;43;01mTrue\u001b[39;49;00m\u001b[43m,\u001b[49m\u001b[43m \u001b[49m\u001b[43mtext\u001b[49m\u001b[38;5;241;43m=\u001b[39;49m\u001b[38;5;28;43;01mTrue\u001b[39;49;00m\u001b[43m)\u001b[49m\n\u001b[1;32m      5\u001b[0m         \u001b[38;5;28mprint\u001b[39m(result\u001b[38;5;241m.\u001b[39mstdout)\n\u001b[1;32m      6\u001b[0m         \u001b[38;5;28mprint\u001b[39m(result\u001b[38;5;241m.\u001b[39mstderr)\n",
      "File \u001b[0;32m~/miniforge3/envs/aDNA_env/lib/python3.12/subprocess.py:571\u001b[0m, in \u001b[0;36mrun\u001b[0;34m(input, capture_output, timeout, check, *popenargs, **kwargs)\u001b[0m\n\u001b[1;32m    569\u001b[0m     retcode \u001b[38;5;241m=\u001b[39m process\u001b[38;5;241m.\u001b[39mpoll()\n\u001b[1;32m    570\u001b[0m     \u001b[38;5;28;01mif\u001b[39;00m check \u001b[38;5;129;01mand\u001b[39;00m retcode:\n\u001b[0;32m--> 571\u001b[0m         \u001b[38;5;28;01mraise\u001b[39;00m CalledProcessError(retcode, process\u001b[38;5;241m.\u001b[39margs,\n\u001b[1;32m    572\u001b[0m                                  output\u001b[38;5;241m=\u001b[39mstdout, stderr\u001b[38;5;241m=\u001b[39mstderr)\n\u001b[1;32m    573\u001b[0m \u001b[38;5;28;01mreturn\u001b[39;00m CompletedProcess(process\u001b[38;5;241m.\u001b[39margs, retcode, stdout, stderr)\n",
      "\u001b[0;31mCalledProcessError\u001b[0m: Command '/home/dodo/projects/aDNA_Comparative_Analysis/EIG/bin/smartpca -p /home/dodo/projects/aDNA_Comparative_Analysis/output/EIG_output/par.smartpca > /home/dodo/projects/aDNA_Comparative_Analysis/output/EIG_output/smartpca.log' returned non-zero exit status 134."
     ]
    }
   ],
   "source": [
    "# Run smartpca\n",
    "smartpca_command = f\"{os.path.join(bin_dir, 'smartpca')} -p {smartpca_par_file} > {os.path.join(output_dir, 'smartpca.log')}\"\n",
    "run_command(smartpca_command)\n",
    "\n"
   ]
  },
  {
   "cell_type": "code",
   "execution_count": null,
   "id": "9d8494bf",
   "metadata": {
    "papermill": {
     "duration": null,
     "end_time": null,
     "exception": null,
     "start_time": null,
     "status": "pending"
    },
    "tags": []
   },
   "outputs": [
    {
     "name": "stdout",
     "output_type": "stream",
     "text": [
      "Error running command: Command '/home/dodo/projects/aDNA_Comparative_Analysis/EIG/bin/smarteigenstrat -p /home/dodo/projects/aDNA_Comparative_Analysis/output/EIG_output/example.chisq.par > /home/dodo/projects/aDNA_Comparative_Analysis/output/EIG_output/smarteigenstrat.log' returned non-zero exit status 139.\n",
      "Return code: 139\n",
      "Output: \n",
      "Stderr: Segmentation fault (core dumped)\n",
      "\n"
     ]
    },
    {
     "ename": "CalledProcessError",
     "evalue": "Command '/home/dodo/projects/aDNA_Comparative_Analysis/EIG/bin/smarteigenstrat -p /home/dodo/projects/aDNA_Comparative_Analysis/output/EIG_output/example.chisq.par > /home/dodo/projects/aDNA_Comparative_Analysis/output/EIG_output/smarteigenstrat.log' returned non-zero exit status 139.",
     "output_type": "error",
     "traceback": [
      "\u001b[0;31m---------------------------------------------------------------------------\u001b[0m",
      "\u001b[0;31mCalledProcessError\u001b[0m                        Traceback (most recent call last)",
      "Cell \u001b[0;32mIn[13], line 3\u001b[0m\n\u001b[1;32m      1\u001b[0m \u001b[38;5;66;03m# Run smarteigenstrat with the parameter file\u001b[39;00m\n\u001b[1;32m      2\u001b[0m smarteigenstrat_command \u001b[38;5;241m=\u001b[39m \u001b[38;5;124mf\u001b[39m\u001b[38;5;124m\"\u001b[39m\u001b[38;5;132;01m{\u001b[39;00mos\u001b[38;5;241m.\u001b[39mpath\u001b[38;5;241m.\u001b[39mjoin(bin_dir,\u001b[38;5;250m \u001b[39m\u001b[38;5;124m'\u001b[39m\u001b[38;5;124msmarteigenstrat\u001b[39m\u001b[38;5;124m'\u001b[39m)\u001b[38;5;132;01m}\u001b[39;00m\u001b[38;5;124m -p \u001b[39m\u001b[38;5;132;01m{\u001b[39;00msmarteigenstrat_par_file\u001b[38;5;132;01m}\u001b[39;00m\u001b[38;5;124m > \u001b[39m\u001b[38;5;132;01m{\u001b[39;00mos\u001b[38;5;241m.\u001b[39mpath\u001b[38;5;241m.\u001b[39mjoin(output_dir,\u001b[38;5;250m \u001b[39m\u001b[38;5;124m'\u001b[39m\u001b[38;5;124msmarteigenstrat.log\u001b[39m\u001b[38;5;124m'\u001b[39m)\u001b[38;5;132;01m}\u001b[39;00m\u001b[38;5;124m\"\u001b[39m\n\u001b[0;32m----> 3\u001b[0m \u001b[43mrun_command\u001b[49m\u001b[43m(\u001b[49m\u001b[43msmarteigenstrat_command\u001b[49m\u001b[43m)\u001b[49m\n\u001b[1;32m      5\u001b[0m \u001b[38;5;66;03m# Output completion message\u001b[39;00m\n\u001b[1;32m      6\u001b[0m \u001b[38;5;28mprint\u001b[39m(\u001b[38;5;124m\"\u001b[39m\u001b[38;5;124mAnalysis complete. Check the generated files in the EIG_output directory.\u001b[39m\u001b[38;5;124m\"\u001b[39m)\n",
      "Cell \u001b[0;32mIn[11], line 4\u001b[0m, in \u001b[0;36mrun_command\u001b[0;34m(command)\u001b[0m\n\u001b[1;32m      2\u001b[0m \u001b[38;5;28;01mdef\u001b[39;00m \u001b[38;5;21mrun_command\u001b[39m(command):\n\u001b[1;32m      3\u001b[0m     \u001b[38;5;28;01mtry\u001b[39;00m:\n\u001b[0;32m----> 4\u001b[0m         result \u001b[38;5;241m=\u001b[39m \u001b[43msubprocess\u001b[49m\u001b[38;5;241;43m.\u001b[39;49m\u001b[43mrun\u001b[49m\u001b[43m(\u001b[49m\u001b[43mcommand\u001b[49m\u001b[43m,\u001b[49m\u001b[43m \u001b[49m\u001b[43mshell\u001b[49m\u001b[38;5;241;43m=\u001b[39;49m\u001b[38;5;28;43;01mTrue\u001b[39;49;00m\u001b[43m,\u001b[49m\u001b[43m \u001b[49m\u001b[43mcheck\u001b[49m\u001b[38;5;241;43m=\u001b[39;49m\u001b[38;5;28;43;01mTrue\u001b[39;49;00m\u001b[43m,\u001b[49m\u001b[43m \u001b[49m\u001b[43mcapture_output\u001b[49m\u001b[38;5;241;43m=\u001b[39;49m\u001b[38;5;28;43;01mTrue\u001b[39;49;00m\u001b[43m,\u001b[49m\u001b[43m \u001b[49m\u001b[43mtext\u001b[49m\u001b[38;5;241;43m=\u001b[39;49m\u001b[38;5;28;43;01mTrue\u001b[39;49;00m\u001b[43m)\u001b[49m\n\u001b[1;32m      5\u001b[0m         \u001b[38;5;28mprint\u001b[39m(result\u001b[38;5;241m.\u001b[39mstdout)\n\u001b[1;32m      6\u001b[0m         \u001b[38;5;28mprint\u001b[39m(result\u001b[38;5;241m.\u001b[39mstderr)\n",
      "File \u001b[0;32m~/miniforge3/envs/aDNA_env/lib/python3.12/subprocess.py:571\u001b[0m, in \u001b[0;36mrun\u001b[0;34m(input, capture_output, timeout, check, *popenargs, **kwargs)\u001b[0m\n\u001b[1;32m    569\u001b[0m     retcode \u001b[38;5;241m=\u001b[39m process\u001b[38;5;241m.\u001b[39mpoll()\n\u001b[1;32m    570\u001b[0m     \u001b[38;5;28;01mif\u001b[39;00m check \u001b[38;5;129;01mand\u001b[39;00m retcode:\n\u001b[0;32m--> 571\u001b[0m         \u001b[38;5;28;01mraise\u001b[39;00m CalledProcessError(retcode, process\u001b[38;5;241m.\u001b[39margs,\n\u001b[1;32m    572\u001b[0m                                  output\u001b[38;5;241m=\u001b[39mstdout, stderr\u001b[38;5;241m=\u001b[39mstderr)\n\u001b[1;32m    573\u001b[0m \u001b[38;5;28;01mreturn\u001b[39;00m CompletedProcess(process\u001b[38;5;241m.\u001b[39margs, retcode, stdout, stderr)\n",
      "\u001b[0;31mCalledProcessError\u001b[0m: Command '/home/dodo/projects/aDNA_Comparative_Analysis/EIG/bin/smarteigenstrat -p /home/dodo/projects/aDNA_Comparative_Analysis/output/EIG_output/example.chisq.par > /home/dodo/projects/aDNA_Comparative_Analysis/output/EIG_output/smarteigenstrat.log' returned non-zero exit status 139."
     ]
    }
   ],
   "source": [
    "# Run smarteigenstrat with the parameter file\n",
    "smarteigenstrat_command = f\"{os.path.join(bin_dir, 'smarteigenstrat')} -p {smarteigenstrat_par_file} > {os.path.join(output_dir, 'smarteigenstrat.log')}\"\n",
    "run_command(smarteigenstrat_command)\n",
    "\n",
    "# Output completion message\n",
    "print(\"Analysis complete. Check the generated files in the EIG_output directory.\")"
   ]
  },
  {
   "cell_type": "markdown",
   "id": "2816c448",
   "metadata": {
    "papermill": {
     "duration": null,
     "end_time": null,
     "exception": null,
     "start_time": null,
     "status": "pending"
    },
    "tags": []
   },
   "source": [
    "## PCA\n"
   ]
  },
  {
   "cell_type": "code",
   "execution_count": null,
   "id": "b258a782",
   "metadata": {
    "papermill": {
     "duration": null,
     "end_time": null,
     "exception": null,
     "start_time": null,
     "status": "pending"
    },
    "tags": []
   },
   "outputs": [],
   "source": [
    "!pwd"
   ]
  },
  {
   "cell_type": "code",
   "execution_count": null,
   "id": "5228bae3",
   "metadata": {
    "papermill": {
     "duration": null,
     "end_time": null,
     "exception": null,
     "start_time": null,
     "status": "pending"
    },
    "tags": []
   },
   "outputs": [],
   "source": [
    "import os\n",
    "import subprocess\n",
    "\n",
    "# Define the paths\n",
    "data_dir = \"/home/dodo/projects/aDNA_Comparative_Analysis/data/aadr/dataverse_files\"\n",
    "notebook_dir = \"/home/dodo/projects/aDNA_Comparative_Analysis/notebooks\"\n",
    "base_dir = os.path.abspath(\"../EIG\")\n",
    "out_dir = os.path.abspath(\"../output\")\n",
    "bin_dir = os.path.join(base_dir, \"bin\")\n",
    "\n",
    "# Define the output directory for EIGENSOFT analysis\n",
    "output_dir = os.path.join(out_dir, \"EIG_output\")\n",
    "os.makedirs(output_dir, exist_ok=True)\n",
    "\n",
    "# Set environment variables to ensure consistency\n",
    "os.environ['PATH'] = bin_dir + os.pathsep + os.environ['PATH']\n",
    "\n",
    "# File paths for the parameter files\n",
    "smartpca_par_file = os.path.join(output_dir, \"par.smartpca\")\n",
    "\n",
    "# Write the smartpca parameter file\n",
    "with open(smartpca_par_file, 'w') as f:\n",
    "    f.write(f\"\"\"genotypename:    {os.path.join(data_dir, \"aadr_v54.1.p1_1240K_public.geno\")}\n",
    "snpname:         {os.path.join(data_dir, \"aadr_v54.1.p1_1240K_public.snp\")}\n",
    "indivname:       {os.path.join(data_dir, \"aadr_v54.1.p1_1240K_public.ind\")}\n",
    "evecoutname:     {os.path.join(output_dir, \"aadr.pca.evec\")}\n",
    "evaloutname:     {os.path.join(output_dir, \"aadr.pca.eval\")}\n",
    "numoutevec:      10\"\"\")\n",
    "\n",
    "# Function to run a command and capture its output\n",
    "def run_command(command):\n",
    "    try:\n",
    "        result = subprocess.run(command, shell=True, check=True, capture_output=True, text=True)\n",
    "        print(f\"Command succeeded: {command}\")\n",
    "        print(\"Stdout:\\n\", result.stdout)\n",
    "        print(\"Stderr:\\n\", result.stderr)\n",
    "    except subprocess.CalledProcessError as e:\n",
    "        print(f\"Error running command: {e}\")\n",
    "        print(f\"Return code: {e.returncode}\")\n",
    "        print(f\"Output: {e.output}\")\n",
    "        print(f\"Stderr: {e.stderr}\")\n",
    "        raise\n",
    "\n",
    "# Verify the existence of input files\n",
    "input_files = [\n",
    "    os.path.join(data_dir, \"aadr_v54.1.p1_1240K_public.geno\"),\n",
    "    os.path.join(data_dir, \"aadr_v54.1.p1_1240K_public.snp\"),\n",
    "    os.path.join(data_dir, \"aadr_v54.1.p1_1240K_public.ind\")\n",
    "]\n",
    "for file in input_files:\n",
    "    if not os.path.exists(file) or os.path.getsize(file) == 0:\n",
    "        raise ValueError(f\"Input file {file} is missing or empty.\")\n",
    "\n",
    "# Run smartpca\n",
    "smartpca_command = f\"{os.path.join(bin_dir, 'smartpca')} -p {smartpca_par_file} > {os.path.join(output_dir, 'smartpca.log')}\"\n",
    "run_command(smartpca_command)\n",
    "\n",
    "# Run ploteig (assuming ploteig is available in the PATH)\n",
    "ploteig_command = f\"ploteig -i {os.path.join(output_dir, 'aadr.pca.evec')} -c 1:2 -p Case:Control -x -y -o {os.path.join(output_dir, 'aadr.plot.xtxt')}\"\n",
    "run_command(ploteig_command)\n"
   ]
  },
  {
   "cell_type": "code",
   "execution_count": null,
   "id": "8aa8110c",
   "metadata": {
    "papermill": {
     "duration": null,
     "end_time": null,
     "exception": null,
     "start_time": null,
     "status": "pending"
    },
    "tags": []
   },
   "outputs": [],
   "source": [
    "import os\n",
    "import pandas as pd\n",
    "import matplotlib.pyplot as plt\n",
    "import seaborn as sns\n",
    "\n",
    "# Paths to the files\n",
    "output_dir = \"/home/dodo/projects/aDNA_Comparative_Analysis/output/EIG_output\"\n",
    "evec_file = os.path.join(output_dir, \"aadr.pca.evec\")\n",
    "ind_file = os.path.join(output_dir, \"aadr.ind\")\n",
    "\n",
    "# Read the .evec file, skipping the first line and handling whitespace issues\n",
    "with open(evec_file, 'r') as f:\n",
    "    lines = f.readlines()\n",
    "\n",
    "# Skip the first line and split remaining lines into columns\n",
    "data = []\n",
    "for line in lines[1:]:\n",
    "    parts = line.split()\n",
    "    sample = parts[0]\n",
    "    pcs = list(map(float, parts[1:-1]))\n",
    "    population = parts[-1]\n",
    "    data.append([sample] + pcs + [population])\n",
    "\n",
    "# Create a DataFrame from the parsed data\n",
    "columns = ['Sample'] + [f'PC{i}' for i in range(1, len(data[0]) - 1)] + ['Population']\n",
    "evec_df = pd.DataFrame(data, columns=columns)\n",
    "\n",
    "# Read the .ind file to get the population information\n",
    "with open(ind_file, 'r') as f:\n",
    "    lines = f.readlines()\n",
    "\n",
    "# Parse the .ind file similarly\n",
    "ind_data = []\n",
    "for line in lines:\n",
    "    parts = line.split()\n",
    "    sample = parts[0]\n",
    "    sex = parts[1]\n",
    "    population = parts[2]\n",
    "    ind_data.append([sample, sex, population])\n",
    "\n",
    "# Create a DataFrame from the parsed .ind data\n",
    "ind_df = pd.DataFrame(ind_data, columns=['Sample', 'Sex', 'Population'])\n",
    "\n",
    "# Merge the DataFrames on the Sample column\n",
    "merged_df = pd.merge(evec_df, ind_df[['Sample', 'Population']], on='Sample')\n",
    "\n",
    "# Drop one of the duplicate Population columns\n",
    "merged_df = merged_df.drop(columns=['Population_y']).rename(columns={'Population_x': 'Population'})\n",
    "\n",
    "# Correcting the inversion by multiplying the principal components by -1\n",
    "merged_df[['PC1', 'PC2']] = merged_df[['PC1', 'PC2']] * -1\n",
    "\n",
    "# Plot the first two principal components using Seaborn\n",
    "plt.figure(figsize=(10, 10))\n",
    "\n",
    "# Adjusting the axis limits and markers to match the example plot\n",
    "sns.scatterplot(\n",
    "    data=merged_df, \n",
    "    x='PC1', \n",
    "    y='PC2', \n",
    "    hue='Population', \n",
    "    style='Population', \n",
    "    markers={'Case': 'P', 'Control': 'X'}, \n",
    "    s=80, \n",
    "    alpha=0.9, \n",
    "    palette={'Case': 'red', 'Control': 'green'}\n",
    ")\n",
    "\n",
    "plt.xlabel('eigenvector 1')\n",
    "plt.ylabel('eigenvector 2')\n",
    "plt.title('PCA Plot')\n",
    "plt.legend(title='Population', loc='upper right')\n",
    "plt.grid(True)\n",
    "plt.xlim(-0.6, 0.8)\n",
    "plt.ylim(-0.8, 0.8)\n",
    "plt.gca().set_aspect('equal', adjustable='box')\n",
    "plt.show()\n"
   ]
  },
  {
   "cell_type": "markdown",
   "id": "f4254411",
   "metadata": {},
   "source": [
    "## V2\n"
   ]
  },
  {
   "cell_type": "markdown",
   "id": "ce08cf33",
   "metadata": {},
   "source": [
    "Step 1: Convert the Binary .geno File to Text Format"
   ]
  },
  {
   "cell_type": "markdown",
   "id": "028db719",
   "metadata": {},
   "source": [
    "Parameter File for convertf"
   ]
  },
  {
   "cell_type": "code",
   "execution_count": 45,
   "id": "6e398692",
   "metadata": {},
   "outputs": [],
   "source": [
    "# genotypename:    ../data/aadr/dataverse_files/aadr_v54.1.p1_1240K_public.geno\n",
    "# snpname:         ../data/aadr/dataverse_files/aadr_v54.1.p1_1240K_public.snp\n",
    "# indivname:       ../data/aadr/dataverse_files/aadr_v54.1.p1_1240K_public.ind\n",
    "# outputformat:    EIGENSTRAT\n",
    "# genooutfilename: ../output/EIG_output/aadr_v54.1.p1_1240K_public.eigenstratgeno\n",
    "# snpoutfilename:  ../output/EIG_output/aadr_v54.1.p1_1240K_public.snp\n",
    "# indoutfilename:  ../output/EIG_output/aadr_v54.1.p1_1240K_public.ind\n"
   ]
  },
  {
   "cell_type": "markdown",
   "id": "3bc954c1",
   "metadata": {},
   "source": [
    "Convert the File Using convertf"
   ]
  },
  {
   "cell_type": "code",
   "execution_count": 43,
   "id": "0d1dae61",
   "metadata": {},
   "outputs": [
    {
     "name": "stdout",
     "output_type": "stream",
     "text": [
      "parameter file: /home/dodo/projects/aDNA_Comparative_Analysis/output/EIG_output/par.PACKEDANCESTRYMAP.EIGENSTRAT\n",
      "genotypename: /home/dodo/projects/aDNA_Comparative_Analysis/data/aadr/dataverse_files/aadr_v54.1.p1_1240K_public.geno\n",
      "snpname: /home/dodo/projects/aDNA_Comparative_Analysis/data/aadr/dataverse_files/aadr_v54.1.p1_1240K_public.snp\n",
      "indivname: /home/dodo/projects/aDNA_Comparative_Analysis/data/aadr/dataverse_files/aadr_v54.1.p1_1240K_public.ind\n",
      "outputformat: EIGENSTRAT\n",
      "genooutfilename: /home/dodo/projects/aDNA_Comparative_Analysis/output/EIG_output/aadr_v54.1.p1_1240K_public.eigenstratgeno\n",
      "snpoutfilename: /home/dodo/projects/aDNA_Comparative_Analysis/output/EIG_output/aadr_v54.1.p1_1240K_public.eigenstrat.snp\n",
      "indoutfilename: /home/dodo/projects/aDNA_Comparative_Analysis/output/EIG_output/aadr_v54.1.p1_1240K_public.eigenstrat.ind\n",
      "## /home/dodo/projects/aDNA_Comparative_Analysis/EIG/bin/convertf version: 5000\n",
      "read 1073741824 bytes\n",
      "read 2147483648 bytes\n",
      "read 3221225472 bytes\n",
      "read 4294967296 bytes\n",
      "read 5052887274 bytes\n",
      "packed geno read OK\n",
      "end of inpack\n",
      "numvalidind:  16389  maxmiss: 16389001\n",
      "eigenstrat output\n",
      "##end of convertf run\n",
      "\n",
      "\n",
      "Conversion to EIGENSTRAT format completed successfully.\n"
     ]
    }
   ],
   "source": [
    "import os\n",
    "import subprocess\n",
    "\n",
    "# Define the paths\n",
    "base_dir = os.path.abspath(\"../EIG\")\n",
    "data_dir = os.path.abspath(\"../data/aadr/dataverse_files\")\n",
    "output_dir = os.path.abspath(\"../output/EIG_output\")\n",
    "bin_dir = os.path.join(base_dir, \"bin\")\n",
    "os.makedirs(output_dir, exist_ok=True)\n",
    "\n",
    "# Path to the parameter file\n",
    "convertf_par_file = os.path.join(output_dir, \"par.PACKEDANCESTRYMAP.EIGENSTRAT\")\n",
    "\n",
    "# Create the parameter file\n",
    "with open(convertf_par_file, 'w') as f:\n",
    "    f.write(f\"\"\"genotypename: {os.path.join(data_dir, 'aadr_v54.1.p1_1240K_public.geno')}\n",
    "snpname: {os.path.join(data_dir, 'aadr_v54.1.p1_1240K_public.snp')}\n",
    "indivname: {os.path.join(data_dir, 'aadr_v54.1.p1_1240K_public.ind')}\n",
    "outputformat: EIGENSTRAT\n",
    "genooutfilename: {os.path.join(output_dir, 'aadr_v54.1.p1_1240K_public.eigenstratgeno')}\n",
    "snpoutfilename: {os.path.join(output_dir, 'aadr_v54.1.p1_1240K_public.eigenstrat.snp')}\n",
    "indoutfilename: {os.path.join(output_dir, 'aadr_v54.1.p1_1240K_public.eigenstrat.ind')}\"\"\")\n",
    "\n",
    "# Function to run a command and capture its output\n",
    "def run_command(command):\n",
    "    try:\n",
    "        result = subprocess.run(command, shell=True, check=True, capture_output=True, text=True)\n",
    "        print(result.stdout)\n",
    "        print(result.stderr)\n",
    "    except subprocess.CalledProcessError as e:\n",
    "        print(f\"Error running command: {e}\")\n",
    "        print(f\"Return code: {e.returncode}\")\n",
    "        print(f\"Output: {e.output}\")\n",
    "        print(f\"Stderr: {e.stderr}\")\n",
    "        raise\n",
    "\n",
    "# Run convertf\n",
    "convertf_command = f\"{os.path.join(bin_dir, 'convertf')} -p {convertf_par_file}\"\n",
    "run_command(convertf_command)\n",
    "print(\"Conversion to EIGENSTRAT format completed successfully.\")\n"
   ]
  },
  {
   "cell_type": "markdown",
   "id": "736b4ed2",
   "metadata": {},
   "source": [
    "Step 2: Process the Converted .geno File"
   ]
  },
  {
   "cell_type": "markdown",
   "id": "a5913978",
   "metadata": {},
   "source": [
    "Shorten the Converted .geno File"
   ]
  },
  {
   "cell_type": "code",
   "execution_count": 46,
   "id": "d618483d",
   "metadata": {},
   "outputs": [
    {
     "name": "stdout",
     "output_type": "stream",
     "text": [
      "Created shortened snp file: /home/dodo/projects/aDNA_Comparative_Analysis/output/EIG_output/aadr_v54.1.p1_1240K_public_short_50.snp\n",
      "Created shortened ind file: /home/dodo/projects/aDNA_Comparative_Analysis/output/EIG_output/aadr_v54.1.p1_1240K_public_short_50.ind\n",
      "Created shortened geno file: /home/dodo/projects/aDNA_Comparative_Analysis/output/EIG_output/aadr_v54.1.p1_1240K_public_short_50.geno\n"
     ]
    }
   ],
   "source": [
    "import os\n",
    "\n",
    "# Define the paths\n",
    "data_dir = os.path.abspath(\"../output/EIG_output\")\n",
    "output_dir = os.path.abspath(\"../output/EIG_output\")\n",
    "os.makedirs(output_dir, exist_ok=True)\n",
    "\n",
    "# Input file paths\n",
    "geno_file = os.path.join(data_dir, \"aadr_v54.1.p1_1240K_public.eigenstratgeno\")\n",
    "snp_file = os.path.join(data_dir, \"aadr_v54.1.p1_1240K_public.eigenstrat.snp\")\n",
    "ind_file = os.path.join(data_dir, \"aadr_v54.1.p1_1240K_public.eigenstrat.ind\")\n",
    "\n",
    "# Output file paths\n",
    "short_geno_file = os.path.join(output_dir, \"aadr_v54.1.p1_1240K_public_short_50.geno\")\n",
    "short_snp_file = os.path.join(output_dir, \"aadr_v54.1.p1_1240K_public_short_50.snp\")\n",
    "short_ind_file = os.path.join(output_dir, \"aadr_v54.1.p1_1240K_public_short_50.ind\")\n",
    "\n",
    "# Number of SNPs and individuals to keep\n",
    "n_snps = 50\n",
    "n_individuals = 50\n",
    "\n",
    "# Check if input files exist\n",
    "for file in [geno_file, snp_file, ind_file]:\n",
    "    if not os.path.exists(file):\n",
    "        raise FileNotFoundError(f\"Input file not found: {file}\")\n",
    "\n",
    "# Shorten the .snp file\n",
    "with open(snp_file, 'r') as infile, open(short_snp_file, 'w') as outfile:\n",
    "    for i, line in enumerate(infile):\n",
    "        if i >= n_snps:\n",
    "            break\n",
    "        outfile.write(line)\n",
    "print(f\"Created shortened snp file: {short_snp_file}\")\n",
    "\n",
    "# Shorten the .ind file\n",
    "with open(ind_file, 'r') as infile, open(short_ind_file, 'w') as outfile:\n",
    "    for i, line in enumerate(infile):\n",
    "        if i >= n_individuals:\n",
    "            break\n",
    "        outfile.write(line)\n",
    "print(f\"Created shortened ind file: {short_ind_file}\")\n",
    "\n",
    "# Process the .geno file\n",
    "with open(geno_file, 'r') as infile, open(short_geno_file, 'w') as outfile:\n",
    "    snp_count = 0\n",
    "    for line in infile:\n",
    "        # Write only the first n_individuals characters of each line\n",
    "        outfile.write(line[:n_individuals] + '\\n')\n",
    "        snp_count += 1\n",
    "        if snp_count >= n_snps:\n",
    "            break\n",
    "print(f\"Created shortened geno file: {short_geno_file}\")\n"
   ]
  },
  {
   "cell_type": "markdown",
   "id": "caf570c2",
   "metadata": {},
   "source": [
    "Step 3: Use the Shortened Files in the EIG Analysis Script"
   ]
  },
  {
   "cell_type": "code",
   "execution_count": 47,
   "id": "d3eb4b3a",
   "metadata": {},
   "outputs": [
    {
     "name": "stdout",
     "output_type": "stream",
     "text": [
      "parameter file: /home/dodo/projects/aDNA_Comparative_Analysis/output/EIG_output/par.ANCESTRYMAP.EIGENSTRAT\n",
      "genotypename: /home/dodo/projects/aDNA_Comparative_Analysis/output/EIG_output/aadr_v54.1.p1_1240K_public_short_50.geno\n",
      "snpname: /home/dodo/projects/aDNA_Comparative_Analysis/output/EIG_output/aadr_v54.1.p1_1240K_public_short_50.snp\n",
      "indivname: /home/dodo/projects/aDNA_Comparative_Analysis/output/EIG_output/aadr_v54.1.p1_1240K_public_short_50.ind\n",
      "outputformat: EIGENSTRAT\n",
      "genooutfilename: /home/dodo/projects/aDNA_Comparative_Analysis/output/EIG_output/aadr_short_50.eigenstratgeno\n",
      "snpoutfilename: /home/dodo/projects/aDNA_Comparative_Analysis/output/EIG_output/aadr_short_50.snp\n",
      "indoutfilename: /home/dodo/projects/aDNA_Comparative_Analysis/output/EIG_output/aadr_short_50.ind\n",
      "## /home/dodo/projects/aDNA_Comparative_Analysis/EIG/bin/convertf version: 5000\n",
      "no data for individual: I17622\n",
      "no data for individual: I19479_in.preparation\n",
      "numvalidind:     48  maxmiss: 48001\n",
      "eigenstrat output\n",
      "##end of convertf run\n",
      "\n",
      "\n",
      "Conversion completed successfully.\n"
     ]
    }
   ],
   "source": [
    "import os\n",
    "import subprocess\n",
    "\n",
    "# Define the paths\n",
    "base_dir = os.path.abspath(\"../EIG\")\n",
    "data_dir = os.path.abspath(\"../output/EIG_output\")\n",
    "output_dir = os.path.abspath(\"../output/EIG_output\")\n",
    "bin_dir = os.path.join(base_dir, \"bin\")\n",
    "os.makedirs(output_dir, exist_ok=True)\n",
    "\n",
    "# Set environment variables to ensure consistency\n",
    "os.environ['PATH'] = bin_dir + os.pathsep + os.environ['PATH']\n",
    "\n",
    "# File paths for the parameter files\n",
    "convertf_par_file = os.path.join(output_dir, \"par.ANCESTRYMAP.EIGENSTRAT\")\n",
    "\n",
    "# Input file paths (shorter versions)\n",
    "geno_file = os.path.join(output_dir, \"aadr_v54.1.p1_1240K_public_short_50.geno\")\n",
    "snp_file = os.path.join(output_dir, \"aadr_v54.1.p1_1240K_public_short_50.snp\")\n",
    "ind_file = os.path.join(output_dir, \"aadr_v54.1.p1_1240K_public_short_50.ind\")\n",
    "\n",
    "# Check if input files exist\n",
    "for file in [geno_file, snp_file, ind_file]:\n",
    "    if not os.path.exists(file):\n",
    "        raise FileNotFoundError(f\"Input file not found: {file}\")\n",
    "\n",
    "# Write the convertf parameter file\n",
    "with open(convertf_par_file, 'w') as f:\n",
    "    f.write(f\"\"\"genotypename: {geno_file}\n",
    "snpname: {snp_file}\n",
    "indivname: {ind_file}\n",
    "outputformat: EIGENSTRAT\n",
    "genooutfilename: {os.path.join(output_dir, \"aadr_short_50.eigenstratgeno\")}\n",
    "snpoutfilename: {os.path.join(output_dir, \"aadr_short_50.snp\")}\n",
    "indoutfilename: {os.path.join(output_dir, \"aadr_short_50.ind\")}\"\"\")\n",
    "\n",
    "# Function to run a command and capture its output\n",
    "def run_command(command):\n",
    "    try:\n",
    "        result = subprocess.run(command, shell=True, check=True, capture_output=True, text=True)\n",
    "        print(result.stdout)\n",
    "        print(result.stderr)\n",
    "    except subprocess.CalledProcessError as e:\n",
    "        print(f\"Error running command: {e}\")\n",
    "        print(f\"Return code: {e.returncode}\")\n",
    "        print(f\"Output: {e.output}\")\n",
    "        print(f\"Stderr: {e.stderr}\")\n",
    "        raise\n",
    "\n",
    "# Run convertf\n",
    "convertf_command = f\"{os.path.join(bin_dir, 'convertf')} -p {convertf_par_file}\"\n",
    "run_command(convertf_command)\n",
    "print(\"Conversion completed successfully.\")\n"
   ]
  },
  {
   "cell_type": "markdown",
   "id": "bd4ed99a",
   "metadata": {},
   "source": [
    "Step 1: Prepare the SmartPCA Parameter File"
   ]
  },
  {
   "cell_type": "code",
   "execution_count": 48,
   "id": "510a70d2",
   "metadata": {},
   "outputs": [
    {
     "name": "stdout",
     "output_type": "stream",
     "text": [
      "SmartPCA analysis completed successfully.\n"
     ]
    }
   ],
   "source": [
    "import os\n",
    "import subprocess\n",
    "\n",
    "# Define the paths\n",
    "notebook_dir = os.path.abspath(\".\")\n",
    "output_dir = os.path.abspath(\"../output/EIG_output\")\n",
    "bin_dir = os.path.abspath(\"../EIG/bin\")\n",
    "\n",
    "# File paths for the parameter files\n",
    "smartpca_par_file = os.path.join(notebook_dir, \"par.smartpca\")\n",
    "\n",
    "# Write the SmartPCA parameter file\n",
    "with open(smartpca_par_file, 'w') as f:\n",
    "    f.write(f\"\"\"genotypename:    {os.path.join(output_dir, \"aadr_v54.1.p1_1240K_public_short_50.geno\")}\n",
    "snpname:         {os.path.join(output_dir, \"aadr_v54.1.p1_1240K_public_short_50.snp\")}\n",
    "indivname:       {os.path.join(output_dir, \"aadr_v54.1.p1_1240K_public_short_50.ind\")}\n",
    "evecoutname:     {os.path.join(output_dir, \"aadr_v54.1.p1_1240K_public_short_50.pca.evec\")}\n",
    "evaloutname:     {os.path.join(output_dir, \"aadr_v54.1.p1_1240K_public_short_50.pca.eval\")}\n",
    "numoutevec:      10\"\"\")\n",
    "\n",
    "# Run SmartPCA\n",
    "smartpca_command = os.path.join(bin_dir, \"smartpca\") + \" -p \" + smartpca_par_file + \" > \" + os.path.join(output_dir, \"smartpca.log\")\n",
    "subprocess.run(smartpca_command, shell=True, check=True)\n",
    "\n",
    "print(\"SmartPCA analysis completed successfully.\")\n"
   ]
  },
  {
   "cell_type": "markdown",
   "id": "3254b6ca",
   "metadata": {},
   "source": [
    "Step 2: Plot the PCA Results"
   ]
  },
  {
   "cell_type": "code",
   "execution_count": 49,
   "id": "a865893f",
   "metadata": {},
   "outputs": [
    {
     "data": {
      "image/png": "[encoded data removed]",
      "text/plain": [
       "<Figure size 1000x1000 with 1 Axes>"
      ]
     },
     "metadata": {},
     "output_type": "display_data"
    }
   ],
   "source": [
    "import pandas as pd\n",
    "import matplotlib.pyplot as plt\n",
    "import seaborn as sns\n",
    "\n",
    "# Paths to the files\n",
    "evec_file = os.path.join(output_dir, \"aadr_v54.1.p1_1240K_public_short_50.pca.evec\")\n",
    "ind_file = os.path.join(output_dir, \"aadr_v54.1.p1_1240K_public_short_50.ind\")\n",
    "\n",
    "# Read the .evec file, skipping the first line and handling whitespace issues\n",
    "with open(evec_file, 'r') as f:\n",
    "    lines = f.readlines()\n",
    "\n",
    "# Skip the first line and split remaining lines into columns\n",
    "data = []\n",
    "for line in lines[1:]:\n",
    "    parts = line.split()\n",
    "    sample = parts[0]\n",
    "    pcs = list(map(float, parts[1:-1]))\n",
    "    population = parts[-1]\n",
    "    data.append([sample] + pcs + [population])\n",
    "\n",
    "# Create a DataFrame from the parsed data\n",
    "columns = ['Sample'] + [f'PC{i}' for i in range(1, len(data[0]) - 1)] + ['Population']\n",
    "evec_df = pd.DataFrame(data, columns=columns)\n",
    "\n",
    "# Read the .ind file to get the population information\n",
    "with open(ind_file, 'r') as f:\n",
    "    lines = f.readlines()\n",
    "\n",
    "# Parse the .ind file similarly\n",
    "ind_data = []\n",
    "for line in lines:\n",
    "    parts = line.split()\n",
    "    sample = parts[0]\n",
    "    sex = parts[1]\n",
    "    population = parts[2]\n",
    "    ind_data.append([sample, sex, population])\n",
    "\n",
    "# Create a DataFrame from the parsed .ind data\n",
    "ind_df = pd.DataFrame(ind_data, columns=['Sample', 'Sex', 'Population'])\n",
    "\n",
    "# Merge the DataFrames on the Sample column\n",
    "merged_df = pd.merge(evec_df, ind_df[['Sample', 'Population']], on='Sample')\n",
    "\n",
    "# Drop one of the duplicate Population columns\n",
    "merged_df = merged_df.drop(columns=['Population_y']).rename(columns={'Population_x': 'Population'})\n",
    "\n",
    "# Plot the first two principal components using Seaborn\n",
    "plt.figure(figsize=(10, 10))\n",
    "\n",
    "# Adjusting the axis limits and markers to match the example plot\n",
    "sns.scatterplot(\n",
    "    data=merged_df, \n",
    "    x='PC1', \n",
    "    y='PC2', \n",
    "    hue='Population', \n",
    "    style='Population', \n",
    "    s=80, \n",
    "    alpha=0.9\n",
    ")\n",
    "\n",
    "plt.xlabel('eigenvector 1')\n",
    "plt.ylabel('eigenvector 2') \n",
    "plt.title('PCA Plot')\n",
    "plt.legend(title='Population', loc='upper right')\n",
    "plt.grid(True)\n",
    "plt.show()\n"
   ]
  }
 ],
 "metadata": {
  "kernelspec": {
   "display_name": "aDNA_env",
   "language": "python",
   "name": "python3"
  },
  "language_info": {
   "codemirror_mode": {
    "name": "ipython",
    "version": 3
   },
   "file_extension": ".py",
   "mimetype": "text/x-python",
   "name": "python",
   "nbconvert_exporter": "python",
   "pygments_lexer": "ipython3",
   "version": "3.12.2"
  },
  "papermill": {
   "default_parameters": {},
   "duration": 2492.357188,
   "end_time": "2024-05-30T23:09:17.481305",
   "environment_variables": {},
   "exception": true,
   "input_path": "EIG_with_AADR.ipynb",
   "output_path": "EIG_with_AADR.ipynb",
   "parameters": {},
   "start_time": "2024-05-30T22:27:45.124117",
   "version": "2.6.0"
  }
 },
 "nbformat": 4,
 "nbformat_minor": 5
}
